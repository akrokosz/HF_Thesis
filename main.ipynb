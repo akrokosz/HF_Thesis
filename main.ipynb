{
 "cells": [
  {
   "metadata": {
    "ExecuteTime": {
     "end_time": "2025-01-29T18:19:10.315697Z",
     "start_time": "2025-01-29T18:19:00.878724Z"
    }
   },
   "cell_type": "code",
   "source": [
    "import datetime\n",
    "from collections import defaultdict\n",
    "import warnings\n",
    "import pickle\n",
    "from scipy.optimize import minimize\n",
    "from pytorch_forecasting.models.temporal_fusion_transformer.tuning import optimize_hyperparameters\n",
    "from lightning.pytorch.callbacks import ModelCheckpoint\n",
    "import stock_indicators as sa\n",
    "import lightning.pytorch as pl\n",
    "from lightning.pytorch.callbacks import EarlyStopping, LearningRateMonitor\n",
    "from lightning.pytorch.loggers import TensorBoardLogger\n",
    "import pandas as pd\n",
    "from pytorch_forecasting import TemporalFusionTransformer, TimeSeriesDataSet\n",
    "from pytorch_forecasting.data import GroupNormalizer\n",
    "from pytorch_forecasting.metrics import QuantileLoss\n",
    "import yfinance as yf\n",
    "from stock_indicators import Quote\n",
    "from sklearn.metrics import mean_squared_error\n",
    "from matplotlib import pyplot as plt\n",
    "import numpy as np\n",
    "from scipy.stats import norm\n",
    "from stock_indicators.indicators.common.enums import PeriodSize\n",
    "from statsmodels.tsa.arima.model import ARIMA\n",
    "from statsforecast import StatsForecast\n",
    "from statsforecast.models import GARCH\n",
    "\n",
    "warnings.filterwarnings(\"ignore\")\n",
    "pd.set_option('display.float_format', '{:.6f}'.format)"
   ],
   "id": "3c90b611390ee8de",
   "outputs": [],
   "execution_count": 1
  },
  {
   "metadata": {},
   "cell_type": "code",
   "source": [
    "import torch\n",
    "torch.cuda.is_available()\n",
    "torch.cuda.get_device_name(0)"
   ],
   "id": "8846a25b7dda105f",
   "outputs": [],
   "execution_count": null
  },
  {
   "metadata": {
    "ExecuteTime": {
     "end_time": "2025-01-29T18:19:44.780178Z",
     "start_time": "2025-01-29T18:19:44.766758Z"
    }
   },
   "cell_type": "code",
   "source": "funds_w_names = defaultdict(pd.DataFrame)",
   "id": "8377db868b786443",
   "outputs": [],
   "execution_count": 2
  },
  {
   "metadata": {
    "ExecuteTime": {
     "end_time": "2025-01-29T18:19:45.056387Z",
     "start_time": "2025-01-29T18:19:45.043988Z"
    }
   },
   "cell_type": "code",
   "source": [
    "etf_names = ['IE0005042456', 'EDMU.SW', 'EDG2.L', '36BA.DE', 'CBUS.DE', 'EWSA.AS','IE00B0M62X26','IE00B14X4Q57','IE00B1XNHC34','IE00B3FH7618','IE00B3ZW0K18','IE00B52MJY50','IE00B5M4WH52','IE00B66F4759','EMBE.L', 'DTLE.L','IE00BDFK1573','IBC5.DE','IE00BFNM3G45','IE00BHZPJ015','IE00BHZPJ452','IE00BHZPJ783',\n",
    "'IE00BLDGH553','IE00BMG6Z448','IE00BYYHSM20','IE00BYZTVT56','IE00BZ173V67','IE00BZ1NCS44','ISVIF', \"IESE.AS\", \"UEEF.DE\"]"
   ],
   "id": "34c1390d5ef60c75",
   "outputs": [],
   "execution_count": 3
  },
  {
   "metadata": {
    "ExecuteTime": {
     "end_time": "2025-01-29T18:19:56.387759Z",
     "start_time": "2025-01-29T18:19:45.308851Z"
    }
   },
   "cell_type": "code",
   "source": [
    "for fund in etf_names:\n",
    "    print(fund)\n",
    "    a = (pd.DataFrame(yf.Ticker(fund).history(start=\"2023-01-03\", end=\"2024-01-01\")))\n",
    "    a.index = pd.to_datetime(a.index)\n",
    "    a.index = a.index.normalize()\n",
    "    full_date_range = pd.date_range(start=a.index.min(), end=a.index.max(), freq=\"D\")\n",
    "    a = a.reindex(full_date_range)\n",
    "\n",
    "    a[\"Return\"] = a[\"Close\"].pct_change()\n",
    "    a[\"Rolling Volatility\"] = a[\"Return\"].rolling(7).std()\n",
    "\n",
    "    a.fillna(method=\"bfill\", inplace=True)\n",
    "    if fund != 'ISVIF':\n",
    "        a.drop([\"Dividends\", \"Stock Splits\", \"Capital Gains\"], inplace=True, axis=1)\n",
    "    else:\n",
    "        a.drop([\"Dividends\", \"Stock Splits\"], inplace=True, axis=1)\n",
    "    a.index = pd.to_datetime(a.index, utc=True)\n",
    "    if a.index.hour[0] == 0:\n",
    "        a.index = a.index + datetime.timedelta(hours=-1)\n",
    "    a.index = a.index.normalize()\n",
    "\n",
    "    a = a.sort_index()\n",
    "\n",
    "    a[\"time_idx\"] = (a.index - a.index.min()).days\n",
    "    a[\"group_id\"] = fund\n",
    "    funds_w_names[fund] = a"
   ],
   "id": "9bae2e5bcf011ed5",
   "outputs": [
    {
     "name": "stdout",
     "output_type": "stream",
     "text": [
      "IE0005042456\n",
      "EDMU.SW\n",
      "EDG2.L\n",
      "36BA.DE\n",
      "CBUS.DE\n",
      "EWSA.AS\n",
      "IE00B0M62X26\n",
      "IE00B14X4Q57\n",
      "IE00B1XNHC34\n",
      "IE00B3FH7618\n",
      "IE00B3ZW0K18\n",
      "IE00B52MJY50\n",
      "IE00B5M4WH52\n",
      "IE00B66F4759\n",
      "EMBE.L\n",
      "DTLE.L\n",
      "IE00BDFK1573\n",
      "IBC5.DE\n",
      "IE00BFNM3G45\n",
      "IE00BHZPJ015\n",
      "IE00BHZPJ452\n",
      "IE00BHZPJ783\n",
      "IE00BLDGH553\n",
      "IE00BMG6Z448\n",
      "IE00BYYHSM20\n",
      "IE00BYZTVT56\n",
      "IE00BZ173V67\n",
      "IE00BZ1NCS44\n",
      "ISVIF\n",
      "IESE.AS\n",
      "UEEF.DE\n"
     ]
    }
   ],
   "execution_count": 4
  },
  {
   "metadata": {},
   "cell_type": "code",
   "source": "# pickle.dump(funds_w_names, open('funds_w_names.pkl', 'wb'))",
   "id": "9dbcfabef3c7ada3",
   "outputs": [],
   "execution_count": null
  },
  {
   "metadata": {},
   "cell_type": "code",
   "source": [
    "# import pickle\n",
    "# pickle.dump(funds_w_names, open('funds_w_names_2.pkl', 'wb'))"
   ],
   "id": "1b6823a10b1ab60",
   "outputs": [],
   "execution_count": null
  },
  {
   "metadata": {},
   "cell_type": "code",
   "source": "funds_w_names = pd.read_pickle('funds_w_names_2.pkl')",
   "id": "f76aeccbc6a1190e",
   "outputs": [],
   "execution_count": null
  },
  {
   "metadata": {},
   "cell_type": "code",
   "source": [
    "# def portfolio_factory(etfs: list):\n",
    "#     #giga_fund = pd.DataFrame()\n",
    "#     for c, ff in enumerate(etfs):\n",
    "#         #f = ff.copy()\n",
    "#\n",
    "#         ff.index = pd.to_datetime(ff.index, utc=True)\n",
    "#         if ff.index.hour[0]==0:\n",
    "#             ff.index = ff.index+datetime.timedelta(hours=-1)\n",
    "#         ff.index = ff.index.normalize()\n",
    "#\n",
    "#         ff = ff.sort_index()\n",
    "#\n",
    "#         ff[\"time_idx\"] = (ff.index - ff.index.min()).days\n",
    "#         ff[\"group_id\"] = c\n",
    "#         #f = f.reset_index()\n",
    "#\n",
    "#         #giga_fund = pd.concat([giga_fund, f], ignore_index=True)\n",
    "#     #return giga_fund"
   ],
   "id": "1b00448a032f62d6",
   "outputs": [],
   "execution_count": null
  },
  {
   "metadata": {
    "ExecuteTime": {
     "end_time": "2025-01-29T18:19:56.449263Z",
     "start_time": "2025-01-29T18:19:56.412559Z"
    }
   },
   "cell_type": "code",
   "source": [
    "def technical_indicators_factory(etfs: list, names: list):\n",
    "    indicators_per_fund = defaultdict(pd.DataFrame)\n",
    "    figs = []\n",
    "\n",
    "    for id, f in enumerate(etfs):\n",
    "        quotes_for_f = [\n",
    "            Quote(\n",
    "                date=row.Index,\n",
    "                open=row.Open,\n",
    "                high=row.High,\n",
    "                low=row.Low,\n",
    "                close=row.Close,\n",
    "                volume=row.Volume\n",
    "            )\n",
    "            for row in f.itertuples()]\n",
    "\n",
    "\n",
    "        macd_for_f = sa.indicators.get_macd(quotes=quotes_for_f)\n",
    "        valid_macd_for_f = [\n",
    "            (result.date, result.macd, result.signal, result.histogram)\n",
    "            for result in macd_for_f\n",
    "            if result.macd is not None and result.signal is not None and result.histogram is not None\n",
    "        ]\n",
    "        macd_dates, macd_values, macd_signal, macd_histogram = zip(*valid_macd_for_f)\n",
    "\n",
    "\n",
    "        rsi_for_f = sa.indicators.get_rsi(quotes=quotes_for_f)\n",
    "        valid_rsi_for_f = [\n",
    "            (result.date, result.rsi)\n",
    "            for result in rsi_for_f\n",
    "            if result.date is not None and result.rsi is not None\n",
    "        ]\n",
    "        rsi_dates, rsi_values = zip(*valid_rsi_for_f)\n",
    "\n",
    "\n",
    "        bb_for_f = sa.indicators.get_bollinger_bands(quotes=quotes_for_f)\n",
    "        valid_bb_for_f = [\n",
    "            (result.date, result.lower_band, result.upper_band)\n",
    "            for result in bb_for_f\n",
    "            if result.date is not None and result.lower_band is not None\n",
    "        ]\n",
    "        bb_dates, bb_lower, bb_upper = zip(*valid_bb_for_f)\n",
    "\n",
    "\n",
    "        vwap_for_f = sa.indicators.get_vwap(quotes=quotes_for_f)\n",
    "        valid_vwap_for_f = [\n",
    "            (result.date, result.vwap)\n",
    "            for result in vwap_for_f\n",
    "            if result.date is not None and result.vwap is not None\n",
    "        ]\n",
    "        vwap_dates, vwap_values = zip(*valid_vwap_for_f)\n",
    "\n",
    "\n",
    "\n",
    "        pp_for_f = sa.indicators.get_pivot_points(quotes=quotes_for_f, window_size=PeriodSize.DAY)\n",
    "        valid_pp_for_f = [\n",
    "            (result.date, result.pp, result.r1, result.r2, result.r3, result.r4, result.s1, result.s2, result.s3, result.s4)\n",
    "            for result in pp_for_f\n",
    "            if result.date is not None and result.pp is not None\n",
    "        ]\n",
    "        pp_dates, pp, r1, r2, r3, r4, s1, s2, s3, s4 = zip(*valid_pp_for_f)\n",
    "\n",
    "\n",
    "\n",
    "\n",
    "        fig, axes = plt.subplots(5, 1, figsize=(12,6))\n",
    "\n",
    "\n",
    "        axes[0].plot(macd_dates[-20:], macd_values[-20:], label='MACD_values', linewidth=2)\n",
    "        axes[0].plot(macd_dates[-20:], macd_signal[-20:], label='MACD_signal', linewidth=2)\n",
    "        axes[0].legend(loc='best')\n",
    "\n",
    "        axes[1].plot(rsi_dates[-20:], rsi_values[-20:], label='RSI', linewidth=2)\n",
    "        axes[1].legend(loc='best')\n",
    "\n",
    "        axes[2].plot(bb_dates[-20:], bb_lower[-20:], label='BB_lower', linewidth=2)\n",
    "        axes[2].plot(bb_dates[-20:], bb_upper[-20:], label='BB_upper', linewidth=2)\n",
    "        axes[2].legend(loc='best')\n",
    "\n",
    "        axes[3].plot(vwap_dates[-20:], vwap_values[-20:], label='vwap', linewidth=2)\n",
    "        axes[3].legend(loc='best')\n",
    "\n",
    "        axes[4].plot(pp_dates[-20:], pp[-20:], label='pivot points', linewidth=2)\n",
    "        axes[4].plot(pp_dates[-20:], r1[-20:], label='r1', linewidth=2)\n",
    "        axes[4].plot(pp_dates[-20:], r4[-20:], label='r4', linewidth=2)\n",
    "        axes[4].plot(pp_dates[-20:], s1[-20:], label='s1', linewidth=2)\n",
    "        axes[4].plot(pp_dates[-20:], s4[-20:], label='s4', linewidth=2)\n",
    "        axes[4].legend(loc='best')\n",
    "\n",
    "\n",
    "        figs.append(fig)\n",
    "\n",
    "        f['Bullish'] = [1 if x.histogram and x.histogram > 0 else 0 for x in macd_for_f]\n",
    "        f['Bearish'] = [1 if x.histogram and x.histogram < 0 else 0 for x in macd_for_f]\n",
    "        f['isOverbought'] = [1 if x.rsi and x.rsi > 70 else 0 for x in rsi_for_f ]\n",
    "        f['isOversold'] = [1 if x.rsi and x.rsi < 30 else 0 for x in rsi_for_f ]\n",
    "\n",
    "\n",
    "        f.fillna(method=\"ffill\", inplace=True)\n",
    "        indicators_per_fund[names[id]]= f\n",
    "    return indicators_per_fund, figs"
   ],
   "id": "f42c47bebe451e96",
   "outputs": [],
   "execution_count": 5
  },
  {
   "metadata": {
    "ExecuteTime": {
     "end_time": "2025-01-29T18:59:03.089880Z",
     "start_time": "2025-01-29T18:59:03.084837Z"
    }
   },
   "cell_type": "code",
   "source": [
    "def fit(gradient_clip, drop, hidden_size, hidden_continuous_size, attention_head_size, learning_rate, epochs: int, batch_size: int, df: pd.DataFrame, independent_variables: list, target=\"Close\", training_cutoff_idx: pd.Timestamp=300, max_prediction_length=61, min_encoder_length=22):\n",
    "    training = TimeSeriesDataSet(\n",
    "        df[lambda x: x.time_idx <= training_cutoff_idx],     # Use the determined cutoff index\n",
    "        time_idx=\"time_idx\",                                 # Sequential time index\n",
    "        target=target,                                       # Target variable\n",
    "        group_ids=[\"group_id\"],                              # Group identifier\n",
    "        min_encoder_length=min_encoder_length,                               # Minimum input sequence length\n",
    "        max_encoder_length=334,                              # Maximum input sequence length\n",
    "        min_prediction_length=1,                             # Minimum forecast length\n",
    "        max_prediction_length=max_prediction_length,                            # Maximum forecast length (31 for December)\n",
    "        static_categoricals=[\"group_id\"],\n",
    "        static_reals=[],                                     # No static real variables\n",
    "        time_varying_known_reals= independent_variables,     # Known inputs\n",
    "        time_varying_unknown_reals=[target],                 # Target variable\n",
    "        target_normalizer=GroupNormalizer(groups=[\"group_id\"], transformation=\"softplus\"),\n",
    "        add_relative_time_idx=True,                          # Add relative time index\n",
    "        add_target_scales=True,                              # Scale the target variable\n",
    "        add_encoder_length=True,                             # Include encoder length feature\n",
    "        allow_missing_timesteps=False,                       # Ensure no missing steps\n",
    "    )\n",
    "\n",
    "    validation = TimeSeriesDataSet.from_dataset(\n",
    "        training,\n",
    "        df,\n",
    "        predict=True,\n",
    "        stop_randomization=True                             # Ensures no randomization in validation dataset\n",
    "    )\n",
    "\n",
    "    batch_size = batch_size\n",
    "\n",
    "    train_dataloader = training.to_dataloader(train=True, batch_size=batch_size, num_workers=0)\n",
    "    val_dataloader = validation.to_dataloader(train=False, batch_size=batch_size * 10, num_workers=0)\n",
    "\n",
    "\n",
    "    # study = optimize_hyperparameters(\n",
    "    #     train_dataloader,\n",
    "    #     val_dataloader,\n",
    "    #     model_path=\"optuna_test\",\n",
    "    #     n_trials=200,\n",
    "    #     max_epochs=50,\n",
    "    #     gradient_clip_val_range=(0.01, 1.0),\n",
    "    #     hidden_size_range=(8, 128),\n",
    "    #     hidden_continuous_size_range=(8, 128),\n",
    "    #     attention_head_size_range=(1, 4),\n",
    "    #     learning_rate_range=(0.001, 0.1),\n",
    "    #     dropout_range=(0.1, 0.3),\n",
    "    #     trainer_kwargs=dict(limit_train_batches=30),\n",
    "    #     reduce_on_plateau_patience=4,\n",
    "    #     use_learning_rate_finder=False,  # use Optuna to find ideal learning rate or use in-built learning rate finder\n",
    "    # )\n",
    "    #\n",
    "    # with open(\"test_study.pkl\", \"wb\") as fout:\n",
    "    #     pickle.dump(study, fout)\n",
    "    #\n",
    "    # print(study.best_trial.params)\n",
    "\n",
    "    tft = TemporalFusionTransformer.from_dataset(\n",
    "        training,\n",
    "        learning_rate=learning_rate,                # Learning rate\n",
    "        hidden_size=hidden_size,                  # Model hidden size\n",
    "        attention_head_size=attention_head_size,           # Number of attention heads\n",
    "        dropout=drop,                 # Dropout rate\n",
    "        hidden_continuous_size=hidden_continuous_size,       # Hidden size for continuous variables\n",
    "        output_size=7,                   # Output quantiles (e.g., 10th to 90th percentile)\n",
    "        loss=QuantileLoss(),             # Loss function\n",
    "        log_interval=10,                 # Log every 10 batches\n",
    "        reduce_on_plateau_patience=4,    # Reduce learning rate on plateau\n",
    "    )\n",
    "\n",
    "    checkpoint_callback = ModelCheckpoint(\n",
    "        dirpath=\"checkpoints/\",\n",
    "        filename=\"tft-model-{epoch:02d}-{val_loss:.2f}\",\n",
    "        save_top_k=1,\n",
    "        monitor=\"val_loss\",\n",
    "        mode=\"min\",  # minimize validation loss\n",
    "    )\n",
    "\n",
    "    early_stop_callback = EarlyStopping(monitor=\"val_loss\", min_delta=1e-4, patience=8, verbose=False, mode=\"min\")\n",
    "    lr_logger = LearningRateMonitor()  # log the learning rate\n",
    "    logger = TensorBoardLogger(\"lightning_logs\")  # logging results to a tensorboard\n",
    "\n",
    "    trainer = pl.Trainer(\n",
    "        # logger=logger,\n",
    "        max_epochs=epochs,\n",
    "        accelerator='cpu',\n",
    "        devices=\"auto\",\n",
    "        gradient_clip_val=gradient_clip,\n",
    "        callbacks=[early_stop_callback, lr_logger],#, checkpoint_callback],\n",
    "    )\n",
    "\n",
    "    trainer.fit(tft, train_dataloader, val_dataloader)\n",
    "    return tft, training, val_dataloader"
   ],
   "id": "efe8180eaa630623",
   "outputs": [],
   "execution_count": 83
  },
  {
   "metadata": {
    "ExecuteTime": {
     "end_time": "2025-01-29T18:27:25.128406Z",
     "start_time": "2025-01-29T18:27:25.115510Z"
    }
   },
   "cell_type": "code",
   "source": [
    "def predictt(tft, training, data):\n",
    "    raw_predictions = tft.predict(data, mode=\"raw\", return_x=True)\n",
    "    predicted_median_np = raw_predictions.output.prediction[0, :, 1].detach().cpu().numpy()\n",
    "    return predicted_median_np"
   ],
   "id": "4fcfb333f4df7d07",
   "outputs": [],
   "execution_count": 30
  },
  {
   "metadata": {
    "ExecuteTime": {
     "end_time": "2025-01-29T18:19:56.895167Z",
     "start_time": "2025-01-29T18:19:56.884751Z"
    }
   },
   "cell_type": "code",
   "source": [
    "def huber_loss(actual_val, pred_val, delta=5.0):\n",
    "    err = np.abs(actual_val - pred_val)\n",
    "    return np.mean(np.where( err <= delta, 0.5 * err**2, delta * (err - 0.5 * delta)))"
   ],
   "id": "8574c17cb6ab2f97",
   "outputs": [],
   "execution_count": 8
  },
  {
   "metadata": {
    "ExecuteTime": {
     "end_time": "2025-01-29T18:20:00.800651Z",
     "start_time": "2025-01-29T18:20:00.787258Z"
    }
   },
   "cell_type": "code",
   "source": [
    "from decimal import Decimal\n",
    "def relative_squared_error(true, pred):\n",
    "    true = np.array([Decimal(x) for x in true])\n",
    "    pred = np.array([Decimal(x) for x in pred])\n",
    "\n",
    "    true_mean = np.mean(true)\n",
    "    squared_error_num = np.sum(np.square(true - pred))\n",
    "    squared_error_den = np.sum(np.square(true - true_mean))\n",
    "    rse_loss = squared_error_num / squared_error_den\n",
    "    return rse_loss\n",
    "\n",
    "def relative_absolute_error(true, pred):\n",
    "    true = np.array([Decimal(x) for x in true])\n",
    "    pred = np.array([Decimal(x) for x in pred])\n",
    "    true_mean = np.mean(true)\n",
    "    squared_error_num = np.sum(np.abs(true - pred))\n",
    "    squared_error_den = np.sum(np.abs(true - true_mean))\n",
    "    rae_loss = squared_error_num / squared_error_den\n",
    "    return rae_loss"
   ],
   "id": "2d89f09d6ead48a6",
   "outputs": [],
   "execution_count": 9
  },
  {
   "metadata": {
    "ExecuteTime": {
     "end_time": "2025-01-29T18:20:01.200072Z",
     "start_time": "2025-01-29T18:20:01.177752Z"
    }
   },
   "cell_type": "code",
   "source": [
    "def metrics_and_plt(df: pd.DataFrame, preds:list, date_range:pd.date_range, target=\"Close\", date = \"2023-12-01\"):\n",
    "    print(len(df))\n",
    "    print(len(preds))\n",
    "    actual_values = df[target][date:]\n",
    "    rse = relative_squared_error(actual_values, preds)\n",
    "    rae = relative_absolute_error(actual_values, preds)\n",
    "    huber = huber_loss(actual_values, preds)\n",
    "    plt.figure(figsize=(10, 6))\n",
    "    plt.plot(date_range, actual_values, marker=\"x\", label=\"Actual Close\", color=\"orange\")\n",
    "    plt.plot(date_range, preds, marker=\"o\", label=\"Predicted Median\")\n",
    "    plt.title(\"Predicted Values for December 01 to December 29, 2023\")\n",
    "    plt.xlabel(\"Date\")\n",
    "    plt.ylabel(\"Predicted Value\")\n",
    "    plt.xticks(rotation=45)\n",
    "    plt.legend()\n",
    "    plt.show()\n",
    "    return rse, rae, huber, plt"
   ],
   "id": "95005a46f490b32f",
   "outputs": [],
   "execution_count": 10
  },
  {
   "metadata": {},
   "cell_type": "markdown",
   "source": "BASELINE MODEL",
   "id": "6c01803bf754d5ee"
  },
  {
   "metadata": {},
   "cell_type": "code",
   "source": "f1 = funds_w_names['EWSA.AS'][\"Close\"][:-30]",
   "id": "a745a0411236507f",
   "outputs": [],
   "execution_count": null
  },
  {
   "metadata": {},
   "cell_type": "code",
   "source": [
    "model = ARIMA(f1, order=(1, 1, 1))\n",
    "model_fit = model.fit()\n",
    "arima_forecast = model_fit.forecast(steps=30)\n",
    "print(\"ARIMA Forecast for the next 30 periods:\", arima_forecast)"
   ],
   "id": "d4229671f4c9a065",
   "outputs": [],
   "execution_count": null
  },
  {
   "metadata": {},
   "cell_type": "code",
   "source": [
    "arima_rse = relative_squared_error(funds_w_names[\"EWSA.AS\"][\"Close\"][-62:], arima_forecast)\n",
    "arima_rae = relative_absolute_error(funds_w_names[\"EWSA.AS\"][\"Close\"][-62:], arima_forecast)"
   ],
   "id": "f79ed1f4037a312f",
   "outputs": [],
   "execution_count": null
  },
  {
   "metadata": {},
   "cell_type": "code",
   "source": [
    "sf = StatsForecast(models=[GARCH()], freq='D')\n",
    "f1=pd.DataFrame(f1)\n",
    "f1['ds'] = pd.to_datetime(f1.index)\n",
    "f1.rename(columns={'Close': 'y'}, inplace=True)\n",
    "f1['unique_id']=1"
   ],
   "id": "cbeac0df26a9058e",
   "outputs": [],
   "execution_count": null
  },
  {
   "metadata": {},
   "cell_type": "code",
   "source": [
    "garch_forecast = sf.forecast(h=30, df=f1)\n",
    "\n",
    "print(garch_forecast)"
   ],
   "id": "4764be5733acc8b5",
   "outputs": [],
   "execution_count": null
  },
  {
   "metadata": {},
   "cell_type": "code",
   "source": [
    "garch_rse = relative_squared_error(funds_w_names[\"EWSA.AS\"][\"Rolling Volatility\"][-62:], garch_forecast[\"GARCH(1,1)\"])\n",
    "garch_rae = relative_absolute_error(funds_w_names[\"EWSA.AS\"][\"Rolling Volatility\"][-62:], garch_forecast[\"GARCH(1,1)\"])"
   ],
   "id": "4383ab47cd76f29a",
   "outputs": [],
   "execution_count": null
  },
  {
   "metadata": {},
   "cell_type": "code",
   "source": [
    "fig, axes = plt.subplots(2, 1, figsize=(12,6))\n",
    "\n",
    "\n",
    "axes[0].plot(f1['ds'][-30:], arima_forecast[-30:], label='arima_forecast', linewidth=2)\n",
    "axes[0].plot(f1['ds'][-30:], funds_w_names[\"EWSA.AS\"][\"Close\"][-30:], label='Close', linewidth=2)\n",
    "axes[0].legend(loc='best')\n",
    "axes[1].plot(f1['ds'][-30:], garch_forecast[\"GARCH(1,1)\"], label='garch_forecast', linewidth=2)\n",
    "axes[1].plot(f1['ds'][-30:], funds_w_names[\"EWSA.AS\"][\"Rolling Volatility\"][-30:], label='Volatility', linewidth=2)\n",
    "axes[1].legend(loc='best')\n",
    "plt.legend()\n",
    "plt.show()"
   ],
   "id": "5436d081d0387a78",
   "outputs": [],
   "execution_count": null
  },
  {
   "metadata": {
    "ExecuteTime": {
     "end_time": "2025-01-29T18:20:11.260752Z",
     "start_time": "2025-01-29T18:20:11.204207Z"
    }
   },
   "cell_type": "code",
   "source": [
    "test_funds = defaultdict(pd.DataFrame)\n",
    "train_funds = defaultdict(pd.DataFrame)\n",
    "for i in funds_w_names:\n",
    "    test_funds[i] = funds_w_names[i][-31:]\n",
    "    train_funds[i] = funds_w_names[i][:-31]\n",
    "    test_funds[i].index = pd.to_datetime(test_funds[i].index)\n",
    "    train_funds[i].index = pd.to_datetime(train_funds[i].index)\n",
    "    test_funds[i][\"time_idx\"] = (test_funds[i].index - test_funds[i].index.min()).days\n",
    "    train_funds[i][\"time_idx\"] = (train_funds[i].index - train_funds[i].index.min()).days"
   ],
   "id": "b62f4b67ac754cfc",
   "outputs": [],
   "execution_count": 11
  },
  {
   "metadata": {},
   "cell_type": "markdown",
   "source": "1) ONE FUND, NO INDICATORS, PRICE",
   "id": "aa8a43e607d1ad7e"
  },
  {
   "metadata": {},
   "cell_type": "code",
   "source": [
    "#IE00B52MJY50\n",
    "#IE = portfolio_factory(etfs=[funds_w_names['EWSA.AS']])"
   ],
   "id": "c1ca8dd2f10794a2",
   "outputs": [],
   "execution_count": null
  },
  {
   "metadata": {
    "ExecuteTime": {
     "end_time": "2025-01-29T18:20:13.551828Z",
     "start_time": "2025-01-29T18:20:13.520580Z"
    }
   },
   "cell_type": "code",
   "source": "train_funds[\"EWSA.AS\"]",
   "id": "863dcd1a92e42552",
   "outputs": [
    {
     "data": {
      "text/plain": [
       "                              Open     High      Low    Close      Volume  \\\n",
       "2023-01-02 00:00:00+00:00 4.201800 4.215000 4.201800 4.207100   66.000000   \n",
       "2023-01-03 00:00:00+00:00 4.195300 4.224300 4.195300 4.224300 1900.000000   \n",
       "2023-01-04 00:00:00+00:00 4.221000 4.221000 4.221000 4.221000    0.000000   \n",
       "2023-01-05 00:00:00+00:00 4.190500 4.190500 4.190500 4.190500    0.000000   \n",
       "2023-01-06 00:00:00+00:00 4.298600 4.298600 4.298600 4.298600    0.000000   \n",
       "...                            ...      ...      ...      ...         ...   \n",
       "2023-11-23 00:00:00+00:00 4.327500 4.327500 4.327500 4.345700    0.000000   \n",
       "2023-11-24 00:00:00+00:00 4.330800 4.330800 4.323000 4.332700  369.000000   \n",
       "2023-11-25 00:00:00+00:00 4.330800 4.330800 4.323000 4.332700  369.000000   \n",
       "2023-11-26 00:00:00+00:00 4.330800 4.330800 4.323000 4.332700  369.000000   \n",
       "2023-11-27 00:00:00+00:00 4.334900 4.334900 4.334900 4.347800    0.000000   \n",
       "\n",
       "                             Return  Rolling Volatility  time_idx group_id  \n",
       "2023-01-02 00:00:00+00:00  0.004088            0.010457         0  EWSA.AS  \n",
       "2023-01-03 00:00:00+00:00  0.004088            0.010457         1  EWSA.AS  \n",
       "2023-01-04 00:00:00+00:00 -0.000781            0.010457         2  EWSA.AS  \n",
       "2023-01-05 00:00:00+00:00 -0.007226            0.010457         3  EWSA.AS  \n",
       "2023-01-06 00:00:00+00:00  0.000000            0.010457         4  EWSA.AS  \n",
       "...                             ...                 ...       ...      ...  \n",
       "2023-11-23 00:00:00+00:00  0.004670            0.003435       325  EWSA.AS  \n",
       "2023-11-24 00:00:00+00:00  0.000000            0.003435       326  EWSA.AS  \n",
       "2023-11-25 00:00:00+00:00  0.000000            0.003435       327  EWSA.AS  \n",
       "2023-11-26 00:00:00+00:00 -0.002991            0.002992       328  EWSA.AS  \n",
       "2023-11-27 00:00:00+00:00  0.003485            0.002648       329  EWSA.AS  \n",
       "\n",
       "[330 rows x 9 columns]"
      ],
      "text/html": [
       "<div>\n",
       "<style scoped>\n",
       "    .dataframe tbody tr th:only-of-type {\n",
       "        vertical-align: middle;\n",
       "    }\n",
       "\n",
       "    .dataframe tbody tr th {\n",
       "        vertical-align: top;\n",
       "    }\n",
       "\n",
       "    .dataframe thead th {\n",
       "        text-align: right;\n",
       "    }\n",
       "</style>\n",
       "<table border=\"1\" class=\"dataframe\">\n",
       "  <thead>\n",
       "    <tr style=\"text-align: right;\">\n",
       "      <th></th>\n",
       "      <th>Open</th>\n",
       "      <th>High</th>\n",
       "      <th>Low</th>\n",
       "      <th>Close</th>\n",
       "      <th>Volume</th>\n",
       "      <th>Return</th>\n",
       "      <th>Rolling Volatility</th>\n",
       "      <th>time_idx</th>\n",
       "      <th>group_id</th>\n",
       "    </tr>\n",
       "  </thead>\n",
       "  <tbody>\n",
       "    <tr>\n",
       "      <th>2023-01-02 00:00:00+00:00</th>\n",
       "      <td>4.201800</td>\n",
       "      <td>4.215000</td>\n",
       "      <td>4.201800</td>\n",
       "      <td>4.207100</td>\n",
       "      <td>66.000000</td>\n",
       "      <td>0.004088</td>\n",
       "      <td>0.010457</td>\n",
       "      <td>0</td>\n",
       "      <td>EWSA.AS</td>\n",
       "    </tr>\n",
       "    <tr>\n",
       "      <th>2023-01-03 00:00:00+00:00</th>\n",
       "      <td>4.195300</td>\n",
       "      <td>4.224300</td>\n",
       "      <td>4.195300</td>\n",
       "      <td>4.224300</td>\n",
       "      <td>1900.000000</td>\n",
       "      <td>0.004088</td>\n",
       "      <td>0.010457</td>\n",
       "      <td>1</td>\n",
       "      <td>EWSA.AS</td>\n",
       "    </tr>\n",
       "    <tr>\n",
       "      <th>2023-01-04 00:00:00+00:00</th>\n",
       "      <td>4.221000</td>\n",
       "      <td>4.221000</td>\n",
       "      <td>4.221000</td>\n",
       "      <td>4.221000</td>\n",
       "      <td>0.000000</td>\n",
       "      <td>-0.000781</td>\n",
       "      <td>0.010457</td>\n",
       "      <td>2</td>\n",
       "      <td>EWSA.AS</td>\n",
       "    </tr>\n",
       "    <tr>\n",
       "      <th>2023-01-05 00:00:00+00:00</th>\n",
       "      <td>4.190500</td>\n",
       "      <td>4.190500</td>\n",
       "      <td>4.190500</td>\n",
       "      <td>4.190500</td>\n",
       "      <td>0.000000</td>\n",
       "      <td>-0.007226</td>\n",
       "      <td>0.010457</td>\n",
       "      <td>3</td>\n",
       "      <td>EWSA.AS</td>\n",
       "    </tr>\n",
       "    <tr>\n",
       "      <th>2023-01-06 00:00:00+00:00</th>\n",
       "      <td>4.298600</td>\n",
       "      <td>4.298600</td>\n",
       "      <td>4.298600</td>\n",
       "      <td>4.298600</td>\n",
       "      <td>0.000000</td>\n",
       "      <td>0.000000</td>\n",
       "      <td>0.010457</td>\n",
       "      <td>4</td>\n",
       "      <td>EWSA.AS</td>\n",
       "    </tr>\n",
       "    <tr>\n",
       "      <th>...</th>\n",
       "      <td>...</td>\n",
       "      <td>...</td>\n",
       "      <td>...</td>\n",
       "      <td>...</td>\n",
       "      <td>...</td>\n",
       "      <td>...</td>\n",
       "      <td>...</td>\n",
       "      <td>...</td>\n",
       "      <td>...</td>\n",
       "    </tr>\n",
       "    <tr>\n",
       "      <th>2023-11-23 00:00:00+00:00</th>\n",
       "      <td>4.327500</td>\n",
       "      <td>4.327500</td>\n",
       "      <td>4.327500</td>\n",
       "      <td>4.345700</td>\n",
       "      <td>0.000000</td>\n",
       "      <td>0.004670</td>\n",
       "      <td>0.003435</td>\n",
       "      <td>325</td>\n",
       "      <td>EWSA.AS</td>\n",
       "    </tr>\n",
       "    <tr>\n",
       "      <th>2023-11-24 00:00:00+00:00</th>\n",
       "      <td>4.330800</td>\n",
       "      <td>4.330800</td>\n",
       "      <td>4.323000</td>\n",
       "      <td>4.332700</td>\n",
       "      <td>369.000000</td>\n",
       "      <td>0.000000</td>\n",
       "      <td>0.003435</td>\n",
       "      <td>326</td>\n",
       "      <td>EWSA.AS</td>\n",
       "    </tr>\n",
       "    <tr>\n",
       "      <th>2023-11-25 00:00:00+00:00</th>\n",
       "      <td>4.330800</td>\n",
       "      <td>4.330800</td>\n",
       "      <td>4.323000</td>\n",
       "      <td>4.332700</td>\n",
       "      <td>369.000000</td>\n",
       "      <td>0.000000</td>\n",
       "      <td>0.003435</td>\n",
       "      <td>327</td>\n",
       "      <td>EWSA.AS</td>\n",
       "    </tr>\n",
       "    <tr>\n",
       "      <th>2023-11-26 00:00:00+00:00</th>\n",
       "      <td>4.330800</td>\n",
       "      <td>4.330800</td>\n",
       "      <td>4.323000</td>\n",
       "      <td>4.332700</td>\n",
       "      <td>369.000000</td>\n",
       "      <td>-0.002991</td>\n",
       "      <td>0.002992</td>\n",
       "      <td>328</td>\n",
       "      <td>EWSA.AS</td>\n",
       "    </tr>\n",
       "    <tr>\n",
       "      <th>2023-11-27 00:00:00+00:00</th>\n",
       "      <td>4.334900</td>\n",
       "      <td>4.334900</td>\n",
       "      <td>4.334900</td>\n",
       "      <td>4.347800</td>\n",
       "      <td>0.000000</td>\n",
       "      <td>0.003485</td>\n",
       "      <td>0.002648</td>\n",
       "      <td>329</td>\n",
       "      <td>EWSA.AS</td>\n",
       "    </tr>\n",
       "  </tbody>\n",
       "</table>\n",
       "<p>330 rows × 9 columns</p>\n",
       "</div>"
      ]
     },
     "execution_count": 12,
     "metadata": {},
     "output_type": "execute_result"
    }
   ],
   "execution_count": 12
  },
  {
   "metadata": {
    "ExecuteTime": {
     "end_time": "2025-01-29T18:34:31.325381Z",
     "start_time": "2025-01-29T18:31:50.247226Z"
    }
   },
   "cell_type": "code",
   "source": "IE_tft, training, val = fit(epochs=10, batch_size=128, df=train_funds['EWSA.AS'], independent_variables=[\"Open\", \"High\", \"Low\", \"Volume\"], max_prediction_length=31, min_encoder_length=0)",
   "id": "a87efb6cf40e9ead",
   "outputs": [
    {
     "name": "stderr",
     "output_type": "stream",
     "text": [
      "GPU available: False, used: False\n",
      "TPU available: False, using: 0 TPU cores\n",
      "HPU available: False, using: 0 HPUs\n",
      "\n",
      "   | Name                               | Type                            | Params | Mode \n",
      "------------------------------------------------------------------------------------------------\n",
      "0  | loss                               | QuantileLoss                    | 0      | train\n",
      "1  | logging_metrics                    | ModuleList                      | 0      | train\n",
      "2  | input_embeddings                   | MultiEmbedding                  | 1      | train\n",
      "3  | prescalers                         | ModuleDict                      | 792    | train\n",
      "4  | static_variable_selection          | VariableSelectionNetwork        | 38.1 K | train\n",
      "5  | encoder_variable_selection         | VariableSelectionNetwork        | 76.7 K | train\n",
      "6  | decoder_variable_selection         | VariableSelectionNetwork        | 63.7 K | train\n",
      "7  | static_context_variable_selection  | GatedResidualNetwork            | 31.5 K | train\n",
      "8  | static_context_initial_hidden_lstm | GatedResidualNetwork            | 31.5 K | train\n",
      "9  | static_context_initial_cell_lstm   | GatedResidualNetwork            | 31.5 K | train\n",
      "10 | static_context_enrichment          | GatedResidualNetwork            | 31.5 K | train\n",
      "11 | lstm_encoder                       | LSTM                            | 62.7 K | train\n",
      "12 | lstm_decoder                       | LSTM                            | 62.7 K | train\n",
      "13 | post_lstm_gate_encoder             | GatedLinearUnit                 | 15.7 K | train\n",
      "14 | post_lstm_add_norm_encoder         | AddNorm                         | 176    | train\n",
      "15 | static_enrichment                  | GatedResidualNetwork            | 39.2 K | train\n",
      "16 | multihead_attn                     | InterpretableMultiHeadAttention | 19.6 K | train\n",
      "17 | post_attn_gate_norm                | GateAddNorm                     | 15.8 K | train\n",
      "18 | pos_wise_ff                        | GatedResidualNetwork            | 31.5 K | train\n",
      "19 | pre_output_gate_norm               | GateAddNorm                     | 15.8 K | train\n",
      "20 | output_layer                       | Linear                          | 623    | train\n",
      "------------------------------------------------------------------------------------------------\n",
      "567 K     Trainable params\n",
      "0         Non-trainable params\n",
      "567 K     Total params\n",
      "2.271     Total estimated model params size (MB)\n",
      "371       Modules in train mode\n",
      "0         Modules in eval mode\n"
     ]
    },
    {
     "data": {
      "text/plain": [
       "Sanity Checking: |          | 0/? [00:00<?, ?it/s]"
      ],
      "application/vnd.jupyter.widget-view+json": {
       "version_major": 2,
       "version_minor": 0,
       "model_id": "13118b8a509449b0955c88e3c3d7ae92"
      }
     },
     "metadata": {},
     "output_type": "display_data"
    },
    {
     "data": {
      "text/plain": [
       "Training: |          | 0/? [00:00<?, ?it/s]"
      ],
      "application/vnd.jupyter.widget-view+json": {
       "version_major": 2,
       "version_minor": 0,
       "model_id": "d9dde99f484e4b21992ce1226ceffca5"
      }
     },
     "metadata": {},
     "output_type": "display_data"
    },
    {
     "data": {
      "text/plain": [
       "Validation: |          | 0/? [00:00<?, ?it/s]"
      ],
      "application/vnd.jupyter.widget-view+json": {
       "version_major": 2,
       "version_minor": 0,
       "model_id": "f188ff7858a743ebbb833f504bfa0f26"
      }
     },
     "metadata": {},
     "output_type": "display_data"
    },
    {
     "data": {
      "text/plain": [
       "Validation: |          | 0/? [00:00<?, ?it/s]"
      ],
      "application/vnd.jupyter.widget-view+json": {
       "version_major": 2,
       "version_minor": 0,
       "model_id": "d0979d5288f24e1e9974b03fcbaf0e3d"
      }
     },
     "metadata": {},
     "output_type": "display_data"
    },
    {
     "data": {
      "text/plain": [
       "Validation: |          | 0/? [00:00<?, ?it/s]"
      ],
      "application/vnd.jupyter.widget-view+json": {
       "version_major": 2,
       "version_minor": 0,
       "model_id": "4e7660c24061418088c11c6387678cec"
      }
     },
     "metadata": {},
     "output_type": "display_data"
    },
    {
     "data": {
      "text/plain": [
       "Validation: |          | 0/? [00:00<?, ?it/s]"
      ],
      "application/vnd.jupyter.widget-view+json": {
       "version_major": 2,
       "version_minor": 0,
       "model_id": "c4ed1746bf0a401d80b439c5e77734fb"
      }
     },
     "metadata": {},
     "output_type": "display_data"
    },
    {
     "data": {
      "text/plain": [
       "Validation: |          | 0/? [00:00<?, ?it/s]"
      ],
      "application/vnd.jupyter.widget-view+json": {
       "version_major": 2,
       "version_minor": 0,
       "model_id": "af01accbecaa4e129517fa2f51464bb0"
      }
     },
     "metadata": {},
     "output_type": "display_data"
    },
    {
     "data": {
      "text/plain": [
       "Validation: |          | 0/? [00:00<?, ?it/s]"
      ],
      "application/vnd.jupyter.widget-view+json": {
       "version_major": 2,
       "version_minor": 0,
       "model_id": "d11cdd55e59644c294a2105e75db8328"
      }
     },
     "metadata": {},
     "output_type": "display_data"
    },
    {
     "data": {
      "text/plain": [
       "Validation: |          | 0/? [00:00<?, ?it/s]"
      ],
      "application/vnd.jupyter.widget-view+json": {
       "version_major": 2,
       "version_minor": 0,
       "model_id": "5dea2cc128e94724a8b67ab2a1658a8b"
      }
     },
     "metadata": {},
     "output_type": "display_data"
    },
    {
     "data": {
      "text/plain": [
       "Validation: |          | 0/? [00:00<?, ?it/s]"
      ],
      "application/vnd.jupyter.widget-view+json": {
       "version_major": 2,
       "version_minor": 0,
       "model_id": "56a3a0430bbe47e38db1073577070f70"
      }
     },
     "metadata": {},
     "output_type": "display_data"
    },
    {
     "data": {
      "text/plain": [
       "Validation: |          | 0/? [00:00<?, ?it/s]"
      ],
      "application/vnd.jupyter.widget-view+json": {
       "version_major": 2,
       "version_minor": 0,
       "model_id": "a2693d71a34641308ff966cd8cc62e12"
      }
     },
     "metadata": {},
     "output_type": "display_data"
    },
    {
     "data": {
      "text/plain": [
       "Validation: |          | 0/? [00:00<?, ?it/s]"
      ],
      "application/vnd.jupyter.widget-view+json": {
       "version_major": 2,
       "version_minor": 0,
       "model_id": "dba07ebac792421faa8ba0c99272b082"
      }
     },
     "metadata": {},
     "output_type": "display_data"
    },
    {
     "name": "stderr",
     "output_type": "stream",
     "text": [
      "`Trainer.fit` stopped: `max_epochs=10` reached.\n"
     ]
    }
   ],
   "execution_count": 38
  },
  {
   "metadata": {
    "ExecuteTime": {
     "end_time": "2025-01-29T18:34:37.706682Z",
     "start_time": "2025-01-29T18:34:37.406706Z"
    }
   },
   "cell_type": "code",
   "source": "IE_preds = predictt(IE_tft, training, test_funds[\"EWSA.AS\"])",
   "id": "88dd6165094e67ee",
   "outputs": [
    {
     "name": "stderr",
     "output_type": "stream",
     "text": [
      "GPU available: False, used: False\n",
      "TPU available: False, using: 0 TPU cores\n",
      "HPU available: False, using: 0 HPUs\n"
     ]
    }
   ],
   "execution_count": 39
  },
  {
   "metadata": {
    "ExecuteTime": {
     "end_time": "2025-01-29T18:34:38.582256Z",
     "start_time": "2025-01-29T18:34:38.174546Z"
    }
   },
   "cell_type": "code",
   "source": "IE_rse, IE_rae, IE_huber, IE_plt = metrics_and_plt(funds_w_names['EWSA.AS'], IE_preds, pd.date_range(start=\"2023-11-29\", end=\"2023-12-29\"), date=\"2023-11-28\")",
   "id": "20c73ece89dc4c3f",
   "outputs": [
    {
     "name": "stdout",
     "output_type": "stream",
     "text": [
      "361\n",
      "31\n"
     ]
    },
    {
     "data": {
      "text/plain": [
       "<Figure size 1000x600 with 1 Axes>"
      ],
      "image/png": "[encoded data removed]"
     },
     "metadata": {},
     "output_type": "display_data"
    }
   ],
   "execution_count": 40
  },
  {
   "metadata": {},
   "cell_type": "markdown",
   "source": "2) ONE FUND, INDICATORS, PRICE",
   "id": "f97501dc555fb35f"
  },
  {
   "metadata": {},
   "cell_type": "code",
   "source": "IE_indicators, IE_indicators_plt1 = technical_indicators_factory([funds_w_names['EWSA.AS']], ['EWSA.AS'])",
   "id": "d33f888b56a7f34",
   "outputs": [],
   "execution_count": null
  },
  {
   "metadata": {},
   "cell_type": "code",
   "source": "analiza = IE_indicators[\"EWSA.AS\"][[\"isOversold\", \"isOverbought\", \"Bullish\", \"Bearish\", \"Return\"]]",
   "id": "bc3a73ef1eb1ab8f",
   "outputs": [],
   "execution_count": null
  },
  {
   "metadata": {},
   "cell_type": "code",
   "source": [
    "import seaborn as sns\n",
    "corr1 = analiza.corr()\n",
    "sns.heatmap(corr1, annot=True, cmap=\"coolwarm\", fmt=\".2f\")"
   ],
   "id": "31e2a54eb373505e",
   "outputs": [],
   "execution_count": null
  },
  {
   "metadata": {},
   "cell_type": "code",
   "source": "correlations = IE_indicators[\"EWSA.AS\"].corr()",
   "id": "39ef902ef6447703",
   "outputs": [],
   "execution_count": null
  },
  {
   "metadata": {},
   "cell_type": "code",
   "source": [
    "import seaborn as sns\n",
    "\n",
    "sns.heatmap(correlations, annot=True, cmap=\"coolwarm\", fmt=\".2f\")"
   ],
   "id": "492825ea5742da02",
   "outputs": [],
   "execution_count": null
  },
  {
   "metadata": {},
   "cell_type": "code",
   "source": "IE_indicators_tft, val = fit(epochs=10, batch_size=128, df=IE_indicators[\"EWSA.AS\"], independent_variables=[\"Open\", \"High\", \"Low\", \"isOverbought\", \"Bullish\"])",
   "id": "9d775455a80b298f",
   "outputs": [],
   "execution_count": null
  },
  {
   "metadata": {},
   "cell_type": "code",
   "source": "IE_indicators_preds = predictt(IE_indicators_tft, val)",
   "id": "99fb07f5a717b9fb",
   "outputs": [],
   "execution_count": null
  },
  {
   "metadata": {},
   "cell_type": "code",
   "source": "IE_indicators_rse, IE_indicators_rae, IE_indicators_huber, IE_indicators_plt2= metrics_and_plt(funds_w_names[\"EWSA.AS\"], IE_indicators_preds[-30:], pd.date_range(start=\"2023-11-30\", end=\"2023-12-29\"), date=\"2023-11-29\")",
   "id": "ae360d017f32d0c0",
   "outputs": [],
   "execution_count": null
  },
  {
   "metadata": {},
   "cell_type": "code",
   "source": "IE_indicators_rse",
   "id": "b29d94df8da386e3",
   "outputs": [],
   "execution_count": null
  },
  {
   "metadata": {},
   "cell_type": "code",
   "source": "IE_indicators[\"EWSA.AS\"][\"Close\"][\"2023-10-31\":\"2023-11-29\"]",
   "id": "782f7e7c29f53aa3",
   "outputs": [],
   "execution_count": null
  },
  {
   "metadata": {},
   "cell_type": "markdown",
   "source": "3) ONE FUND, INDICATORS, RESIDUALS",
   "id": "af0529a77520efac"
  },
  {
   "metadata": {},
   "cell_type": "code",
   "source": "resztki = abs(IE_indicators_preds - IE_indicators[\"EWSA.AS\"][\"Close\"][\"2023-10-29\":\"2023-12-29\"])",
   "id": "2b2444a80603a2c8",
   "outputs": [],
   "execution_count": null
  },
  {
   "metadata": {},
   "cell_type": "code",
   "source": "resztki",
   "id": "f5d5ae57181b9898",
   "outputs": [],
   "execution_count": null
  },
  {
   "metadata": {},
   "cell_type": "code",
   "source": [
    "df_scary = IE_indicators[\"EWSA.AS\"][300:].copy()\n",
    "df_scary[\"Remainders\"] = resztki"
   ],
   "id": "3c7080d0bd77cb96",
   "outputs": [],
   "execution_count": null
  },
  {
   "metadata": {},
   "cell_type": "code",
   "source": "df_scary",
   "id": "8a11264da8fa9202",
   "outputs": [],
   "execution_count": null
  },
  {
   "metadata": {},
   "cell_type": "code",
   "source": [
    "df_scary.index = pd.to_datetime(df_scary.index)  # ensure index is datetime if not already\n",
    "df_scary[\"time_idx\"] = (df_scary.index.date - df_scary.index.date[0]).astype(\"timedelta64[D]\").astype(int)\n",
    "df_scary['group_id'] = IE_indicators[\"EWSA.AS\"][\"group_id\"]"
   ],
   "id": "5ad51ac004c3d960",
   "outputs": [],
   "execution_count": null
  },
  {
   "metadata": {},
   "cell_type": "code",
   "source": "IE_tft_rem, val = fit(epochs=100, batch_size=128, df=df_scary, independent_variables=[\"Open\", \"High\", \"Low\", \"isOverbought\", \"Bullish\"], target=\"Remainders\", max_prediction_length=31)",
   "id": "6b20e0831f487834",
   "outputs": [],
   "execution_count": null
  },
  {
   "metadata": {},
   "cell_type": "code",
   "source": "IE_tft_rem_preds= predictt(IE_tft_rem, val)",
   "id": "c04698e4736efa41",
   "outputs": [],
   "execution_count": null
  },
  {
   "metadata": {},
   "cell_type": "code",
   "source": "IE_model2_rse, IE_model2_rae, IE_model2_huber, IE_model2_plt= metrics_and_plt(df_scary[30:], IE_tft_rem_preds, pd.date_range(start=\"2023-11-29\", end=\"2023-12-29\"), target=\"Remainders\", date=\"2023-11-28\")",
   "id": "be45c804bbecb546",
   "outputs": [],
   "execution_count": null
  },
  {
   "metadata": {},
   "cell_type": "code",
   "source": "IE_model2_rse",
   "id": "d41151481429bd74",
   "outputs": [],
   "execution_count": null
  },
  {
   "metadata": {},
   "cell_type": "code",
   "source": "IE_model2_rae",
   "id": "c2d296800742aef8",
   "outputs": [],
   "execution_count": null
  },
  {
   "metadata": {},
   "cell_type": "code",
   "source": "IE_model2_huber",
   "id": "c093588fb774bc69",
   "outputs": [],
   "execution_count": null
  },
  {
   "metadata": {},
   "cell_type": "code",
   "source": "final_preds = IE_indicators_preds.copy()[-31:] + IE_tft_rem_preds",
   "id": "7da8c462f1268b3b",
   "outputs": [],
   "execution_count": null
  },
  {
   "metadata": {},
   "cell_type": "code",
   "source": "final_rse = relative_squared_error(IE_indicators[\"EWSA.AS\"][\"Close\"][-31:], final_preds)",
   "id": "b92fbede3b4e5d10",
   "outputs": [],
   "execution_count": null
  },
  {
   "metadata": {},
   "cell_type": "code",
   "source": "final_rse",
   "id": "486d2e6a225447ea",
   "outputs": [],
   "execution_count": null
  },
  {
   "metadata": {},
   "cell_type": "markdown",
   "source": "4) MANY FUNDS, INDICATORS, PRICE",
   "id": "984572defbe61fa1"
  },
  {
   "metadata": {
    "ExecuteTime": {
     "end_time": "2025-01-29T18:56:07.752209Z",
     "start_time": "2025-01-29T18:56:07.747204Z"
    }
   },
   "cell_type": "code",
   "source": [
    "funds_for_hedge = [\"IE00BFNM3G45\", \"IE00BHZPJ783\", \"36BA.DE\", \"IE00B3ZW0K18\", \"EWSA.AS\"]\n",
    "funds_for_hedge2 = [\"IE0005042456\", \"EWSA.AS\", \"IE00B3ZW0K18\", \"IE00B52MJY50\", \"IE00BFNM3G45\", \"IE00BHZPJ452\", \"IE00BHZPJ783\", \"EDMU.SW\", \"IE00BYYHSM20\", \"IE00BZ173V67\", \"IE00B66F4759\", \"DTLE.L\", \"IE00BLDGH553\", \"IE00BYZTVT56\", \"EDG2.L\", \"IE00BMG6Z448\", \"EMBE.L\", \"IE00BZ1NCS44\"]\n",
    "dataframes_funds = []\n",
    "dataframes_funds2 = []\n",
    "for fund in funds_for_hedge:\n",
    "    dataframes_funds.append(funds_w_names[fund].copy())\n",
    "for fund in funds_for_hedge2:\n",
    "    dataframes_funds2.append(funds_w_names[fund].copy())"
   ],
   "id": "fd60788763456605",
   "outputs": [],
   "execution_count": 80
  },
  {
   "metadata": {},
   "cell_type": "code",
   "outputs": [],
   "execution_count": null,
   "source": [
    "best_params_for_transfromers = []\n",
    "for i, f in enumerate(dataframes_funds):\n",
    "    best_params_for_transfromers.append(fit())"
   ],
   "id": "68b135e1205d2792"
  },
  {
   "metadata": {
    "ExecuteTime": {
     "end_time": "2025-01-29T16:53:46.043518Z",
     "start_time": "2025-01-29T16:53:43.218752Z"
    }
   },
   "cell_type": "code",
   "source": "fund_name_fund_df, sum_plt = technical_indicators_factory(dataframes_funds, funds_for_hedge)",
   "id": "4e85477023a54a4c",
   "outputs": [
    {
     "data": {
      "text/plain": [
       "<Figure size 1200x600 with 5 Axes>"
      ],
      "image/png": "[encoded data removed]"
     },
     "metadata": {},
     "output_type": "display_data"
    }
   ],
   "execution_count": 424
  },
  {
   "metadata": {
    "ExecuteTime": {
     "end_time": "2025-01-29T16:53:46.073328Z",
     "start_time": "2025-01-29T16:53:46.064356Z"
    }
   },
   "cell_type": "code",
   "source": [
    "transformers=[]\n",
    "vals=[]"
   ],
   "id": "4f7857723c44cd54",
   "outputs": [],
   "execution_count": 425
  },
  {
   "metadata": {
    "ExecuteTime": {
     "end_time": "2025-01-29T18:56:11.053699Z",
     "start_time": "2025-01-29T18:56:11.049670Z"
    }
   },
   "cell_type": "code",
   "source": [
    "best_params_per_model = [\n",
    "    {'gradient_clip_val': 0.1170917991042152, 'hidden_size': 60, 'dropout': 0.11869613309043395,\n",
    "     'hidden_continuous_size': 19, 'attention_head_size': 4, 'learning_rate': 0.003814810368668662},\n",
    "    {'gradient_clip_val': 0.015691176093369945, 'hidden_size': 98, 'dropout': 0.29590810356280955,\n",
    "     'hidden_continuous_size': 37, 'attention_head_size': 6, 'learning_rate': 0.005478633587765633},\n",
    "    {'gradient_clip_val': 0.032540265870562794, 'hidden_size': 75, 'dropout': 0.28617284712308855,\n",
    "     'hidden_continuous_size': 36, 'attention_head_size': 5, 'learning_rate': 0.005579041886792157},\n",
    "    {'gradient_clip_val': 0.27402792475271975, 'hidden_size': 14, 'dropout': 0.16937295209546838,\n",
    "     'hidden_continuous_size': 10, 'attention_head_size': 4, 'learning_rate': 0.007985354289781083},\n",
    "    {'gradient_clip_val': 0.11871482116616788, 'hidden_size': 62, 'dropout': 0.16547754484324415,\n",
    "     'hidden_continuous_size': 34, 'attention_head_size': 2, 'learning_rate': 0.0012659431875886532}\n",
    "]"
   ],
   "id": "cdda8e9929b395b9",
   "outputs": [],
   "execution_count": 81
  },
  {
   "metadata": {
    "ExecuteTime": {
     "end_time": "2025-01-29T19:00:33.327560Z",
     "start_time": "2025-01-29T19:00:21.009198Z"
    }
   },
   "cell_type": "code",
   "source": [
    "for i, (params, fund) in enumerate(zip(best_params_per_model, fund_name_fund_df)):\n",
    "    gradient_clip_val = params['gradient_clip_val']\n",
    "    hidden_size = params['hidden_size']\n",
    "    dropout = params['dropout']\n",
    "    hidden_continuous_size = params['hidden_continuous_size']\n",
    "    attention_head_size = params['attention_head_size']\n",
    "    learning_rate = params['learning_rate']\n",
    "\n",
    "    independent_variables = [\"Open\", \"High\", \"Low\", \"isOverbought\", \"Bullish\"]\n",
    "\n",
    "    tft, val = fit(\n",
    "        gradient_clip=gradient_clip_val,\n",
    "        hidden_size=hidden_size,\n",
    "        drop=dropout,\n",
    "        hidden_continuous_size=hidden_continuous_size,\n",
    "        attention_head_size=attention_head_size,\n",
    "        learning_rate=learning_rate,\n",
    "        epochs=100,                # Or set it dynamically\n",
    "        batch_size=128,           # Or set it dynamically\n",
    "        df=fund_name_fund_df[fund],  # Pass the fund data\n",
    "        independent_variables=independent_variables,  # Pass independent variables\n",
    "    )\n",
    "\n",
    "    transformers.append(tft)\n",
    "    vals.append(val)"
   ],
   "id": "b506e737cfecba0",
   "outputs": [
    {
     "name": "stderr",
     "output_type": "stream",
     "text": [
      "GPU available: True (cuda), used: False\n",
      "TPU available: False, using: 0 TPU cores\n",
      "HPU available: False, using: 0 HPUs\n",
      "\n",
      "   | Name                               | Type                            | Params | Mode \n",
      "------------------------------------------------------------------------------------------------\n",
      "0  | loss                               | QuantileLoss                    | 0      | train\n",
      "1  | logging_metrics                    | ModuleList                      | 0      | train\n",
      "2  | input_embeddings                   | MultiEmbedding                  | 1      | train\n",
      "3  | prescalers                         | ModuleDict                      | 380    | train\n",
      "4  | static_variable_selection          | VariableSelectionNetwork        | 11.0 K | train\n",
      "5  | encoder_variable_selection         | VariableSelectionNetwork        | 26.0 K | train\n",
      "6  | decoder_variable_selection         | VariableSelectionNetwork        | 22.2 K | train\n",
      "7  | static_context_variable_selection  | GatedResidualNetwork            | 14.8 K | train\n",
      "8  | static_context_initial_hidden_lstm | GatedResidualNetwork            | 14.8 K | train\n",
      "9  | static_context_initial_cell_lstm   | GatedResidualNetwork            | 14.8 K | train\n",
      "10 | static_context_enrichment          | GatedResidualNetwork            | 14.8 K | train\n",
      "11 | lstm_encoder                       | LSTM                            | 29.3 K | train\n",
      "12 | lstm_decoder                       | LSTM                            | 29.3 K | train\n",
      "13 | post_lstm_gate_encoder             | GatedLinearUnit                 | 7.3 K  | train\n",
      "14 | post_lstm_add_norm_encoder         | AddNorm                         | 120    | train\n",
      "15 | static_enrichment                  | GatedResidualNetwork            | 18.4 K | train\n",
      "16 | multihead_attn                     | InterpretableMultiHeadAttention | 9.1 K  | train\n",
      "17 | post_attn_gate_norm                | GateAddNorm                     | 7.4 K  | train\n",
      "18 | pos_wise_ff                        | GatedResidualNetwork            | 14.8 K | train\n",
      "19 | pre_output_gate_norm               | GateAddNorm                     | 7.4 K  | train\n",
      "20 | output_layer                       | Linear                          | 427    | train\n",
      "------------------------------------------------------------------------------------------------\n",
      "241 K     Trainable params\n",
      "0         Non-trainable params\n",
      "241 K     Total params\n",
      "0.966     Total estimated model params size (MB)\n"
     ]
    },
    {
     "name": "stdout",
     "output_type": "stream",
     "text": [
      "Epoch 0: 100%|██████████| 4/4 [00:01<00:00,  2.54it/s, v_num=45, train_loss_step=1.610]\n",
      "Validation: |          | 0/? [00:00<?, ?it/s]\u001B[A\n",
      "Validation:   0%|          | 0/1 [00:00<?, ?it/s]\u001B[A\n",
      "Validation DataLoader 0:   0%|          | 0/1 [00:00<?, ?it/s]\u001B[A\n",
      "Validation DataLoader 0: 100%|██████████| 1/1 [00:00<00:00, 10.43it/s]\u001B[A\n",
      "Epoch 1: 100%|██████████| 4/4 [00:01<00:00,  2.63it/s, v_num=45, train_loss_step=0.729, val_loss=1.320, train_loss_epoch=2.290]\n",
      "Validation: |          | 0/? [00:00<?, ?it/s]\u001B[A\n",
      "Validation:   0%|          | 0/1 [00:00<?, ?it/s]\u001B[A\n",
      "Validation DataLoader 0:   0%|          | 0/1 [00:00<?, ?it/s]\u001B[A\n",
      "Validation DataLoader 0: 100%|██████████| 1/1 [00:00<00:00,  9.14it/s]\u001B[A\n",
      "Epoch 2: 100%|██████████| 4/4 [00:01<00:00,  2.63it/s, v_num=45, train_loss_step=0.538, val_loss=0.754, train_loss_epoch=1.020]\n",
      "Validation: |          | 0/? [00:00<?, ?it/s]\u001B[A\n",
      "Validation:   0%|          | 0/1 [00:00<?, ?it/s]\u001B[A\n",
      "Validation DataLoader 0:   0%|          | 0/1 [00:00<?, ?it/s]\u001B[A\n",
      "Validation DataLoader 0: 100%|██████████| 1/1 [00:00<00:00, 11.71it/s]\u001B[A\n",
      "Epoch 3: 100%|██████████| 4/4 [00:01<00:00,  2.60it/s, v_num=45, train_loss_step=0.416, val_loss=0.379, train_loss_epoch=0.559]\n",
      "Validation: |          | 0/? [00:00<?, ?it/s]\u001B[A\n",
      "Validation:   0%|          | 0/1 [00:00<?, ?it/s]\u001B[A\n",
      "Validation DataLoader 0:   0%|          | 0/1 [00:00<?, ?it/s]\u001B[A\n",
      "Validation DataLoader 0: 100%|██████████| 1/1 [00:00<00:00,  9.44it/s]\u001B[A\n",
      "Epoch 4: 100%|██████████| 4/4 [00:01<00:00,  2.60it/s, v_num=45, train_loss_step=0.288, val_loss=0.377, train_loss_epoch=0.415]\n",
      "Validation: |          | 0/? [00:00<?, ?it/s]\u001B[A\n",
      "Validation:   0%|          | 0/1 [00:00<?, ?it/s]\u001B[A\n",
      "Validation DataLoader 0:   0%|          | 0/1 [00:00<?, ?it/s]\u001B[A\n",
      "Validation DataLoader 0: 100%|██████████| 1/1 [00:00<00:00,  9.69it/s]\u001B[A\n",
      "Epoch 5: 100%|██████████| 4/4 [00:01<00:00,  2.62it/s, v_num=45, train_loss_step=0.242, val_loss=0.310, train_loss_epoch=0.320]\n",
      "Validation: |          | 0/? [00:00<?, ?it/s]\u001B[A\n",
      "Validation:   0%|          | 0/1 [00:00<?, ?it/s]\u001B[A\n",
      "Validation DataLoader 0:   0%|          | 0/1 [00:00<?, ?it/s]\u001B[A\n",
      "Validation DataLoader 0: 100%|██████████| 1/1 [00:00<00:00, 10.74it/s]\u001B[A\n",
      "Epoch 6:   0%|          | 0/4 [00:00<?, ?it/s, v_num=45, train_loss_step=0.242, val_loss=0.236, train_loss_epoch=0.257]        "
     ]
    },
    {
     "ename": "ValueError",
     "evalue": "too many values to unpack (expected 2)",
     "output_type": "error",
     "traceback": [
      "\u001B[1;31m---------------------------------------------------------------------------\u001B[0m",
      "\u001B[1;31mValueError\u001B[0m                                Traceback (most recent call last)",
      "Cell \u001B[1;32mIn[84], line 11\u001B[0m\n\u001B[0;32m      7\u001B[0m learning_rate \u001B[38;5;241m=\u001B[39m params[\u001B[38;5;124m'\u001B[39m\u001B[38;5;124mlearning_rate\u001B[39m\u001B[38;5;124m'\u001B[39m]\n\u001B[0;32m      9\u001B[0m independent_variables \u001B[38;5;241m=\u001B[39m [\u001B[38;5;124m\"\u001B[39m\u001B[38;5;124mOpen\u001B[39m\u001B[38;5;124m\"\u001B[39m, \u001B[38;5;124m\"\u001B[39m\u001B[38;5;124mHigh\u001B[39m\u001B[38;5;124m\"\u001B[39m, \u001B[38;5;124m\"\u001B[39m\u001B[38;5;124mLow\u001B[39m\u001B[38;5;124m\"\u001B[39m, \u001B[38;5;124m\"\u001B[39m\u001B[38;5;124misOverbought\u001B[39m\u001B[38;5;124m\"\u001B[39m, \u001B[38;5;124m\"\u001B[39m\u001B[38;5;124mBullish\u001B[39m\u001B[38;5;124m\"\u001B[39m]\n\u001B[1;32m---> 11\u001B[0m tft, val \u001B[38;5;241m=\u001B[39m fit(\n\u001B[0;32m     12\u001B[0m     gradient_clip\u001B[38;5;241m=\u001B[39mgradient_clip_val,\n\u001B[0;32m     13\u001B[0m     hidden_size\u001B[38;5;241m=\u001B[39mhidden_size,\n\u001B[0;32m     14\u001B[0m     drop\u001B[38;5;241m=\u001B[39mdropout,\n\u001B[0;32m     15\u001B[0m     hidden_continuous_size\u001B[38;5;241m=\u001B[39mhidden_continuous_size,\n\u001B[0;32m     16\u001B[0m     attention_head_size\u001B[38;5;241m=\u001B[39mattention_head_size,\n\u001B[0;32m     17\u001B[0m     learning_rate\u001B[38;5;241m=\u001B[39mlearning_rate,\n\u001B[0;32m     18\u001B[0m     epochs\u001B[38;5;241m=\u001B[39m\u001B[38;5;241m100\u001B[39m,                \u001B[38;5;66;03m# Or set it dynamically\u001B[39;00m\n\u001B[0;32m     19\u001B[0m     batch_size\u001B[38;5;241m=\u001B[39m\u001B[38;5;241m128\u001B[39m,           \u001B[38;5;66;03m# Or set it dynamically\u001B[39;00m\n\u001B[0;32m     20\u001B[0m     df\u001B[38;5;241m=\u001B[39mfund_name_fund_df[fund],  \u001B[38;5;66;03m# Pass the fund data\u001B[39;00m\n\u001B[0;32m     21\u001B[0m     independent_variables\u001B[38;5;241m=\u001B[39mindependent_variables,  \u001B[38;5;66;03m# Pass independent variables\u001B[39;00m\n\u001B[0;32m     22\u001B[0m )\n\u001B[0;32m     24\u001B[0m transformers\u001B[38;5;241m.\u001B[39mappend(tft)\n\u001B[0;32m     25\u001B[0m vals\u001B[38;5;241m.\u001B[39mappend(val)\n",
      "\u001B[1;31mValueError\u001B[0m: too many values to unpack (expected 2)"
     ]
    }
   ],
   "execution_count": 84
  },
  {
   "metadata": {
    "ExecuteTime": {
     "end_time": "2025-01-29T16:55:47.993198Z",
     "start_time": "2025-01-29T16:53:46.249858Z"
    }
   },
   "cell_type": "code",
   "source": [
    "for fund in fund_name_fund_df:\n",
    "    tft, val = fit(epochs=10, batch_size=128, df=fund_name_fund_df[fund], independent_variables=[\"Open\", \"High\", \"Low\", \"isOverbought\", \"Bullish\"])\n",
    "    transformers.append(tft)\n",
    "    vals.append(val)"
   ],
   "id": "b6e01f743c7bfa4a",
   "outputs": [
    {
     "name": "stderr",
     "output_type": "stream",
     "text": [
      "GPU available: False, used: False\n",
      "TPU available: False, using: 0 TPU cores\n",
      "HPU available: False, using: 0 HPUs\n",
      "\n",
      "   | Name                               | Type                            | Params | Mode \n",
      "------------------------------------------------------------------------------------------------\n",
      "0  | loss                               | QuantileLoss                    | 0      | train\n",
      "1  | logging_metrics                    | ModuleList                      | 0      | train\n",
      "2  | input_embeddings                   | MultiEmbedding                  | 1      | train\n",
      "3  | prescalers                         | ModuleDict                      | 880    | train\n",
      "4  | static_variable_selection          | VariableSelectionNetwork        | 38.1 K | train\n",
      "5  | encoder_variable_selection         | VariableSelectionNetwork        | 89.8 K | train\n",
      "6  | decoder_variable_selection         | VariableSelectionNetwork        | 76.7 K | train\n",
      "7  | static_context_variable_selection  | GatedResidualNetwork            | 31.5 K | train\n",
      "8  | static_context_initial_hidden_lstm | GatedResidualNetwork            | 31.5 K | train\n",
      "9  | static_context_initial_cell_lstm   | GatedResidualNetwork            | 31.5 K | train\n",
      "10 | static_context_enrichment          | GatedResidualNetwork            | 31.5 K | train\n",
      "11 | lstm_encoder                       | LSTM                            | 62.7 K | train\n",
      "12 | lstm_decoder                       | LSTM                            | 62.7 K | train\n",
      "13 | post_lstm_gate_encoder             | GatedLinearUnit                 | 15.7 K | train\n",
      "14 | post_lstm_add_norm_encoder         | AddNorm                         | 176    | train\n",
      "15 | static_enrichment                  | GatedResidualNetwork            | 39.2 K | train\n",
      "16 | multihead_attn                     | InterpretableMultiHeadAttention | 19.6 K | train\n",
      "17 | post_attn_gate_norm                | GateAddNorm                     | 15.8 K | train\n",
      "18 | pos_wise_ff                        | GatedResidualNetwork            | 31.5 K | train\n",
      "19 | pre_output_gate_norm               | GateAddNorm                     | 15.8 K | train\n",
      "20 | output_layer                       | Linear                          | 623    | train\n",
      "------------------------------------------------------------------------------------------------\n",
      "593 K     Trainable params\n",
      "0         Non-trainable params\n",
      "593 K     Total params\n",
      "2.376     Total estimated model params size (MB)\n",
      "400       Modules in train mode\n",
      "0         Modules in eval mode\n"
     ]
    },
    {
     "data": {
      "text/plain": [
       "Sanity Checking: |          | 0/? [00:00<?, ?it/s]"
      ],
      "application/vnd.jupyter.widget-view+json": {
       "version_major": 2,
       "version_minor": 0,
       "model_id": "2c50d400082b4c748f9fa82305e4602c"
      }
     },
     "metadata": {},
     "output_type": "display_data"
    },
    {
     "data": {
      "text/plain": [
       "Training: |          | 0/? [00:00<?, ?it/s]"
      ],
      "application/vnd.jupyter.widget-view+json": {
       "version_major": 2,
       "version_minor": 0,
       "model_id": "35ef5395a5c1464a9dd0af2fde8efe2e"
      }
     },
     "metadata": {},
     "output_type": "display_data"
    },
    {
     "data": {
      "text/plain": [
       "Validation: |          | 0/? [00:00<?, ?it/s]"
      ],
      "application/vnd.jupyter.widget-view+json": {
       "version_major": 2,
       "version_minor": 0,
       "model_id": "1fb8bb867d9c4ed284f80af7474d84da"
      }
     },
     "metadata": {},
     "output_type": "display_data"
    },
    {
     "data": {
      "text/plain": [
       "Validation: |          | 0/? [00:00<?, ?it/s]"
      ],
      "application/vnd.jupyter.widget-view+json": {
       "version_major": 2,
       "version_minor": 0,
       "model_id": "3b8d2c8fb8ab487480a7671409494b0c"
      }
     },
     "metadata": {},
     "output_type": "display_data"
    },
    {
     "data": {
      "text/plain": [
       "Validation: |          | 0/? [00:00<?, ?it/s]"
      ],
      "application/vnd.jupyter.widget-view+json": {
       "version_major": 2,
       "version_minor": 0,
       "model_id": "e13dba5255e4487890876898fe8d79f0"
      }
     },
     "metadata": {},
     "output_type": "display_data"
    },
    {
     "data": {
      "text/plain": [
       "Validation: |          | 0/? [00:00<?, ?it/s]"
      ],
      "application/vnd.jupyter.widget-view+json": {
       "version_major": 2,
       "version_minor": 0,
       "model_id": "bda0e62679214a89aab477f6f282fbb7"
      }
     },
     "metadata": {},
     "output_type": "display_data"
    },
    {
     "data": {
      "text/plain": [
       "Validation: |          | 0/? [00:00<?, ?it/s]"
      ],
      "application/vnd.jupyter.widget-view+json": {
       "version_major": 2,
       "version_minor": 0,
       "model_id": "8f599d5c310246ea848ee791d7cf7fbb"
      }
     },
     "metadata": {},
     "output_type": "display_data"
    },
    {
     "data": {
      "text/plain": [
       "Validation: |          | 0/? [00:00<?, ?it/s]"
      ],
      "application/vnd.jupyter.widget-view+json": {
       "version_major": 2,
       "version_minor": 0,
       "model_id": "3190c9de084845828156b3d671a2bb4b"
      }
     },
     "metadata": {},
     "output_type": "display_data"
    },
    {
     "data": {
      "text/plain": [
       "Validation: |          | 0/? [00:00<?, ?it/s]"
      ],
      "application/vnd.jupyter.widget-view+json": {
       "version_major": 2,
       "version_minor": 0,
       "model_id": "aa5ac4beb5794524a27fafeecb85d719"
      }
     },
     "metadata": {},
     "output_type": "display_data"
    },
    {
     "data": {
      "text/plain": [
       "Validation: |          | 0/? [00:00<?, ?it/s]"
      ],
      "application/vnd.jupyter.widget-view+json": {
       "version_major": 2,
       "version_minor": 0,
       "model_id": "ea5e15f299e841f183afc1d9f3efa12a"
      }
     },
     "metadata": {},
     "output_type": "display_data"
    },
    {
     "data": {
      "text/plain": [
       "Validation: |          | 0/? [00:00<?, ?it/s]"
      ],
      "application/vnd.jupyter.widget-view+json": {
       "version_major": 2,
       "version_minor": 0,
       "model_id": "bdc3bf11c5444f66ae1c0cc8d825b8c7"
      }
     },
     "metadata": {},
     "output_type": "display_data"
    },
    {
     "data": {
      "text/plain": [
       "Validation: |          | 0/? [00:00<?, ?it/s]"
      ],
      "application/vnd.jupyter.widget-view+json": {
       "version_major": 2,
       "version_minor": 0,
       "model_id": "307e1573c27040f6884653c19d24ed97"
      }
     },
     "metadata": {},
     "output_type": "display_data"
    },
    {
     "name": "stderr",
     "output_type": "stream",
     "text": [
      "`Trainer.fit` stopped: `max_epochs=10` reached.\n"
     ]
    }
   ],
   "execution_count": 426
  },
  {
   "metadata": {
    "ExecuteTime": {
     "end_time": "2025-01-29T16:55:48.416712Z",
     "start_time": "2025-01-29T16:55:48.182695Z"
    }
   },
   "cell_type": "code",
   "source": [
    "pred = []\n",
    "for i in range(len(fund_name_fund_df)):\n",
    "    pred.append(predictt(transformers[i], vals[i]))"
   ],
   "id": "be38f4e690c0ef33",
   "outputs": [
    {
     "name": "stderr",
     "output_type": "stream",
     "text": [
      "GPU available: False, used: False\n",
      "TPU available: False, using: 0 TPU cores\n",
      "HPU available: False, using: 0 HPUs\n"
     ]
    }
   ],
   "execution_count": 427
  },
  {
   "metadata": {
    "ExecuteTime": {
     "end_time": "2025-01-29T16:55:49.055740Z",
     "start_time": "2025-01-29T16:55:48.619906Z"
    }
   },
   "cell_type": "code",
   "source": "IE_many1_rse, IE_many1_rae, IE_many1_hub, IE_many1_plt2,= metrics_and_plt(funds_w_names[funds_for_hedge[0]], pred[0][-31:], pd.date_range(start=\"2023-11-29\", end=\"2023-12-29\"), date=\"2023-11-28\")",
   "id": "c88b511df6d1c9b7",
   "outputs": [
    {
     "name": "stdout",
     "output_type": "stream",
     "text": [
      "361\n",
      "31\n"
     ]
    },
    {
     "data": {
      "text/plain": [
       "<Figure size 1000x600 with 1 Axes>"
      ],
      "image/png": "[encoded data removed]"
     },
     "metadata": {},
     "output_type": "display_data"
    }
   ],
   "execution_count": 428
  },
  {
   "metadata": {},
   "cell_type": "code",
   "source": [
    "# GIGAFUND_NORM = GIGAFUND.copy()\n",
    "# \n",
    "# columns_to_normalize = [\"Open\", \"High\", \"Low\", \"Close\", \"Volume\", \"Return\", \"Rolling Volatility\"]\n",
    "# \n",
    "# GIGAFUND_NORM[columns_to_normalize] = (\n",
    "#     GIGAFUND_NORM[columns_to_normalize]\n",
    "#     .apply(lambda col: (col - col.min()) / (col.max() - col.min()), axis=0)\n",
    "# )"
   ],
   "id": "e031d8162306bbe2",
   "outputs": [],
   "execution_count": null
  },
  {
   "metadata": {},
   "cell_type": "code",
   "source": [
    "# duplicate_rows = GIGAFUND_NORM[GIGAFUND_NORM.duplicated(subset=[\"time_idx\", \"group_id\"], keep=False)]\n",
    "# print(duplicate_rows)"
   ],
   "id": "b4dab9eecd8ff6c5",
   "outputs": [],
   "execution_count": null
  },
  {
   "metadata": {},
   "cell_type": "code",
   "source": "# gftft, gftr, gfv = fit(epochs=10, batch_size=128, lr=1e-3, dropout=0.1, df=GIGAFUND_NORM, independent_variables=[\"Open\", \"High\", \"Low\", \"isOverbought\", \"Bullish\"], target=\"Close\")",
   "id": "616148dfd7bc99f2",
   "outputs": [],
   "execution_count": null
  },
  {
   "metadata": {},
   "cell_type": "code",
   "source": "# IE_indicators_preds = predictt(gftft, gftr, gfv)",
   "id": "559cb43917ba1aca",
   "outputs": [],
   "execution_count": null
  },
  {
   "metadata": {},
   "cell_type": "code",
   "source": [
    "# normalized = dataframes_funds[1][columns_to_normalize] = (\n",
    "#     dataframes_funds[1][columns_to_normalize]\n",
    "#     .apply(lambda col: (col - col.min()) / (col.max() - col.min()), axis=0)\n",
    "# )"
   ],
   "id": "92aedff51f616074",
   "outputs": [],
   "execution_count": null
  },
  {
   "metadata": {},
   "cell_type": "code",
   "source": "# mse, plt, mape, huber = metrics_and_plt(dataframes_funds[1], IE_indicators_preds, pd.date_range(start=\"2023-10-29\", end=\"2023-12-29\"), date=\"2023-10-29\")",
   "id": "3ab261ed9dd21ea9",
   "outputs": [],
   "execution_count": null
  },
  {
   "metadata": {},
   "cell_type": "markdown",
   "source": "5) MANY FUNDS, INDICATORS, RESIDUALS",
   "id": "652079f46ab42e7b"
  },
  {
   "metadata": {
    "ExecuteTime": {
     "end_time": "2025-01-29T16:55:49.276661Z",
     "start_time": "2025-01-29T16:55:49.262699Z"
    }
   },
   "cell_type": "code",
   "source": [
    "resztkiii = []\n",
    "for i in range(len(funds_for_hedge)):\n",
    "    resztkiii.append(abs(pred[i] - fund_name_fund_df[funds_for_hedge[i]][\"Close\"][\"2023-10-29\":\"2023-12-29\"]))"
   ],
   "id": "bad2af78cc1645a4",
   "outputs": [],
   "execution_count": 429
  },
  {
   "metadata": {
    "ExecuteTime": {
     "end_time": "2025-01-29T16:55:49.494976Z",
     "start_time": "2025-01-29T16:55:49.480981Z"
    }
   },
   "cell_type": "code",
   "source": [
    "residualsss=[]\n",
    "for i in range(len(funds_for_hedge)):\n",
    "    residualsss.append(fund_name_fund_df[funds_for_hedge[i]][300:].copy())\n",
    "    residualsss[i][\"Remainders\"] = resztkiii[i]\n",
    "    residualsss[i].index = pd.to_datetime(residualsss[i].index)  # ensure index is datetime if not already\n",
    "    residualsss[i][\"time_idx\"] = (residualsss[i].index.date - residualsss[i].index.date[0]).astype(\"timedelta64[D]\").astype(int)\n",
    "    residualsss[i]['group_id'] = fund_name_fund_df[funds_for_hedge[i]][300:][\"group_id\"]"
   ],
   "id": "3b50748f1948ad46",
   "outputs": [],
   "execution_count": 430
  },
  {
   "metadata": {
    "ExecuteTime": {
     "end_time": "2025-01-29T16:57:44.026888Z",
     "start_time": "2025-01-29T16:55:49.701328Z"
    }
   },
   "cell_type": "code",
   "source": [
    "transformers_res=[]\n",
    "vals_res=[]\n",
    "for i in range(len(funds_for_hedge)):\n",
    "    tft, val = fit(epochs=100, batch_size=128, df=residualsss[i], independent_variables=[\"Open\", \"High\", \"Low\", \"isOverbought\", \"Bullish\"], target=\"Remainders\", max_prediction_length=31)\n",
    "    transformers_res.append(tft)\n",
    "    vals_res.append(val)"
   ],
   "id": "8105110cdd1a65bd",
   "outputs": [
    {
     "name": "stderr",
     "output_type": "stream",
     "text": [
      "GPU available: False, used: False\n",
      "TPU available: False, using: 0 TPU cores\n",
      "HPU available: False, using: 0 HPUs\n",
      "\n",
      "   | Name                               | Type                            | Params | Mode \n",
      "------------------------------------------------------------------------------------------------\n",
      "0  | loss                               | QuantileLoss                    | 0      | train\n",
      "1  | logging_metrics                    | ModuleList                      | 0      | train\n",
      "2  | input_embeddings                   | MultiEmbedding                  | 1      | train\n",
      "3  | prescalers                         | ModuleDict                      | 880    | train\n",
      "4  | static_variable_selection          | VariableSelectionNetwork        | 38.1 K | train\n",
      "5  | encoder_variable_selection         | VariableSelectionNetwork        | 89.8 K | train\n",
      "6  | decoder_variable_selection         | VariableSelectionNetwork        | 76.7 K | train\n",
      "7  | static_context_variable_selection  | GatedResidualNetwork            | 31.5 K | train\n",
      "8  | static_context_initial_hidden_lstm | GatedResidualNetwork            | 31.5 K | train\n",
      "9  | static_context_initial_cell_lstm   | GatedResidualNetwork            | 31.5 K | train\n",
      "10 | static_context_enrichment          | GatedResidualNetwork            | 31.5 K | train\n",
      "11 | lstm_encoder                       | LSTM                            | 62.7 K | train\n",
      "12 | lstm_decoder                       | LSTM                            | 62.7 K | train\n",
      "13 | post_lstm_gate_encoder             | GatedLinearUnit                 | 15.7 K | train\n",
      "14 | post_lstm_add_norm_encoder         | AddNorm                         | 176    | train\n",
      "15 | static_enrichment                  | GatedResidualNetwork            | 39.2 K | train\n",
      "16 | multihead_attn                     | InterpretableMultiHeadAttention | 19.6 K | train\n",
      "17 | post_attn_gate_norm                | GateAddNorm                     | 15.8 K | train\n",
      "18 | pos_wise_ff                        | GatedResidualNetwork            | 31.5 K | train\n",
      "19 | pre_output_gate_norm               | GateAddNorm                     | 15.8 K | train\n",
      "20 | output_layer                       | Linear                          | 623    | train\n",
      "------------------------------------------------------------------------------------------------\n",
      "593 K     Trainable params\n",
      "0         Non-trainable params\n",
      "593 K     Total params\n",
      "2.376     Total estimated model params size (MB)\n",
      "400       Modules in train mode\n",
      "0         Modules in eval mode\n"
     ]
    },
    {
     "data": {
      "text/plain": [
       "Sanity Checking: |          | 0/? [00:00<?, ?it/s]"
      ],
      "application/vnd.jupyter.widget-view+json": {
       "version_major": 2,
       "version_minor": 0,
       "model_id": "ad70ed60903243a2aff34505377283a5"
      }
     },
     "metadata": {},
     "output_type": "display_data"
    },
    {
     "data": {
      "text/plain": [
       "Training: |          | 0/? [00:00<?, ?it/s]"
      ],
      "application/vnd.jupyter.widget-view+json": {
       "version_major": 2,
       "version_minor": 0,
       "model_id": "ec445bc8474648f7ba8ada04333064ce"
      }
     },
     "metadata": {},
     "output_type": "display_data"
    },
    {
     "data": {
      "text/plain": [
       "Validation: |          | 0/? [00:00<?, ?it/s]"
      ],
      "application/vnd.jupyter.widget-view+json": {
       "version_major": 2,
       "version_minor": 0,
       "model_id": "29c59878ac9147f8b9fe0bd1ae3fa0b2"
      }
     },
     "metadata": {},
     "output_type": "display_data"
    },
    {
     "data": {
      "text/plain": [
       "Validation: |          | 0/? [00:00<?, ?it/s]"
      ],
      "application/vnd.jupyter.widget-view+json": {
       "version_major": 2,
       "version_minor": 0,
       "model_id": "2ef9e8cdafbe497e8f17c3d0d6d5486f"
      }
     },
     "metadata": {},
     "output_type": "display_data"
    },
    {
     "data": {
      "text/plain": [
       "Validation: |          | 0/? [00:00<?, ?it/s]"
      ],
      "application/vnd.jupyter.widget-view+json": {
       "version_major": 2,
       "version_minor": 0,
       "model_id": "37a9beb036ad4f6c8645af1560489573"
      }
     },
     "metadata": {},
     "output_type": "display_data"
    },
    {
     "data": {
      "text/plain": [
       "Validation: |          | 0/? [00:00<?, ?it/s]"
      ],
      "application/vnd.jupyter.widget-view+json": {
       "version_major": 2,
       "version_minor": 0,
       "model_id": "df794e8b0165453496cd16c7e309eba0"
      }
     },
     "metadata": {},
     "output_type": "display_data"
    },
    {
     "data": {
      "text/plain": [
       "Validation: |          | 0/? [00:00<?, ?it/s]"
      ],
      "application/vnd.jupyter.widget-view+json": {
       "version_major": 2,
       "version_minor": 0,
       "model_id": "f74981fe6e5d4c9d81ecc01efc8bf4a5"
      }
     },
     "metadata": {},
     "output_type": "display_data"
    },
    {
     "data": {
      "text/plain": [
       "Validation: |          | 0/? [00:00<?, ?it/s]"
      ],
      "application/vnd.jupyter.widget-view+json": {
       "version_major": 2,
       "version_minor": 0,
       "model_id": "e2e0cb50b70344899de6e769973e0180"
      }
     },
     "metadata": {},
     "output_type": "display_data"
    },
    {
     "data": {
      "text/plain": [
       "Validation: |          | 0/? [00:00<?, ?it/s]"
      ],
      "application/vnd.jupyter.widget-view+json": {
       "version_major": 2,
       "version_minor": 0,
       "model_id": "72243a5d776b444f836d123956dab565"
      }
     },
     "metadata": {},
     "output_type": "display_data"
    },
    {
     "data": {
      "text/plain": [
       "Validation: |          | 0/? [00:00<?, ?it/s]"
      ],
      "application/vnd.jupyter.widget-view+json": {
       "version_major": 2,
       "version_minor": 0,
       "model_id": "7115a8ad7a6b4a0b83ccad046be361b3"
      }
     },
     "metadata": {},
     "output_type": "display_data"
    },
    {
     "data": {
      "text/plain": [
       "Validation: |          | 0/? [00:00<?, ?it/s]"
      ],
      "application/vnd.jupyter.widget-view+json": {
       "version_major": 2,
       "version_minor": 0,
       "model_id": "8fd7b20a6efd402caeee476a69c301c1"
      }
     },
     "metadata": {},
     "output_type": "display_data"
    },
    {
     "data": {
      "text/plain": [
       "Validation: |          | 0/? [00:00<?, ?it/s]"
      ],
      "application/vnd.jupyter.widget-view+json": {
       "version_major": 2,
       "version_minor": 0,
       "model_id": "cee83e115a844d29ace8c6f033448ca0"
      }
     },
     "metadata": {},
     "output_type": "display_data"
    },
    {
     "data": {
      "text/plain": [
       "Validation: |          | 0/? [00:00<?, ?it/s]"
      ],
      "application/vnd.jupyter.widget-view+json": {
       "version_major": 2,
       "version_minor": 0,
       "model_id": "a6f7725dea16407c9cb83110bc396ff4"
      }
     },
     "metadata": {},
     "output_type": "display_data"
    },
    {
     "data": {
      "text/plain": [
       "Validation: |          | 0/? [00:00<?, ?it/s]"
      ],
      "application/vnd.jupyter.widget-view+json": {
       "version_major": 2,
       "version_minor": 0,
       "model_id": "13241eb225cd4378953556e114e454fa"
      }
     },
     "metadata": {},
     "output_type": "display_data"
    },
    {
     "data": {
      "text/plain": [
       "Validation: |          | 0/? [00:00<?, ?it/s]"
      ],
      "application/vnd.jupyter.widget-view+json": {
       "version_major": 2,
       "version_minor": 0,
       "model_id": "7a210b5b0c27403f9d469552a943a90e"
      }
     },
     "metadata": {},
     "output_type": "display_data"
    },
    {
     "data": {
      "text/plain": [
       "Validation: |          | 0/? [00:00<?, ?it/s]"
      ],
      "application/vnd.jupyter.widget-view+json": {
       "version_major": 2,
       "version_minor": 0,
       "model_id": "9b3c239299234d9383dc2d906e7a8d9a"
      }
     },
     "metadata": {},
     "output_type": "display_data"
    },
    {
     "data": {
      "text/plain": [
       "Validation: |          | 0/? [00:00<?, ?it/s]"
      ],
      "application/vnd.jupyter.widget-view+json": {
       "version_major": 2,
       "version_minor": 0,
       "model_id": "f2aa33918ab4401e8058c795e728fc5f"
      }
     },
     "metadata": {},
     "output_type": "display_data"
    },
    {
     "data": {
      "text/plain": [
       "Validation: |          | 0/? [00:00<?, ?it/s]"
      ],
      "application/vnd.jupyter.widget-view+json": {
       "version_major": 2,
       "version_minor": 0,
       "model_id": "92b156a13f4c4a3d88efd672f2a89e4c"
      }
     },
     "metadata": {},
     "output_type": "display_data"
    },
    {
     "data": {
      "text/plain": [
       "Validation: |          | 0/? [00:00<?, ?it/s]"
      ],
      "application/vnd.jupyter.widget-view+json": {
       "version_major": 2,
       "version_minor": 0,
       "model_id": "dce6e08d845643bbb42bea45955eb8c4"
      }
     },
     "metadata": {},
     "output_type": "display_data"
    },
    {
     "data": {
      "text/plain": [
       "Validation: |          | 0/? [00:00<?, ?it/s]"
      ],
      "application/vnd.jupyter.widget-view+json": {
       "version_major": 2,
       "version_minor": 0,
       "model_id": "b8e986767be44842a04f34fd0a58a875"
      }
     },
     "metadata": {},
     "output_type": "display_data"
    },
    {
     "data": {
      "text/plain": [
       "Validation: |          | 0/? [00:00<?, ?it/s]"
      ],
      "application/vnd.jupyter.widget-view+json": {
       "version_major": 2,
       "version_minor": 0,
       "model_id": "2abd52b00eb24db6b2cec9013eea2bfd"
      }
     },
     "metadata": {},
     "output_type": "display_data"
    },
    {
     "data": {
      "text/plain": [
       "Validation: |          | 0/? [00:00<?, ?it/s]"
      ],
      "application/vnd.jupyter.widget-view+json": {
       "version_major": 2,
       "version_minor": 0,
       "model_id": "e6ca0036f99d47c1b1876d1d1845ebe9"
      }
     },
     "metadata": {},
     "output_type": "display_data"
    },
    {
     "data": {
      "text/plain": [
       "Validation: |          | 0/? [00:00<?, ?it/s]"
      ],
      "application/vnd.jupyter.widget-view+json": {
       "version_major": 2,
       "version_minor": 0,
       "model_id": "72cac45e878e4e30a7379fb925dc8ec1"
      }
     },
     "metadata": {},
     "output_type": "display_data"
    },
    {
     "data": {
      "text/plain": [
       "Validation: |          | 0/? [00:00<?, ?it/s]"
      ],
      "application/vnd.jupyter.widget-view+json": {
       "version_major": 2,
       "version_minor": 0,
       "model_id": "00dde90e1a2847a7b09d874ffe014d4f"
      }
     },
     "metadata": {},
     "output_type": "display_data"
    },
    {
     "data": {
      "text/plain": [
       "Validation: |          | 0/? [00:00<?, ?it/s]"
      ],
      "application/vnd.jupyter.widget-view+json": {
       "version_major": 2,
       "version_minor": 0,
       "model_id": "0a0b57cba53d4fc994d2572408395b23"
      }
     },
     "metadata": {},
     "output_type": "display_data"
    },
    {
     "data": {
      "text/plain": [
       "Validation: |          | 0/? [00:00<?, ?it/s]"
      ],
      "application/vnd.jupyter.widget-view+json": {
       "version_major": 2,
       "version_minor": 0,
       "model_id": "516be0bec8f845d08f723774e835f3a7"
      }
     },
     "metadata": {},
     "output_type": "display_data"
    },
    {
     "data": {
      "text/plain": [
       "Validation: |          | 0/? [00:00<?, ?it/s]"
      ],
      "application/vnd.jupyter.widget-view+json": {
       "version_major": 2,
       "version_minor": 0,
       "model_id": "d636be2b8f4d467a857514f11ce61c6c"
      }
     },
     "metadata": {},
     "output_type": "display_data"
    },
    {
     "data": {
      "text/plain": [
       "Validation: |          | 0/? [00:00<?, ?it/s]"
      ],
      "application/vnd.jupyter.widget-view+json": {
       "version_major": 2,
       "version_minor": 0,
       "model_id": "692b73aac08749f8afa4a8871d89c8c9"
      }
     },
     "metadata": {},
     "output_type": "display_data"
    },
    {
     "data": {
      "text/plain": [
       "Validation: |          | 0/? [00:00<?, ?it/s]"
      ],
      "application/vnd.jupyter.widget-view+json": {
       "version_major": 2,
       "version_minor": 0,
       "model_id": "713772a13e604c1e94d1b859c613bfb2"
      }
     },
     "metadata": {},
     "output_type": "display_data"
    },
    {
     "data": {
      "text/plain": [
       "Validation: |          | 0/? [00:00<?, ?it/s]"
      ],
      "application/vnd.jupyter.widget-view+json": {
       "version_major": 2,
       "version_minor": 0,
       "model_id": "5a879e4c1bfa4112b500f812d6e01533"
      }
     },
     "metadata": {},
     "output_type": "display_data"
    },
    {
     "data": {
      "text/plain": [
       "Validation: |          | 0/? [00:00<?, ?it/s]"
      ],
      "application/vnd.jupyter.widget-view+json": {
       "version_major": 2,
       "version_minor": 0,
       "model_id": "38983c822373445dac2a752e1339a1cc"
      }
     },
     "metadata": {},
     "output_type": "display_data"
    },
    {
     "data": {
      "text/plain": [
       "Validation: |          | 0/? [00:00<?, ?it/s]"
      ],
      "application/vnd.jupyter.widget-view+json": {
       "version_major": 2,
       "version_minor": 0,
       "model_id": "f72ecd54fe7b4450bfbe558971186feb"
      }
     },
     "metadata": {},
     "output_type": "display_data"
    },
    {
     "data": {
      "text/plain": [
       "Validation: |          | 0/? [00:00<?, ?it/s]"
      ],
      "application/vnd.jupyter.widget-view+json": {
       "version_major": 2,
       "version_minor": 0,
       "model_id": "b7e4e990520a49378908c6837c5cc6a6"
      }
     },
     "metadata": {},
     "output_type": "display_data"
    },
    {
     "data": {
      "text/plain": [
       "Validation: |          | 0/? [00:00<?, ?it/s]"
      ],
      "application/vnd.jupyter.widget-view+json": {
       "version_major": 2,
       "version_minor": 0,
       "model_id": "74888f57e17049fb8b95782605df3b42"
      }
     },
     "metadata": {},
     "output_type": "display_data"
    },
    {
     "data": {
      "text/plain": [
       "Validation: |          | 0/? [00:00<?, ?it/s]"
      ],
      "application/vnd.jupyter.widget-view+json": {
       "version_major": 2,
       "version_minor": 0,
       "model_id": "c9afd992f7f149649309ce79af690dda"
      }
     },
     "metadata": {},
     "output_type": "display_data"
    },
    {
     "data": {
      "text/plain": [
       "Validation: |          | 0/? [00:00<?, ?it/s]"
      ],
      "application/vnd.jupyter.widget-view+json": {
       "version_major": 2,
       "version_minor": 0,
       "model_id": "2f369ebc125645aeb4d0706e33e0edb2"
      }
     },
     "metadata": {},
     "output_type": "display_data"
    },
    {
     "data": {
      "text/plain": [
       "Validation: |          | 0/? [00:00<?, ?it/s]"
      ],
      "application/vnd.jupyter.widget-view+json": {
       "version_major": 2,
       "version_minor": 0,
       "model_id": "5afa48c68e72492997fce10000691a80"
      }
     },
     "metadata": {},
     "output_type": "display_data"
    },
    {
     "data": {
      "text/plain": [
       "Validation: |          | 0/? [00:00<?, ?it/s]"
      ],
      "application/vnd.jupyter.widget-view+json": {
       "version_major": 2,
       "version_minor": 0,
       "model_id": "8ad0da90ae5f46cbae07c20ccbf5ed35"
      }
     },
     "metadata": {},
     "output_type": "display_data"
    },
    {
     "data": {
      "text/plain": [
       "Validation: |          | 0/? [00:00<?, ?it/s]"
      ],
      "application/vnd.jupyter.widget-view+json": {
       "version_major": 2,
       "version_minor": 0,
       "model_id": "ed3f0105ef9249369726eefc99b20d21"
      }
     },
     "metadata": {},
     "output_type": "display_data"
    },
    {
     "data": {
      "text/plain": [
       "Validation: |          | 0/? [00:00<?, ?it/s]"
      ],
      "application/vnd.jupyter.widget-view+json": {
       "version_major": 2,
       "version_minor": 0,
       "model_id": "9d05fc932f14439db50362dccf8773e4"
      }
     },
     "metadata": {},
     "output_type": "display_data"
    },
    {
     "data": {
      "text/plain": [
       "Validation: |          | 0/? [00:00<?, ?it/s]"
      ],
      "application/vnd.jupyter.widget-view+json": {
       "version_major": 2,
       "version_minor": 0,
       "model_id": "c00d6104347a476e81c551eb0ba6ac43"
      }
     },
     "metadata": {},
     "output_type": "display_data"
    },
    {
     "data": {
      "text/plain": [
       "Validation: |          | 0/? [00:00<?, ?it/s]"
      ],
      "application/vnd.jupyter.widget-view+json": {
       "version_major": 2,
       "version_minor": 0,
       "model_id": "69a19b0315c5464886eaee067232d2e7"
      }
     },
     "metadata": {},
     "output_type": "display_data"
    },
    {
     "data": {
      "text/plain": [
       "Validation: |          | 0/? [00:00<?, ?it/s]"
      ],
      "application/vnd.jupyter.widget-view+json": {
       "version_major": 2,
       "version_minor": 0,
       "model_id": "3b5a98dc2cb142739dd50e95065e3a75"
      }
     },
     "metadata": {},
     "output_type": "display_data"
    },
    {
     "data": {
      "text/plain": [
       "Validation: |          | 0/? [00:00<?, ?it/s]"
      ],
      "application/vnd.jupyter.widget-view+json": {
       "version_major": 2,
       "version_minor": 0,
       "model_id": "d6cbd65877994adcaf6519d59e2e5fcd"
      }
     },
     "metadata": {},
     "output_type": "display_data"
    },
    {
     "data": {
      "text/plain": [
       "Validation: |          | 0/? [00:00<?, ?it/s]"
      ],
      "application/vnd.jupyter.widget-view+json": {
       "version_major": 2,
       "version_minor": 0,
       "model_id": "02e9faa1170f46548f5aa02dfe816332"
      }
     },
     "metadata": {},
     "output_type": "display_data"
    },
    {
     "data": {
      "text/plain": [
       "Validation: |          | 0/? [00:00<?, ?it/s]"
      ],
      "application/vnd.jupyter.widget-view+json": {
       "version_major": 2,
       "version_minor": 0,
       "model_id": "16a116254dfe46e6afa0fef6f768a8f8"
      }
     },
     "metadata": {},
     "output_type": "display_data"
    },
    {
     "data": {
      "text/plain": [
       "Validation: |          | 0/? [00:00<?, ?it/s]"
      ],
      "application/vnd.jupyter.widget-view+json": {
       "version_major": 2,
       "version_minor": 0,
       "model_id": "c58b37e9d9b14173a070723c6ad2e017"
      }
     },
     "metadata": {},
     "output_type": "display_data"
    },
    {
     "data": {
      "text/plain": [
       "Validation: |          | 0/? [00:00<?, ?it/s]"
      ],
      "application/vnd.jupyter.widget-view+json": {
       "version_major": 2,
       "version_minor": 0,
       "model_id": "52182ba3bbbc43b597d0aa5e556f303d"
      }
     },
     "metadata": {},
     "output_type": "display_data"
    },
    {
     "data": {
      "text/plain": [
       "Validation: |          | 0/? [00:00<?, ?it/s]"
      ],
      "application/vnd.jupyter.widget-view+json": {
       "version_major": 2,
       "version_minor": 0,
       "model_id": "a76c36e03f0341b699aef01870717353"
      }
     },
     "metadata": {},
     "output_type": "display_data"
    },
    {
     "data": {
      "text/plain": [
       "Validation: |          | 0/? [00:00<?, ?it/s]"
      ],
      "application/vnd.jupyter.widget-view+json": {
       "version_major": 2,
       "version_minor": 0,
       "model_id": "aae2e6f0e802462ebbaf4f803918f10d"
      }
     },
     "metadata": {},
     "output_type": "display_data"
    },
    {
     "data": {
      "text/plain": [
       "Validation: |          | 0/? [00:00<?, ?it/s]"
      ],
      "application/vnd.jupyter.widget-view+json": {
       "version_major": 2,
       "version_minor": 0,
       "model_id": "3b7c75c3101a4a328b0069a3e3aedded"
      }
     },
     "metadata": {},
     "output_type": "display_data"
    },
    {
     "data": {
      "text/plain": [
       "Validation: |          | 0/? [00:00<?, ?it/s]"
      ],
      "application/vnd.jupyter.widget-view+json": {
       "version_major": 2,
       "version_minor": 0,
       "model_id": "13d3b2a77aba4f6ca277872d61165801"
      }
     },
     "metadata": {},
     "output_type": "display_data"
    },
    {
     "data": {
      "text/plain": [
       "Validation: |          | 0/? [00:00<?, ?it/s]"
      ],
      "application/vnd.jupyter.widget-view+json": {
       "version_major": 2,
       "version_minor": 0,
       "model_id": "0f3415d12cae407a8e327c7ef2395670"
      }
     },
     "metadata": {},
     "output_type": "display_data"
    },
    {
     "data": {
      "text/plain": [
       "Validation: |          | 0/? [00:00<?, ?it/s]"
      ],
      "application/vnd.jupyter.widget-view+json": {
       "version_major": 2,
       "version_minor": 0,
       "model_id": "847238cce4454b96b419af18a5ebd9be"
      }
     },
     "metadata": {},
     "output_type": "display_data"
    },
    {
     "data": {
      "text/plain": [
       "Validation: |          | 0/? [00:00<?, ?it/s]"
      ],
      "application/vnd.jupyter.widget-view+json": {
       "version_major": 2,
       "version_minor": 0,
       "model_id": "0a6b7a298e5b4eecbb984632bbd7a9bb"
      }
     },
     "metadata": {},
     "output_type": "display_data"
    },
    {
     "data": {
      "text/plain": [
       "Validation: |          | 0/? [00:00<?, ?it/s]"
      ],
      "application/vnd.jupyter.widget-view+json": {
       "version_major": 2,
       "version_minor": 0,
       "model_id": "593deabeda984911aa2414e1c50ccb84"
      }
     },
     "metadata": {},
     "output_type": "display_data"
    },
    {
     "data": {
      "text/plain": [
       "Validation: |          | 0/? [00:00<?, ?it/s]"
      ],
      "application/vnd.jupyter.widget-view+json": {
       "version_major": 2,
       "version_minor": 0,
       "model_id": "bcbadf5b58df47c1842151771408aa70"
      }
     },
     "metadata": {},
     "output_type": "display_data"
    },
    {
     "data": {
      "text/plain": [
       "Validation: |          | 0/? [00:00<?, ?it/s]"
      ],
      "application/vnd.jupyter.widget-view+json": {
       "version_major": 2,
       "version_minor": 0,
       "model_id": "7e44fb1a4e9a4ccd9a534bd3cd55669d"
      }
     },
     "metadata": {},
     "output_type": "display_data"
    },
    {
     "data": {
      "text/plain": [
       "Validation: |          | 0/? [00:00<?, ?it/s]"
      ],
      "application/vnd.jupyter.widget-view+json": {
       "version_major": 2,
       "version_minor": 0,
       "model_id": "510ab562914e4c5c801c4a36ce8b5151"
      }
     },
     "metadata": {},
     "output_type": "display_data"
    },
    {
     "data": {
      "text/plain": [
       "Validation: |          | 0/? [00:00<?, ?it/s]"
      ],
      "application/vnd.jupyter.widget-view+json": {
       "version_major": 2,
       "version_minor": 0,
       "model_id": "ad1b949e275d49e1aab23680345e5138"
      }
     },
     "metadata": {},
     "output_type": "display_data"
    },
    {
     "data": {
      "text/plain": [
       "Validation: |          | 0/? [00:00<?, ?it/s]"
      ],
      "application/vnd.jupyter.widget-view+json": {
       "version_major": 2,
       "version_minor": 0,
       "model_id": "8ad616113bec4ec8bcf775429179f5c4"
      }
     },
     "metadata": {},
     "output_type": "display_data"
    },
    {
     "data": {
      "text/plain": [
       "Validation: |          | 0/? [00:00<?, ?it/s]"
      ],
      "application/vnd.jupyter.widget-view+json": {
       "version_major": 2,
       "version_minor": 0,
       "model_id": "21bb0683bb9e4c08b529d5fee517abde"
      }
     },
     "metadata": {},
     "output_type": "display_data"
    },
    {
     "data": {
      "text/plain": [
       "Validation: |          | 0/? [00:00<?, ?it/s]"
      ],
      "application/vnd.jupyter.widget-view+json": {
       "version_major": 2,
       "version_minor": 0,
       "model_id": "7da31afd30984ac5ad81312623813128"
      }
     },
     "metadata": {},
     "output_type": "display_data"
    },
    {
     "data": {
      "text/plain": [
       "Validation: |          | 0/? [00:00<?, ?it/s]"
      ],
      "application/vnd.jupyter.widget-view+json": {
       "version_major": 2,
       "version_minor": 0,
       "model_id": "4567a60f5a0f4ad393de1080ad3cba90"
      }
     },
     "metadata": {},
     "output_type": "display_data"
    },
    {
     "data": {
      "text/plain": [
       "Validation: |          | 0/? [00:00<?, ?it/s]"
      ],
      "application/vnd.jupyter.widget-view+json": {
       "version_major": 2,
       "version_minor": 0,
       "model_id": "e26e0bca7f80424ead6a7dcb043f71e6"
      }
     },
     "metadata": {},
     "output_type": "display_data"
    },
    {
     "data": {
      "text/plain": [
       "Validation: |          | 0/? [00:00<?, ?it/s]"
      ],
      "application/vnd.jupyter.widget-view+json": {
       "version_major": 2,
       "version_minor": 0,
       "model_id": "fc266649150e4bc48d2e76f2bcf12418"
      }
     },
     "metadata": {},
     "output_type": "display_data"
    },
    {
     "data": {
      "text/plain": [
       "Validation: |          | 0/? [00:00<?, ?it/s]"
      ],
      "application/vnd.jupyter.widget-view+json": {
       "version_major": 2,
       "version_minor": 0,
       "model_id": "af780153124745628e4b9ece666d7b7e"
      }
     },
     "metadata": {},
     "output_type": "display_data"
    },
    {
     "data": {
      "text/plain": [
       "Validation: |          | 0/? [00:00<?, ?it/s]"
      ],
      "application/vnd.jupyter.widget-view+json": {
       "version_major": 2,
       "version_minor": 0,
       "model_id": "544e30e007b244fc9da6cdbe77cdf6c6"
      }
     },
     "metadata": {},
     "output_type": "display_data"
    },
    {
     "data": {
      "text/plain": [
       "Validation: |          | 0/? [00:00<?, ?it/s]"
      ],
      "application/vnd.jupyter.widget-view+json": {
       "version_major": 2,
       "version_minor": 0,
       "model_id": "1fe2249bef4747958017f826b1daecc7"
      }
     },
     "metadata": {},
     "output_type": "display_data"
    },
    {
     "data": {
      "text/plain": [
       "Validation: |          | 0/? [00:00<?, ?it/s]"
      ],
      "application/vnd.jupyter.widget-view+json": {
       "version_major": 2,
       "version_minor": 0,
       "model_id": "b5da223373bd47a195ba5485738ac612"
      }
     },
     "metadata": {},
     "output_type": "display_data"
    }
   ],
   "execution_count": 431
  },
  {
   "metadata": {
    "ExecuteTime": {
     "end_time": "2025-01-29T16:57:44.449457Z",
     "start_time": "2025-01-29T16:57:44.217905Z"
    }
   },
   "cell_type": "code",
   "source": [
    "res_preds = []\n",
    "for i in range(len(funds_for_hedge)):\n",
    "    res_preds.append(predictt(transformers_res[i], vals_res[i]))"
   ],
   "id": "6fcc10412fa7711d",
   "outputs": [
    {
     "name": "stderr",
     "output_type": "stream",
     "text": [
      "GPU available: False, used: False\n",
      "TPU available: False, using: 0 TPU cores\n",
      "HPU available: False, using: 0 HPUs\n"
     ]
    }
   ],
   "execution_count": 432
  },
  {
   "metadata": {
    "ExecuteTime": {
     "end_time": "2025-01-29T16:57:45.016114Z",
     "start_time": "2025-01-29T16:57:44.641942Z"
    }
   },
   "cell_type": "code",
   "source": "IE_many1_res_rse, IE_many1_res_rae, IE_many1_res_huber, IE_many1_res_plt = metrics_and_plt(residualsss[0][30:], res_preds[0],pd.date_range(start=\"2023-11-29\", end=\"2023-12-29\"), target=\"Remainders\", date=\"2023-11-28\")   ",
   "id": "795943975a6105ce",
   "outputs": [
    {
     "name": "stdout",
     "output_type": "stream",
     "text": [
      "31\n",
      "31\n"
     ]
    },
    {
     "data": {
      "text/plain": [
       "<Figure size 1000x600 with 1 Axes>"
      ],
      "image/png": "[encoded data removed]"
     },
     "metadata": {},
     "output_type": "display_data"
    }
   ],
   "execution_count": 433
  },
  {
   "metadata": {},
   "cell_type": "code",
   "source": "print(IE_many1_res_rse, IE_many1_res_rae, IE_many1_res_huber)",
   "id": "9f59579dc6e2643e",
   "outputs": [],
   "execution_count": null
  },
  {
   "metadata": {},
   "cell_type": "markdown",
   "source": "6) FINAL RESULT PRICE + RESIDUALS",
   "id": "e6670219240544c7"
  },
  {
   "metadata": {
    "ExecuteTime": {
     "end_time": "2025-01-29T16:58:10.737677Z",
     "start_time": "2025-01-29T16:58:10.732691Z"
    }
   },
   "cell_type": "code",
   "source": [
    "final_many_preds = []\n",
    "for i in range(len(funds_for_hedge)):\n",
    "    final_many_preds.append(pred[i].copy()[-31:] + res_preds[i])"
   ],
   "id": "945dba9f237d424c",
   "outputs": [],
   "execution_count": 436
  },
  {
   "metadata": {
    "ExecuteTime": {
     "end_time": "2025-01-29T16:58:16.846026Z",
     "start_time": "2025-01-29T16:58:16.462113Z"
    }
   },
   "cell_type": "code",
   "source": "IE_final_many1_res_rse, IE_final_many1_res_rae, IE_final_many1_res_huber, IE_final_many1_res_plt = metrics_and_plt(funds_w_names[funds_for_hedge[0]][30:], final_many_preds[0],pd.date_range(start=\"2023-11-29\", end=\"2023-12-29\"), target=\"Close\", date=\"2023-11-28\")",
   "id": "aa41c76b84b49eaf",
   "outputs": [
    {
     "name": "stdout",
     "output_type": "stream",
     "text": [
      "331\n",
      "31\n"
     ]
    },
    {
     "data": {
      "text/plain": [
       "<Figure size 1000x600 with 1 Axes>"
      ],
      "image/png": "[encoded data removed]"
     },
     "metadata": {},
     "output_type": "display_data"
    }
   ],
   "execution_count": 438
  },
  {
   "metadata": {},
   "cell_type": "markdown",
   "source": "MONTER CARLOS PREDICTING RISK",
   "id": "8746f4fc7f9f7320"
  },
  {
   "metadata": {},
   "cell_type": "code",
   "source": [
    "def calc_drift(fund):\n",
    "    log_returns = np.log(1+fund[\"Close\"].pct_change())\n",
    "    log_returns.fillna(value=0, inplace=True)\n",
    "    avg_pdr = log_returns.mean()\n",
    "    var = log_returns.var()\n",
    "    drift = avg_pdr-(.5*var)\n",
    "\n",
    "    return drift"
   ],
   "id": "c208ac72d0b63867",
   "outputs": [],
   "execution_count": null
  },
  {
   "metadata": {},
   "cell_type": "code",
   "source": [
    "def monte_carlo_sim(fund):\n",
    "    drift = calc_drift(fund)\n",
    "    log_returns = np.log(1+fund[\"Close\"].pct_change())\n",
    "    log_returns.fillna(value=0, inplace=True)\n",
    "    stdev=log_returns.std()\n",
    "    days=362\n",
    "    trials=100\n",
    "    Z = norm.ppf(np.random.rand(days,trials))\n",
    "    daily_returns=np.exp(np.array(drift) + np.array(stdev) * Z)\n",
    "    price_paths = np.zeros_like(daily_returns)\n",
    "    price_paths[0] = fund[\"Close\"].iloc[-1]\n",
    "    for i in range(1,days):\n",
    "        price_paths[i] = price_paths[i-1] * daily_returns[i]\n",
    "    return price_paths"
   ],
   "id": "aa30c81769788dfa",
   "outputs": [],
   "execution_count": null
  },
  {
   "metadata": {},
   "cell_type": "code",
   "source": [
    "drifts=calc_drift(funds_w_names[\"EWSA.AS\"])\n",
    "pp=monte_carlo_sim(funds_w_names[\"EWSA.AS\"])"
   ],
   "id": "583f06f5786c5051",
   "outputs": [],
   "execution_count": null
  },
  {
   "metadata": {},
   "cell_type": "code",
   "source": [
    "def volatility_mc(price_paths: pd.DataFrame):\n",
    "    pp_df = pd.DataFrame(price_paths)\n",
    "    pp_df= pp_df.pct_change()\n",
    "    pp_df.fillna(value=0, inplace=True)\n",
    "    pp_df=pp_df.rolling(7).std()\n",
    "    pp_df.fillna(method=\"bfill\", inplace=True)\n",
    "    return np.mean(pp_df)"
   ],
   "id": "ac542dd191a53e6",
   "outputs": [],
   "execution_count": null
  },
  {
   "metadata": {},
   "cell_type": "code",
   "source": "volatility_mc(pp)",
   "id": "52e2643832f9a55b",
   "outputs": [],
   "execution_count": null
  },
  {
   "metadata": {},
   "cell_type": "code",
   "source": [
    "plt.figure(figsize=(10, 8))\n",
    "plt.plot(pp)"
   ],
   "id": "c36f42d9a00afe20",
   "outputs": [],
   "execution_count": null
  },
  {
   "metadata": {},
   "cell_type": "markdown",
   "source": "TEZ DO KOSZA",
   "id": "ebd1e71253d1e173"
  },
  {
   "metadata": {},
   "cell_type": "code",
   "source": "list_of_5_df_funds = []",
   "id": "21930338decf86f6",
   "outputs": [],
   "execution_count": null
  },
  {
   "metadata": {},
   "cell_type": "code",
   "source": [
    "def nearest_positive_definite(matrix):\n",
    "    P = matrix.copy()\n",
    "    eigvals, eigvecs = np.linalg.eigh(P)\n",
    "    eigvals[eigvals < 0] = 1e-10\n",
    "    return eigvecs @ np.diag(eigvals) @ eigvecs.T"
   ],
   "id": "151d1474b222074",
   "outputs": [],
   "execution_count": null
  },
  {
   "metadata": {},
   "cell_type": "code",
   "source": [
    "variances = {}\n",
    "covs_means = []\n",
    "for k,v in funds_w_names.items():\n",
    "    variances[k] = v[\"Rolling Volatility\"]\n",
    "variances = pd.DataFrame(variances)\n",
    "r = variances.pct_change()\n",
    "covariance_matrix = r.cov()\n",
    "mean_returns = r.mean()"
   ],
   "id": "308f7d0d5196e392",
   "outputs": [],
   "execution_count": null
  },
  {
   "metadata": {},
   "cell_type": "code",
   "source": [
    "if not np.all(np.linalg.eigvals(covariance_matrix) > 0):\n",
    "    print(\"Covariance matrix not positive definite. Adding regularization.\")\n",
    "    covariance_matrix = nearest_positive_definite(covariance_matrix)"
   ],
   "id": "4f410d378fab6d79",
   "outputs": [],
   "execution_count": null
  },
  {
   "metadata": {},
   "cell_type": "code",
   "source": [
    "#to be filled with real data\n",
    "portfolio_weights = np.random.random(len(mean_returns)) # distribution of etfs in portfolio\n",
    "portfolio_weights /= np.sum(portfolio_weights)"
   ],
   "id": "3a4f438d6a2cd272",
   "outputs": [],
   "execution_count": null
  },
  {
   "metadata": {},
   "cell_type": "code",
   "source": [
    "initial_portfoloio = 0\n",
    "for i, v in enumerate(funds_w_names.values()):\n",
    "    initial_portfoloio += portfolio_weights[i] * v[\"Close\"][i]"
   ],
   "id": "fc6ccab90c89185e",
   "outputs": [],
   "execution_count": null
  },
  {
   "metadata": {},
   "cell_type": "code",
   "source": [
    "days = 60\n",
    "simulations = 100\n",
    "portfolio_sims = np.full(shape=(days, simulations), fill_value=0.0) # default\n",
    "mean_matrix = np.full(shape=(days, len(portfolio_weights)), fill_value=mean_returns).T # days x all etfs"
   ],
   "id": "ada84324f00035a7",
   "outputs": [],
   "execution_count": null
  },
  {
   "metadata": {},
   "cell_type": "code",
   "source": "initial_portfoloio",
   "id": "a2ad86d38b922d5d",
   "outputs": [],
   "execution_count": null
  },
  {
   "metadata": {},
   "cell_type": "code",
   "source": [
    "for s in range(0, simulations):\n",
    "    Z = np.random.normal(size=(days, len(portfolio_weights)))\n",
    "    L = np.linalg.cholesky(covariance_matrix)\n",
    "    daily_returns = mean_matrix + np.inner(L, Z)\n",
    "    portfolio_sims[:, s] = np.cumprod(np.inner(portfolio_weights, daily_returns.T)+1)*initial_portfoloio\n",
    "\n",
    "plt.plot(portfolio_sims)\n",
    "plt.ylabel(\"Portfolio Simulations\")"
   ],
   "id": "ecf4d7e27c9122ab",
   "outputs": [],
   "execution_count": null
  },
  {
   "metadata": {},
   "cell_type": "markdown",
   "source": "expected volatility",
   "id": "d244aa0b998b0e1a"
  },
  {
   "metadata": {},
   "cell_type": "code",
   "source": [
    "portfolio_returns = portfolio_sims[-1] / portfolio_sims[0] - 1  # final value over initial value gives portfolio returns\n",
    "portfolio_volatility = np.std(portfolio_returns)\n",
    "print(f\"Portfolio Volatility: {portfolio_volatility:.4f}\")"
   ],
   "id": "317ed4aac1416795",
   "outputs": [],
   "execution_count": null
  },
  {
   "metadata": {},
   "cell_type": "code",
   "source": [
    "plt.figure(figsize=(10, 6))\n",
    "plt.plot(portfolio_sims)\n",
    "plt.title(\"Monte Carlo Simulations of Portfolio Value\")\n",
    "plt.xlabel(\"Days\")\n",
    "plt.ylabel(\"Portfolio Value\")\n",
    "plt.show()"
   ],
   "id": "a0e0fa6e382aac99",
   "outputs": [],
   "execution_count": null
  },
  {
   "metadata": {},
   "cell_type": "markdown",
   "source": "expected return",
   "id": "c85b73b396741ce8"
  },
  {
   "metadata": {},
   "cell_type": "code",
   "source": "discounted_prices = [sim[-1]*0.96 for sim in portfolio_sims]",
   "id": "dcea8a578400d3e3",
   "outputs": [],
   "execution_count": null
  },
  {
   "metadata": {},
   "cell_type": "code",
   "source": "avg = np.average(discounted_prices)",
   "id": "1f166ee20de2b2a",
   "outputs": [],
   "execution_count": null
  },
  {
   "metadata": {},
   "cell_type": "markdown",
   "source": "MONTE CARLO EVALUATION FUNCITON",
   "id": "24cfb1cce3e17ef5"
  },
  {
   "metadata": {},
   "cell_type": "code",
   "source": [
    "def test_robustness(paths, num_trials, tol=0.01):\n",
    "    means = []\n",
    "    for i in range(num_trials):\n",
    "        np.random.seed(i)\n",
    "        new_paths = np.random.choice(paths, size=len(paths), replace=True)\n",
    "        means.append(np.mean(new_paths))\n",
    "    glob_mean = np.mean(means)\n",
    "    devs = np.abs(np.array(means) - glob_mean)\n",
    "    return max(0, 1 - (np.mean(devs) / (tol*glob_mean)))"
   ],
   "id": "956c390bfca0b14c",
   "outputs": [],
   "execution_count": null
  },
  {
   "metadata": {},
   "cell_type": "code",
   "source": [
    "def compute_convergence_rate(paths, true_val):\n",
    "    cum_means = np.cumsum(paths)/np.arange(1, len(paths)+1)\n",
    "    difs = np.abs(cum_means - true_val)\n",
    "    final = difs[-1]\n",
    "    avg = np.mean(difs)\n",
    "    if avg == 0.0:\n",
    "        return 1.0\n",
    "    return max(0, 1-(final/avg))"
   ],
   "id": "5bb01c95a96d6ae9",
   "outputs": [],
   "execution_count": null
  },
  {
   "metadata": {},
   "cell_type": "code",
   "source": [
    "def rate_mc_simulation(paths, true_value, runtime, weights):\n",
    "    mean_estimate = np.mean(paths)\n",
    "    variance = np.var(paths)\n",
    "    bias = mean_estimate - np.mean(true_value)\n",
    "    mse = bias**2 + variance\n",
    "    efficiency = 1 / (runtime * mse)\n",
    "\n",
    "    robustness = test_robustness(paths.mean(axis=1), 150)\n",
    "\n",
    "    convergence_rate = compute_convergence_rate(paths.mean(axis=1), true_value)\n",
    "\n",
    "    score = (\n",
    "            weights[0] * convergence_rate +\n",
    "            weights[1] * (1 / np.std(paths)) +\n",
    "            weights[2] * (1 / abs(bias)) +\n",
    "            weights[3] * (1 / variance) +\n",
    "            weights[4] * efficiency +\n",
    "            weights[5] * robustness)\n",
    "    return score"
   ],
   "id": "a3c4a8bd2bf32b4f",
   "outputs": [],
   "execution_count": null
  },
  {
   "metadata": {},
   "cell_type": "code",
   "source": [
    "weights=[1/6,1/6,1/6,1/6,1/6,1/6]\n",
    "pd.Series(pp['EWSA.AS'].mean(axis=1))"
   ],
   "id": "f0ec0f86195ceabc",
   "outputs": [],
   "execution_count": null
  },
  {
   "metadata": {},
   "cell_type": "code",
   "source": "print((rate_mc_simulation(pp['EWSA.AS'], funds_w_names[\"EWSA.AS\"][\"Close\"], 0.1, weights)))",
   "id": "4c07e8928e6f1495",
   "outputs": [],
   "execution_count": null
  },
  {
   "metadata": {},
   "cell_type": "markdown",
   "source": "REDESIGN PORTFOLIO",
   "id": "b69f0919069f2fd1"
  },
  {
   "metadata": {},
   "cell_type": "code",
   "source": [
    "'''\n",
    "list of predictions for each fund in portfolio\n",
    "'''\n",
    "portfolio = funds_for_hedge\n",
    "preds_for_portfolio = []\n",
    "for i in portfolio:\n",
    "    preds_for_portfolio.append(predictt(29, funds_w_names[i]))"
   ],
   "id": "734451b62683ba7",
   "outputs": [],
   "execution_count": null
  },
  {
   "metadata": {},
   "cell_type": "code",
   "source": [
    "'''\n",
    "calculate ratio of a single fund based on provided predictions\n",
    "'''\n",
    "def calculate_funds_ratio(funds_preds, fund: pd.DataFrame):\n",
    "    funds_return = fund[\"Close\"].iloc[-1] - funds_preds[\"Close\"].iloc[-1]\n",
    "    funds_risk = volatility_mc(monte_carlo_sim(fund))\n",
    "    data = yf.Ticker(\"^TNX\").history(period=\"1d\")\n",
    "    risk_free_rate = data['Close'].iloc[-1] / 100\n",
    "    sharpe_ratio = (funds_return / len(fund)) - risk_free_rate / funds_risk\n",
    "    return sharpe_ratio, funds_return #funds_return/funds_risk"
   ],
   "id": "eefac5c01a18da41",
   "outputs": [],
   "execution_count": null
  },
  {
   "metadata": {},
   "cell_type": "code",
   "source": [
    "def redistribute_funds(funds_dfs:list, weights: list):\n",
    "    \"\"\"\n",
    "    for a given portfolio, calculate risk and return for next month for each asset and decide whether to buy more of it\n",
    "    funds_dfs is a list of funds dataframes based on portfolio\n",
    "    weights is a list of weights for each funds\n",
    "    \"\"\"\n",
    "\n",
    "    def objective(w):\n",
    "        portfolio_score = 0\n",
    "        for i in (range(len(funds_dfs))):\n",
    "            ratio, returnn, preds = calculate_funds_ratio(preds_for_portfolio, funds_dfs[i])\n",
    "            portfolio_score += ratio * w[i]\n",
    "            return -portfolio_score\n",
    "\n",
    "    constraints = ({'type': 'eq', 'fun': lambda w: np.sum(w) - 1})\n",
    "    bounds = [(0,1)] * len(funds_dfs)\n",
    "    result = minimize(objective, np.ndarray(weights), method='SLSQP', bounds=bounds, constraints=constraints)\n",
    "    optimized_weights = result.x\n",
    "    optimized_score = result.fun\n",
    "\n",
    "    returns = [calculate_funds_ratio(preds_for_portfolio[i], funds_dfs[i])[1] for i in range(len(portfolio))]\n",
    "    final_gain = optimized_weights*returns\n",
    "\n",
    "    return optimized_weights, optimized_score, final_gain"
   ],
   "id": "d89ad29be5849a40",
   "outputs": [],
   "execution_count": null
  },
  {
   "metadata": {},
   "cell_type": "markdown",
   "source": "works for small Ns, max 10",
   "id": "27b458463a7240fb"
  },
  {
   "metadata": {},
   "cell_type": "code",
   "source": [
    "import numpy as np\n",
    "import pandas as pd\n",
    "\n",
    "def design_optimal_portfolio(N: int):\n",
    "    available_funds = list(funds_w_names.keys())\n",
    "    fund_combinations = list(combinations(available_funds, N))\n",
    "\n",
    "    best_score = -np.inf\n",
    "    best_weights = None\n",
    "    best_selected_funds = None\n",
    "    best_final_gains = None\n",
    "\n",
    "    for selected_funds in fund_combinations:\n",
    "\n",
    "        funds_dfs = [funds_w_names[fund] for fund in selected_funds]\n",
    "\n",
    "\n",
    "        preds_for_selected_funds = []\n",
    "        for fund in selected_funds:\n",
    "            preds_for_selected_funds.append(predictt(29, funds_w_names[fund]))\n",
    "\n",
    "\n",
    "        def objective(w):\n",
    "            portfolio_score = 0\n",
    "            for i in range(len(funds_dfs)):\n",
    "                ratio, returnn, _ = calculate_funds_ratio(preds_for_selected_funds[i], funds_dfs[i])\n",
    "                portfolio_score += ratio * w[i]\n",
    "            return -portfolio_score\n",
    "\n",
    "\n",
    "        constraints = ({'type': 'eq', 'fun': lambda w: np.sum(w) - 1})\n",
    "        bounds = [(0, 1)] * N\n",
    "\n",
    "        initial_weights = np.ones(N) / N\n",
    "\n",
    "        result = minimize(objective, initial_weights, method='SLSQP', bounds=bounds, constraints=constraints)\n",
    "\n",
    "        optimized_weights = result.x\n",
    "        optimized_score = -result.fun\n",
    "\n",
    "        returns = [calculate_funds_ratio(preds_for_selected_funds[i], funds_dfs[i])[1] for i in range(N)]\n",
    "        final_gains = np.dot(optimized_weights, returns)\n",
    "\n",
    "        if optimized_score > best_score:\n",
    "            best_score = optimized_score\n",
    "            best_weights = optimized_weights\n",
    "            best_selected_funds = selected_funds\n",
    "            best_final_gains = final_gains\n",
    "\n",
    "    return best_weights, best_score, best_final_gains, best_selected_funds"
   ],
   "id": "ff090245d287f74e",
   "outputs": [],
   "execution_count": null
  },
  {
   "metadata": {},
   "cell_type": "code",
   "source": [
    "N = 5\n",
    "best_weights, best_score, best_final_gains, best_selected_funds = design_optimal_portfolio(N)\n",
    "\n",
    "print(\"Selected funds:\", best_selected_funds)\n",
    "print(\"Optimized weights:\", best_weights)\n",
    "print(\"Best gain:\", best_final_gains)"
   ],
   "id": "e6c07244aef2a959",
   "outputs": [],
   "execution_count": null
  },
  {
   "metadata": {},
   "cell_type": "markdown",
   "source": "works for large Ns",
   "id": "2e5e192e622ba568"
  },
  {
   "metadata": {},
   "cell_type": "code",
   "source": [
    "import random\n",
    "from scipy.optimize import minimize\n",
    "from itertools import combinations\n",
    "\n",
    "def calculate_fitness(preds_for_selected_funds, funds_dfs, weights):\n",
    "    portfolio_score = 0\n",
    "    for i in range(len(funds_dfs)):\n",
    "        ratio, returnn, _ = calculate_funds_ratio(preds_for_selected_funds[i], funds_dfs[i])\n",
    "        portfolio_score += ratio * weights[i]\n",
    "    return portfolio_score\n",
    "\n",
    "def genetic_algorithm(funds_w_names, N, population_size=50, generations=100, mutation_rate=0.1, crossover_rate=0.8):\n",
    "    available_funds = list(funds_w_names.keys())\n",
    "    fund_combinations = list(combinations(available_funds, N))\n",
    "\n",
    "    population = []\n",
    "    for _ in range(population_size):\n",
    "        selected_funds = random.sample(fund_combinations, 1)[0]\n",
    "        weights = np.random.rand(N)\n",
    "        weights /= np.sum(weights)\n",
    "        population.append((selected_funds, weights))\n",
    "\n",
    "    best_solution = None\n",
    "    best_fitness = -np.inf\n",
    "\n",
    "    for generation in range(generations):\n",
    "        fitness_scores = []\n",
    "        preds_for_selected_funds_list = []\n",
    "        funds_dfs_list = []\n",
    "\n",
    "        for selected_funds, _ in population:\n",
    "            funds_dfs = [funds_w_names[fund] for fund in selected_funds]\n",
    "            preds_for_selected_funds = []\n",
    "            for fund in selected_funds:\n",
    "                preds_for_selected_funds.append(predictt(29, funds_w_names[fund]))\n",
    "            preds_for_selected_funds_list.append(preds_for_selected_funds)\n",
    "            funds_dfs_list.append(funds_dfs)\n",
    "\n",
    "        for i in range(population_size):\n",
    "            selected_funds, weights = population[i]\n",
    "            fitness = calculate_fitness(preds_for_selected_funds_list[i], funds_dfs_list[i], weights)\n",
    "            fitness_scores.append(fitness)\n",
    "            if fitness > best_fitness:\n",
    "                best_fitness = fitness\n",
    "                best_solution = (selected_funds, weights)\n",
    "\n",
    "        selected_parents = []\n",
    "        fitness_sum = np.sum(fitness_scores)\n",
    "        prob = [score / fitness_sum for score in fitness_scores]\n",
    "\n",
    "        for _ in range(population_size):\n",
    "            selected_parent = random.choices(population, prob)[0]\n",
    "            selected_parents.append(selected_parent)\n",
    "\n",
    "        new_population = []\n",
    "        for i in range(0, population_size, 2):\n",
    "            parent1, parent2 = selected_parents[i], selected_parents[i+1]\n",
    "            if random.random() < crossover_rate:\n",
    "                crossover_point = random.randint(1, N-1)  # Crossover at a random point\n",
    "                offspring1 = (parent1[0][:crossover_point] + parent2[0][crossover_point:],\n",
    "                              np.concatenate((parent1[1][:crossover_point], parent2[1][crossover_point:])))\n",
    "                offspring2 = (parent2[0][:crossover_point] + parent1[0][crossover_point:],\n",
    "                              np.concatenate((parent2[1][:crossover_point], parent1[1][crossover_point:])))\n",
    "                new_population.extend([offspring1, offspring2])\n",
    "            else:\n",
    "                new_population.extend([parent1, parent2])\n",
    "\n",
    "        for i in range(population_size):\n",
    "            if random.random() < mutation_rate:\n",
    "                selected_funds, weights = new_population[i]\n",
    "                mutation_idx = random.randint(0, N-1)\n",
    "                weights[mutation_idx] = random.random()\n",
    "                weights /= np.sum(weights)  # Normalize weights to sum to 1\n",
    "                new_population[i] = (selected_funds, weights)\n",
    "\n",
    "        population = new_population\n",
    "\n",
    "    return best_solution, best_fitness"
   ],
   "id": "a08fa48cc7803331",
   "outputs": [],
   "execution_count": null
  },
  {
   "metadata": {},
   "cell_type": "code",
   "source": [
    "N = 5\n",
    "best_solution, best_fitness = genetic_algorithm(funds_w_names, N)\n",
    "\n",
    "selected_funds, optimized_weights = best_solution\n",
    "print(\"Selected funds:\", selected_funds)\n",
    "print(\"Optimized weights:\", optimized_weights)\n",
    "print(\"Best fitness (risk-adjusted return):\", best_fitness)"
   ],
   "id": "9afe467fab031b40",
   "outputs": [],
   "execution_count": null
  }
 ],
 "metadata": {
  "kernelspec": {
   "display_name": "Python 3",
   "language": "python",
   "name": "python3"
  },
  "language_info": {
   "codemirror_mode": {
    "name": "ipython",
    "version": 2
   },
   "file_extension": ".py",
   "mimetype": "text/x-python",
   "name": "python",
   "nbconvert_exporter": "python",
   "pygments_lexer": "ipython2",
   "version": "2.7.6"
  }
 },
 "nbformat": 4,
 "nbformat_minor": 5
}
