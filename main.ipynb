{
 "cells": [
  {
   "metadata": {
    "ExecuteTime": {
     "end_time": "2025-01-29T13:01:46.615Z",
     "start_time": "2025-01-29T13:01:37.358993Z"
    }
   },
   "cell_type": "code",
   "source": [
    "import datetime\n",
    "from collections import defaultdict\n",
    "import warnings\n",
    "import pickle\n",
    "from lightning.pytorch.callbacks import ModelCheckpoint\n",
    "import stock_indicators as sa\n",
    "import lightning.pytorch as pl\n",
    "from lightning.pytorch.callbacks import EarlyStopping, LearningRateMonitor\n",
    "from lightning.pytorch.loggers import TensorBoardLogger\n",
    "import pandas as pd\n",
    "from pytorch_forecasting import TemporalFusionTransformer, TimeSeriesDataSet\n",
    "from pytorch_forecasting.data import GroupNormalizer\n",
    "from pytorch_forecasting.metrics import QuantileLoss\n",
    "import yfinance as yf\n",
    "from stock_indicators import Quote\n",
    "from sklearn.metrics import mean_squared_error\n",
    "from matplotlib import pyplot as plt\n",
    "import numpy as np\n",
    "from scipy.stats import norm\n",
    "from stock_indicators.indicators.common.enums import PeriodSize\n",
    "from pytorch_forecasting.models.temporal_fusion_transformer.tuning import optimize_hyperparameters\n",
    "\n",
    "warnings.filterwarnings(\"ignore\")\n",
    "pd.set_option('display.float_format', '{:.6f}'.format)"
   ],
   "id": "198038da640db94",
   "outputs": [],
   "execution_count": 1
  },
  {
   "metadata": {},
   "cell_type": "code",
   "outputs": [],
   "execution_count": null,
   "source": [
    "import torch\n",
    "torch.cuda.is_available()\n",
    "torch.cuda.get_device_name(0)"
   ],
   "id": "9a3e71f605f13f1b"
  },
  {
   "metadata": {
    "ExecuteTime": {
     "end_time": "2025-01-29T13:01:46.630960Z",
     "start_time": "2025-01-29T13:01:46.625974Z"
    }
   },
   "cell_type": "code",
   "source": "funds_w_names = defaultdict(pd.DataFrame)",
   "id": "6fde22f10c1f6bad",
   "outputs": [],
   "execution_count": 2
  },
  {
   "metadata": {
    "ExecuteTime": {
     "end_time": "2025-01-29T13:01:46.645946Z",
     "start_time": "2025-01-29T13:01:46.635947Z"
    }
   },
   "cell_type": "code",
   "source": [
    "etf_names = ['IE0005042456', 'EDMU.SW', 'EDG2.L', '36BA.DE', 'CBUS.DE', 'EWSA.AS','IE00B0M62X26','IE00B14X4Q57','IE00B1XNHC34','IE00B3FH7618','IE00B3ZW0K18','IE00B52MJY50','IE00B5M4WH52','IE00B66F4759','EMBE.L', 'DTLE.L','IE00BDFK1573','IBC5.DE','IE00BFNM3G45','IE00BHZPJ015','IE00BHZPJ452','IE00BHZPJ783',\n",
    "'IE00BLDGH553','IE00BMG6Z448','IE00BYYHSM20','IE00BYZTVT56','IE00BZ173V67','IE00BZ1NCS44','ISVIF', \"IESE.AS\", \"UEEF.DE\"]"
   ],
   "id": "9767c17429e3789f",
   "outputs": [],
   "execution_count": 3
  },
  {
   "metadata": {
    "ExecuteTime": {
     "end_time": "2025-01-29T13:01:57.359098Z",
     "start_time": "2025-01-29T13:01:46.651904Z"
    }
   },
   "cell_type": "code",
   "source": [
    "for fund in etf_names:\n",
    "    print(fund)\n",
    "    a = (pd.DataFrame(yf.Ticker(fund).history(start=\"2023-01-03\", end=\"2024-01-01\")))\n",
    "    a.index = pd.to_datetime(a.index)\n",
    "    a.index = a.index.normalize()\n",
    "    full_date_range = pd.date_range(start=a.index.min(), end=a.index.max(), freq=\"D\")\n",
    "    a = a.reindex(full_date_range)\n",
    "\n",
    "    a[\"Return\"] = a[\"Close\"].pct_change()\n",
    "    a[\"Rolling Volatility\"] = a[\"Return\"].rolling(7).std()\n",
    "\n",
    "    a.fillna(method=\"bfill\", inplace=True)\n",
    "    if fund != 'ISVIF':\n",
    "        a.drop([\"Dividends\", \"Stock Splits\", \"Capital Gains\"], inplace=True, axis=1)\n",
    "    else:\n",
    "        a.drop([\"Dividends\", \"Stock Splits\"], inplace=True, axis=1)\n",
    "    a.index = pd.to_datetime(a.index, utc=True)\n",
    "    if a.index.hour[0]==0:\n",
    "        a.index = a.index+datetime.timedelta(hours=-1)\n",
    "    a.index = a.index.normalize()\n",
    "\n",
    "    a = a.sort_index()\n",
    "\n",
    "    a[\"time_idx\"] = (a.index - a.index.min()).days\n",
    "    a[\"group_id\"] = fund\n",
    "    funds_w_names[fund] = a"
   ],
   "id": "a111aaf3a5a40dd6",
   "outputs": [
    {
     "name": "stdout",
     "output_type": "stream",
     "text": [
      "IE0005042456\n",
      "EDMU.SW\n",
      "EDG2.L\n",
      "36BA.DE\n",
      "CBUS.DE\n",
      "EWSA.AS\n",
      "IE00B0M62X26\n",
      "IE00B14X4Q57\n",
      "IE00B1XNHC34\n",
      "IE00B3FH7618\n",
      "IE00B3ZW0K18\n",
      "IE00B52MJY50\n",
      "IE00B5M4WH52\n",
      "IE00B66F4759\n",
      "EMBE.L\n",
      "DTLE.L\n",
      "IE00BDFK1573\n",
      "IBC5.DE\n",
      "IE00BFNM3G45\n",
      "IE00BHZPJ015\n",
      "IE00BHZPJ452\n",
      "IE00BHZPJ783\n",
      "IE00BLDGH553\n",
      "IE00BMG6Z448\n",
      "IE00BYYHSM20\n",
      "IE00BYZTVT56\n",
      "IE00BZ173V67\n",
      "IE00BZ1NCS44\n",
      "ISVIF\n",
      "IESE.AS\n",
      "UEEF.DE\n"
     ]
    }
   ],
   "execution_count": 4
  },
  {
   "metadata": {},
   "cell_type": "code",
   "outputs": [],
   "execution_count": null,
   "source": "# pickle.dump(funds_w_names, open('funds_w_names.pkl', 'wb'))",
   "id": "e9b5ab54f3c2da1c"
  },
  {
   "metadata": {},
   "cell_type": "code",
   "outputs": [],
   "execution_count": null,
   "source": [
    "# import pickle\n",
    "# pickle.dump(funds_w_names, open('funds_w_names_2.pkl', 'wb'))"
   ],
   "id": "370d1d99ca3d636d"
  },
  {
   "metadata": {},
   "cell_type": "code",
   "outputs": [],
   "execution_count": null,
   "source": "funds_w_names = pd.read_pickle('funds_w_names_2.pkl')",
   "id": "c59843d0e4a331bc"
  },
  {
   "metadata": {},
   "cell_type": "code",
   "outputs": [],
   "execution_count": null,
   "source": [
    "# def portfolio_factory(etfs: list):\n",
    "#     #giga_fund = pd.DataFrame()\n",
    "#     for c, ff in enumerate(etfs):\n",
    "#         #f = ff.copy()\n",
    "#\n",
    "#         ff.index = pd.to_datetime(ff.index, utc=True)\n",
    "#         if ff.index.hour[0]==0:\n",
    "#             ff.index = ff.index+datetime.timedelta(hours=-1)\n",
    "#         ff.index = ff.index.normalize()\n",
    "#\n",
    "#         ff = ff.sort_index()\n",
    "#\n",
    "#         ff[\"time_idx\"] = (ff.index - ff.index.min()).days\n",
    "#         ff[\"group_id\"] = c\n",
    "#         #f = f.reset_index()\n",
    "#\n",
    "#         #giga_fund = pd.concat([giga_fund, f], ignore_index=True)\n",
    "#     #return giga_fund"
   ],
   "id": "9ff0e4ef0b94ed92"
  },
  {
   "metadata": {
    "ExecuteTime": {
     "end_time": "2025-01-29T13:01:58.831995Z",
     "start_time": "2025-01-29T13:01:58.803075Z"
    }
   },
   "cell_type": "code",
   "source": [
    "def technical_indicators_factory(etfs: list, names: list):\n",
    "    indicators_per_fund = defaultdict(pd.DataFrame)\n",
    "    figs = []\n",
    "\n",
    "    for id, f in enumerate(etfs):\n",
    "        quotes_for_f = [\n",
    "            Quote(\n",
    "                date=row.Index,\n",
    "                open=row.Open,\n",
    "                high=row.High,\n",
    "                low=row.Low,\n",
    "                close=row.Close,\n",
    "                volume=row.Volume\n",
    "            )\n",
    "            for row in f.itertuples()]\n",
    "\n",
    "\n",
    "        macd_for_f = sa.indicators.get_macd(quotes=quotes_for_f)\n",
    "        valid_macd_for_f = [\n",
    "            (result.date, result.macd, result.signal, result.histogram)\n",
    "            for result in macd_for_f\n",
    "            if result.macd is not None and result.signal is not None and result.histogram is not None\n",
    "        ]\n",
    "        macd_dates, macd_values, macd_signal, macd_histogram = zip(*valid_macd_for_f)\n",
    "\n",
    "\n",
    "        rsi_for_f = sa.indicators.get_rsi(quotes=quotes_for_f)\n",
    "        valid_rsi_for_f = [\n",
    "            (result.date, result.rsi)\n",
    "            for result in rsi_for_f\n",
    "            if result.date is not None and result.rsi is not None\n",
    "        ]\n",
    "        rsi_dates, rsi_values = zip(*valid_rsi_for_f)\n",
    "\n",
    "\n",
    "        bb_for_f = sa.indicators.get_bollinger_bands(quotes=quotes_for_f)\n",
    "        valid_bb_for_f = [\n",
    "            (result.date, result.lower_band, result.upper_band)\n",
    "            for result in bb_for_f\n",
    "            if result.date is not None and result.lower_band is not None\n",
    "        ]\n",
    "        bb_dates, bb_lower, bb_upper = zip(*valid_bb_for_f)\n",
    "\n",
    "\n",
    "        vwap_for_f = sa.indicators.get_vwap(quotes=quotes_for_f)\n",
    "        valid_vwap_for_f = [\n",
    "            (result.date, result.vwap)\n",
    "            for result in vwap_for_f\n",
    "            if result.date is not None and result.vwap is not None\n",
    "        ]\n",
    "        vwap_dates, vwap_values = zip(*valid_vwap_for_f)\n",
    "\n",
    "\n",
    "\n",
    "        pp_for_f = sa.indicators.get_pivot_points(quotes=quotes_for_f, window_size=PeriodSize.DAY)\n",
    "        valid_pp_for_f = [\n",
    "            (result.date, result.pp, result.r1, result.r2, result.r3, result.r4, result.s1, result.s2, result.s3, result.s4)\n",
    "            for result in pp_for_f\n",
    "            if result.date is not None and result.pp is not None\n",
    "        ]\n",
    "        pp_dates, pp, r1, r2, r3, r4, s1, s2, s3, s4 = zip(*valid_pp_for_f)\n",
    "\n",
    "\n",
    "\n",
    "\n",
    "        fig, axes = plt.subplots(5, 1, figsize=(12,6))\n",
    "\n",
    "\n",
    "        axes[0].plot(macd_dates[-20:], macd_values[-20:], label='MACD_values', linewidth=2)\n",
    "        axes[0].plot(macd_dates[-20:], macd_signal[-20:], label='MACD_signal', linewidth=2)\n",
    "        axes[0].legend(loc='best')\n",
    "\n",
    "        axes[1].plot(rsi_dates[-20:], rsi_values[-20:], label='RSI', linewidth=2)\n",
    "        axes[1].legend(loc='best')\n",
    "\n",
    "        axes[2].plot(bb_dates[-20:], bb_lower[-20:], label='BB_lower', linewidth=2)\n",
    "        axes[2].plot(bb_dates[-20:], bb_upper[-20:], label='BB_upper', linewidth=2)\n",
    "        axes[2].legend(loc='best')\n",
    "\n",
    "        axes[3].plot(vwap_dates[-20:], vwap_values[-20:], label='vwap', linewidth=2)\n",
    "        axes[3].legend(loc='best')\n",
    "\n",
    "        axes[4].plot(pp_dates[-20:], pp[-20:], label='pivot points', linewidth=2)\n",
    "        axes[4].plot(pp_dates[-20:], r1[-20:], label='r1', linewidth=2)\n",
    "        axes[4].plot(pp_dates[-20:], r4[-20:], label='r4', linewidth=2)\n",
    "        axes[4].plot(pp_dates[-20:], s1[-20:], label='s1', linewidth=2)\n",
    "        axes[4].plot(pp_dates[-20:], s4[-20:], label='s4', linewidth=2)\n",
    "        axes[4].legend(loc='best')\n",
    "\n",
    "\n",
    "        figs.append(fig)\n",
    "\n",
    "        f['Bullish'] = [1 if x.histogram and x.histogram > 0 else 0 for x in macd_for_f]\n",
    "        f['Bearish'] = [1 if x.histogram and x.histogram < 0 else 0 for x in macd_for_f]\n",
    "        f['isOverbought'] = [1 if x.rsi and x.rsi > 70 else 0 for x in rsi_for_f ]\n",
    "        f['isOversold'] = [1 if x.rsi and x.rsi < 30 else 0 for x in rsi_for_f ]\n",
    "\n",
    "\n",
    "        f.fillna(method=\"ffill\", inplace=True)\n",
    "        indicators_per_fund[names[id]]= f\n",
    "    return indicators_per_fund, figs"
   ],
   "id": "50bc99ec6932ca53",
   "outputs": [],
   "execution_count": 5
  },
  {
   "metadata": {
    "ExecuteTime": {
     "end_time": "2025-01-29T14:01:06.864398Z",
     "start_time": "2025-01-29T14:01:06.840462Z"
    }
   },
   "cell_type": "code",
   "source": [
    "def fit(epochs: int, batch_size: int, df: pd.DataFrame, independent_variables: list, target=\"Close\", training_cutoff_idx: pd.Timestamp=330, max_prediction_length=61, min_encoder_length=22):\n",
    "    training = TimeSeriesDataSet(\n",
    "        df[lambda x: x.time_idx <= training_cutoff_idx],     # Use the determined cutoff index\n",
    "        time_idx=\"time_idx\",                                 # Sequential time index\n",
    "        target=target,                                       # Target variable\n",
    "        group_ids=[\"group_id\"],                              # Group identifier\n",
    "        min_encoder_length=min_encoder_length,                               # Minimum input sequence length\n",
    "        max_encoder_length=365,                              # Maximum input sequence length\n",
    "        min_prediction_length=1,                             # Minimum forecast length\n",
    "        max_prediction_length=max_prediction_length,                            # Maximum forecast length (31 for December)\n",
    "        static_categoricals=[\"group_id\"],\n",
    "        static_reals=[],                                     # No static real variables\n",
    "        time_varying_known_reals= independent_variables,     # Known inputs\n",
    "        time_varying_unknown_reals=[target],                 # Target variable\n",
    "        target_normalizer=GroupNormalizer(groups=[\"group_id\"], transformation=\"softplus\"),\n",
    "        add_relative_time_idx=True,                          # Add relative time index\n",
    "        add_target_scales=True,                              # Scale the target variable\n",
    "        add_encoder_length=True,                             # Include encoder length feature\n",
    "        allow_missing_timesteps=False,                       # Ensure no missing steps\n",
    "    )\n",
    "\n",
    "    validation = TimeSeriesDataSet.from_dataset(\n",
    "        training,\n",
    "        df,\n",
    "        predict=True,\n",
    "        stop_randomization=True                             # Ensures no randomization in validation dataset\n",
    "    )\n",
    "\n",
    "    batch_size = batch_size\n",
    "\n",
    "    train_dataloader = training.to_dataloader(train=True, batch_size=batch_size, num_workers=0)\n",
    "    val_dataloader = validation.to_dataloader(train=False, batch_size=batch_size * 10, num_workers=0)\n",
    "\n",
    "\n",
    "    # study = optimize_hyperparameters(\n",
    "    #     train_dataloader,\n",
    "    #     val_dataloader,\n",
    "    #     model_path=\"optuna_test\",\n",
    "    #     n_trials=200,\n",
    "    #     max_epochs=50,\n",
    "    #     gradient_clip_val_range=(0.01, 1.0),\n",
    "    #     hidden_size_range=(8, 128),\n",
    "    #     hidden_continuous_size_range=(8, 128),\n",
    "    #     attention_head_size_range=(1, 4),\n",
    "    #     learning_rate_range=(0.001, 0.1),\n",
    "    #     dropout_range=(0.1, 0.3),\n",
    "    #     trainer_kwargs=dict(limit_train_batches=30),\n",
    "    #     reduce_on_plateau_patience=4,\n",
    "    #     use_learning_rate_finder=False,  # use Optuna to find ideal learning rate or use in-built learning rate finder\n",
    "    # )\n",
    "    #\n",
    "    # with open(\"test_study.pkl\", \"wb\") as fout:\n",
    "    #     pickle.dump(study, fout)\n",
    "    #\n",
    "    # print(study.best_trial.params)\n",
    "\n",
    "    tft = TemporalFusionTransformer.from_dataset(\n",
    "        training,\n",
    "        learning_rate=0.0025,                # Learning rate\n",
    "        hidden_size=88,                  # Model hidden size\n",
    "        attention_head_size=4,           # Number of attention heads\n",
    "        dropout=0.27,                 # Dropout rate\n",
    "        hidden_continuous_size=44,       # Hidden size for continuous variables\n",
    "        output_size=7,                   # Output quantiles (e.g., 10th to 90th percentile)\n",
    "        loss=QuantileLoss(),             # Loss function\n",
    "        log_interval=10,                 # Log every 10 batches\n",
    "        reduce_on_plateau_patience=4,    # Reduce learning rate on plateau\n",
    "    )\n",
    "\n",
    "    checkpoint_callback = ModelCheckpoint(\n",
    "        dirpath=\"checkpoints/\",\n",
    "        filename=\"tft-model-{epoch:02d}-{val_loss:.2f}\",\n",
    "        save_top_k=1,\n",
    "        monitor=\"val_loss\",\n",
    "        mode=\"min\",  # minimize validation loss\n",
    "    )\n",
    "\n",
    "    early_stop_callback = EarlyStopping(monitor=\"val_loss\", min_delta=1e-4, patience=8, verbose=False, mode=\"min\")\n",
    "    lr_logger = LearningRateMonitor()  # log the learning rate\n",
    "    logger = TensorBoardLogger(\"lightning_logs\")  # logging results to a tensorboard\n",
    "\n",
    "    trainer = pl.Trainer(\n",
    "        # logger=logger,\n",
    "        max_epochs=epochs,\n",
    "        accelerator='cuda',\n",
    "        devices=\"auto\",\n",
    "        gradient_clip_val=0.018,\n",
    "        callbacks=[early_stop_callback, lr_logger],#, checkpoint_callback],\n",
    "    )\n",
    "\n",
    "    trainer.fit(tft, train_dataloader, val_dataloader)\n",
    "    return tft, val_dataloader"
   ],
   "id": "c6f89c00bfd086c6",
   "outputs": [],
   "execution_count": 155
  },
  {
   "metadata": {
    "ExecuteTime": {
     "end_time": "2025-01-29T14:01:07.744858Z",
     "start_time": "2025-01-29T14:01:07.729899Z"
    }
   },
   "cell_type": "code",
   "source": [
    "def predictt(tft, data):\n",
    "    # pred_data = TimeSeriesDataSet.from_dataset(\n",
    "    #     dataset=training,\n",
    "    #     data=data,\n",
    "    #     predict=True,\n",
    "    #     stop_randomization=True)\n",
    "    # \n",
    "    # pred_dataloader = pred_data.to_dataloader(train=False, batch_size=64 * 10, num_workers=0)\n",
    "\n",
    "    raw_predictions = tft.predict(data, mode=\"raw\", return_x=True)\n",
    "    predicted_median_np = raw_predictions.output.prediction[0, :, 1].detach().cpu().numpy()\n",
    "    return predicted_median_np"
   ],
   "id": "fafe51e1764dc332",
   "outputs": [],
   "execution_count": 156
  },
  {
   "metadata": {
    "ExecuteTime": {
     "end_time": "2025-01-29T13:01:59.192375Z",
     "start_time": "2025-01-29T13:01:59.179411Z"
    }
   },
   "cell_type": "code",
   "source": [
    "def huber_loss(actual_val, pred_val, delta=5.0):\n",
    "    err = np.abs(actual_val - pred_val)\n",
    "    return np.mean(np.where( err <= delta, 0.5 * err**2, delta * (err - 0.5 * delta)))"
   ],
   "id": "ef8c493a2d288f23",
   "outputs": [],
   "execution_count": 8
  },
  {
   "metadata": {
    "ExecuteTime": {
     "end_time": "2025-01-29T13:01:59.316094Z",
     "start_time": "2025-01-29T13:01:59.302132Z"
    }
   },
   "cell_type": "code",
   "source": [
    "def relative_squared_error(true, pred):\n",
    "    true_mean = np.mean(true)\n",
    "    squared_error_num = np.sum(np.square(true - pred))\n",
    "    squared_error_den = np.sum(np.square(true - true_mean))\n",
    "    rse_loss = squared_error_num / squared_error_den\n",
    "    return rse_loss\n",
    "\n",
    "def relative_absolute_error(true, pred):\n",
    "    true_mean = np.mean(true)\n",
    "    squared_error_num = np.sum(np.abs(true - pred))\n",
    "    squared_error_den = np.sum(np.abs(true - true_mean))\n",
    "    rae_loss = squared_error_num / squared_error_den\n",
    "    return rae_loss"
   ],
   "id": "bd70fc34a3b59584",
   "outputs": [],
   "execution_count": 9
  },
  {
   "metadata": {
    "ExecuteTime": {
     "end_time": "2025-01-29T13:01:59.427466Z",
     "start_time": "2025-01-29T13:01:59.412551Z"
    }
   },
   "cell_type": "code",
   "source": [
    "def metrics_and_plt(df: pd.DataFrame, preds:list, date_range:pd.date_range, target=\"Close\", date = \"2023-12-01\"):\n",
    "    print(len(df))\n",
    "    print(len(preds))\n",
    "    actual_values = df[target][date:]\n",
    "    rse = relative_squared_error(actual_values, preds)\n",
    "    rae = relative_absolute_error(actual_values, preds)\n",
    "    huber = huber_loss(actual_values, preds)\n",
    "    plt.figure(figsize=(10, 6))\n",
    "    plt.plot(date_range, actual_values, marker=\"x\", label=\"Actual Close\", color=\"orange\")\n",
    "    plt.plot(date_range, preds, marker=\"o\", label=\"Predicted Median\")\n",
    "    plt.title(\"Predicted Values for December 01 to December 29, 2023\")\n",
    "    plt.xlabel(\"Date\")\n",
    "    plt.ylabel(\"Predicted Value\")\n",
    "    plt.xticks(rotation=45)\n",
    "    plt.legend()\n",
    "    plt.show()\n",
    "    return rse, rae, huber, plt"
   ],
   "id": "5fa8149868720c19",
   "outputs": [],
   "execution_count": 10
  },
  {
   "metadata": {},
   "cell_type": "markdown",
   "source": "BASELINE MODEL",
   "id": "3d393f3ce0100df5"
  },
  {
   "metadata": {
    "ExecuteTime": {
     "end_time": "2025-01-29T13:02:00.700781Z",
     "start_time": "2025-01-29T13:01:59.522249Z"
    }
   },
   "cell_type": "code",
   "source": [
    "from statsmodels.tsa.arima.model import ARIMA\n",
    "from statsforecast import StatsForecast\n",
    "from statsforecast.models import GARCH"
   ],
   "id": "c2d35ca5c8909c47",
   "outputs": [],
   "execution_count": 11
  },
  {
   "metadata": {},
   "cell_type": "code",
   "outputs": [],
   "execution_count": null,
   "source": "f1 = funds_w_names['EWSA.AS'][\"Close\"][:-30]",
   "id": "d66e396f23f3ecab"
  },
  {
   "metadata": {},
   "cell_type": "code",
   "outputs": [],
   "execution_count": null,
   "source": [
    "model = ARIMA(f1, order=(1, 1, 1))\n",
    "model_fit = model.fit()\n",
    "arima_forecast = model_fit.forecast(steps=30)\n",
    "print(\"ARIMA Forecast for the next 30 periods:\", arima_forecast)"
   ],
   "id": "397ed7180e8a6cbf"
  },
  {
   "metadata": {},
   "cell_type": "code",
   "outputs": [],
   "execution_count": null,
   "source": "arima_mse = mean_squared_error(funds_w_names[\"EWSA.AS\"][\"Close\"][-30:], arima_forecast)",
   "id": "efca771f3df833d2"
  },
  {
   "metadata": {},
   "cell_type": "code",
   "outputs": [],
   "execution_count": null,
   "source": [
    "sf = StatsForecast(models=[GARCH()], freq='D')\n",
    "f1=pd.DataFrame(f1)\n",
    "f1['ds'] = pd.to_datetime(f1.index)\n",
    "f1.rename(columns={'Close': 'y'}, inplace=True)\n",
    "f1['unique_id']=1"
   ],
   "id": "2701170a182c8a10"
  },
  {
   "metadata": {},
   "cell_type": "code",
   "outputs": [],
   "execution_count": null,
   "source": [
    "garch_forecast = sf.forecast(h=30, df=f1)\n",
    "\n",
    "print(garch_forecast)"
   ],
   "id": "e09d82fd1b431611"
  },
  {
   "metadata": {},
   "cell_type": "code",
   "outputs": [],
   "execution_count": null,
   "source": "garch_mse = mean_squared_error(funds_w_names[\"EWSA.AS\"][\"Rolling Volatility\"][-30:], garch_forecast[\"GARCH(1,1)\"])",
   "id": "784180df2b90d083"
  },
  {
   "metadata": {},
   "cell_type": "code",
   "outputs": [],
   "execution_count": null,
   "source": [
    "fig, axes = plt.subplots(2, 1, figsize=(12,6))\n",
    "\n",
    "\n",
    "axes[0].plot(f1['ds'][-30:], arima_forecast[-30:], label='arima_forecast', linewidth=2)\n",
    "axes[0].plot(f1['ds'][-30:], funds_w_names[\"EWSA.AS\"][\"Close\"][-30:], label='Close', linewidth=2)\n",
    "axes[0].legend(loc='best')\n",
    "axes[1].plot(f1['ds'][-30:], garch_forecast[\"GARCH(1,1)\"], label='garch_forecast', linewidth=2)\n",
    "axes[1].plot(f1['ds'][-30:], funds_w_names[\"EWSA.AS\"][\"Rolling Volatility\"][-30:], label='Volatility', linewidth=2)\n",
    "axes[1].legend(loc='best')\n",
    "plt.legend()\n",
    "plt.show()"
   ],
   "id": "b11a16127d5c9bed"
  },
  {
   "metadata": {},
   "cell_type": "markdown",
   "source": "1) ONE FUND, NO INDICATORS, PRICE",
   "id": "26a573e75223e380"
  },
  {
   "metadata": {},
   "cell_type": "code",
   "outputs": [],
   "execution_count": null,
   "source": [
    "#IE00B52MJY50\n",
    "#IE = portfolio_factory(etfs=[funds_w_names['EWSA.AS']])"
   ],
   "id": "47b47e59d97cab5c"
  },
  {
   "metadata": {},
   "cell_type": "code",
   "outputs": [],
   "execution_count": null,
   "source": "funds_w_names['EWSA.AS'][:\"2023-10-29\"]",
   "id": "90e521a9af7a5550"
  },
  {
   "metadata": {},
   "cell_type": "code",
   "outputs": [],
   "execution_count": null,
   "source": "IE_tft, val = fit(epochs=100, batch_size=128, df=funds_w_names['EWSA.AS'], independent_variables=[\"Open\", \"High\", \"Low\", \"Volume\"])",
   "id": "624704cd763e22b1"
  },
  {
   "metadata": {},
   "cell_type": "code",
   "outputs": [],
   "execution_count": null,
   "source": "IE_preds = predictt(IE_tft, val)",
   "id": "8bf2e0d668e8ad41"
  },
  {
   "metadata": {},
   "cell_type": "code",
   "outputs": [],
   "execution_count": null,
   "source": "IE_rse, IE_rae, IE_huber, IE_plt = metrics_and_plt(funds_w_names['EWSA.AS'], IE_preds, pd.date_range(start=\"2023-11-29\", end=\"2023-12-29\"), date=\"2023-11-28\")",
   "id": "7fc3197f7ed30fbe"
  },
  {
   "metadata": {},
   "cell_type": "markdown",
   "source": "2) ONE FUND, INDICATORS, PRICE",
   "id": "248b8eca841e0594"
  },
  {
   "metadata": {
    "ExecuteTime": {
     "end_time": "2025-01-29T13:02:02.786414Z",
     "start_time": "2025-01-29T13:02:00.796185Z"
    }
   },
   "cell_type": "code",
   "source": "IE_indicators, IE_indicators_plt1 = technical_indicators_factory([funds_w_names['EWSA.AS']], ['EWSA.AS'])",
   "id": "943c3f7d6cef7734",
   "outputs": [
    {
     "data": {
      "text/plain": [
       "<Figure size 1200x600 with 5 Axes>"
      ],
      "image/png": "[encoded data removed]"
     },
     "metadata": {},
     "output_type": "display_data"
    }
   ],
   "execution_count": 12
  },
  {
   "metadata": {
    "ExecuteTime": {
     "end_time": "2025-01-29T13:02:02.914047Z",
     "start_time": "2025-01-29T13:02:02.900086Z"
    }
   },
   "cell_type": "code",
   "source": "analiza = IE_indicators[\"EWSA.AS\"][[\"isOversold\", \"isOverbought\", \"Bullish\", \"Bearish\", \"Return\"]]",
   "id": "29f50a9aa6aece75",
   "outputs": [],
   "execution_count": 13
  },
  {
   "metadata": {
    "ExecuteTime": {
     "end_time": "2025-01-29T13:02:03.318089Z",
     "start_time": "2025-01-29T13:02:03.024872Z"
    }
   },
   "cell_type": "code",
   "source": [
    "import seaborn as sns\n",
    "corr1 = analiza.corr()\n",
    "sns.heatmap(corr1, annot=True, cmap=\"coolwarm\", fmt=\".2f\")"
   ],
   "id": "8269aed464d7e5",
   "outputs": [
    {
     "data": {
      "text/plain": [
       "<Axes: >"
      ]
     },
     "execution_count": 14,
     "metadata": {},
     "output_type": "execute_result"
    },
    {
     "data": {
      "text/plain": [
       "<Figure size 640x480 with 2 Axes>"
      ],
      "image/png": "[encoded data removed]"
     },
     "metadata": {},
     "output_type": "display_data"
    }
   ],
   "execution_count": 14
  },
  {
   "metadata": {
    "ExecuteTime": {
     "end_time": "2025-01-29T13:02:05.020329Z",
     "start_time": "2025-01-29T13:02:03.426798Z"
    }
   },
   "cell_type": "code",
   "source": "correlations = IE_indicators[\"EWSA.AS\"].corr()",
   "id": "4f0ef3a53b7dbf44",
   "outputs": [
    {
     "ename": "ValueError",
     "evalue": "could not convert string to float: 'EWSA.AS'",
     "output_type": "error",
     "traceback": [
      "\u001B[1;31m---------------------------------------------------------------------------\u001B[0m",
      "\u001B[1;31mValueError\u001B[0m                                Traceback (most recent call last)",
      "Cell \u001B[1;32mIn[15], line 1\u001B[0m\n\u001B[1;32m----> 1\u001B[0m correlations \u001B[38;5;241m=\u001B[39m \u001B[43mIE_indicators\u001B[49m\u001B[43m[\u001B[49m\u001B[38;5;124;43m\"\u001B[39;49m\u001B[38;5;124;43mEWSA.AS\u001B[39;49m\u001B[38;5;124;43m\"\u001B[39;49m\u001B[43m]\u001B[49m\u001B[38;5;241;43m.\u001B[39;49m\u001B[43mcorr\u001B[49m\u001B[43m(\u001B[49m\u001B[43m)\u001B[49m\n",
      "File \u001B[1;32m~\\miniconda3\\lib\\site-packages\\pandas\\core\\frame.py:10704\u001B[0m, in \u001B[0;36mDataFrame.corr\u001B[1;34m(self, method, min_periods, numeric_only)\u001B[0m\n\u001B[0;32m  10702\u001B[0m cols \u001B[38;5;241m=\u001B[39m data\u001B[38;5;241m.\u001B[39mcolumns\n\u001B[0;32m  10703\u001B[0m idx \u001B[38;5;241m=\u001B[39m cols\u001B[38;5;241m.\u001B[39mcopy()\n\u001B[1;32m> 10704\u001B[0m mat \u001B[38;5;241m=\u001B[39m \u001B[43mdata\u001B[49m\u001B[38;5;241;43m.\u001B[39;49m\u001B[43mto_numpy\u001B[49m\u001B[43m(\u001B[49m\u001B[43mdtype\u001B[49m\u001B[38;5;241;43m=\u001B[39;49m\u001B[38;5;28;43mfloat\u001B[39;49m\u001B[43m,\u001B[49m\u001B[43m \u001B[49m\u001B[43mna_value\u001B[49m\u001B[38;5;241;43m=\u001B[39;49m\u001B[43mnp\u001B[49m\u001B[38;5;241;43m.\u001B[39;49m\u001B[43mnan\u001B[49m\u001B[43m,\u001B[49m\u001B[43m \u001B[49m\u001B[43mcopy\u001B[49m\u001B[38;5;241;43m=\u001B[39;49m\u001B[38;5;28;43;01mFalse\u001B[39;49;00m\u001B[43m)\u001B[49m\n\u001B[0;32m  10706\u001B[0m \u001B[38;5;28;01mif\u001B[39;00m method \u001B[38;5;241m==\u001B[39m \u001B[38;5;124m\"\u001B[39m\u001B[38;5;124mpearson\u001B[39m\u001B[38;5;124m\"\u001B[39m:\n\u001B[0;32m  10707\u001B[0m     correl \u001B[38;5;241m=\u001B[39m libalgos\u001B[38;5;241m.\u001B[39mnancorr(mat, minp\u001B[38;5;241m=\u001B[39mmin_periods)\n",
      "File \u001B[1;32m~\\miniconda3\\lib\\site-packages\\pandas\\core\\frame.py:1889\u001B[0m, in \u001B[0;36mDataFrame.to_numpy\u001B[1;34m(self, dtype, copy, na_value)\u001B[0m\n\u001B[0;32m   1887\u001B[0m \u001B[38;5;28;01mif\u001B[39;00m dtype \u001B[38;5;129;01mis\u001B[39;00m \u001B[38;5;129;01mnot\u001B[39;00m \u001B[38;5;28;01mNone\u001B[39;00m:\n\u001B[0;32m   1888\u001B[0m     dtype \u001B[38;5;241m=\u001B[39m np\u001B[38;5;241m.\u001B[39mdtype(dtype)\n\u001B[1;32m-> 1889\u001B[0m result \u001B[38;5;241m=\u001B[39m \u001B[38;5;28;43mself\u001B[39;49m\u001B[38;5;241;43m.\u001B[39;49m\u001B[43m_mgr\u001B[49m\u001B[38;5;241;43m.\u001B[39;49m\u001B[43mas_array\u001B[49m\u001B[43m(\u001B[49m\u001B[43mdtype\u001B[49m\u001B[38;5;241;43m=\u001B[39;49m\u001B[43mdtype\u001B[49m\u001B[43m,\u001B[49m\u001B[43m \u001B[49m\u001B[43mcopy\u001B[49m\u001B[38;5;241;43m=\u001B[39;49m\u001B[43mcopy\u001B[49m\u001B[43m,\u001B[49m\u001B[43m \u001B[49m\u001B[43mna_value\u001B[49m\u001B[38;5;241;43m=\u001B[39;49m\u001B[43mna_value\u001B[49m\u001B[43m)\u001B[49m\n\u001B[0;32m   1890\u001B[0m \u001B[38;5;28;01mif\u001B[39;00m result\u001B[38;5;241m.\u001B[39mdtype \u001B[38;5;129;01mis\u001B[39;00m \u001B[38;5;129;01mnot\u001B[39;00m dtype:\n\u001B[0;32m   1891\u001B[0m     result \u001B[38;5;241m=\u001B[39m np\u001B[38;5;241m.\u001B[39marray(result, dtype\u001B[38;5;241m=\u001B[39mdtype, copy\u001B[38;5;241m=\u001B[39m\u001B[38;5;28;01mFalse\u001B[39;00m)\n",
      "File \u001B[1;32m~\\miniconda3\\lib\\site-packages\\pandas\\core\\internals\\managers.py:1656\u001B[0m, in \u001B[0;36mBlockManager.as_array\u001B[1;34m(self, dtype, copy, na_value)\u001B[0m\n\u001B[0;32m   1654\u001B[0m         arr\u001B[38;5;241m.\u001B[39mflags\u001B[38;5;241m.\u001B[39mwriteable \u001B[38;5;241m=\u001B[39m \u001B[38;5;28;01mFalse\u001B[39;00m\n\u001B[0;32m   1655\u001B[0m \u001B[38;5;28;01melse\u001B[39;00m:\n\u001B[1;32m-> 1656\u001B[0m     arr \u001B[38;5;241m=\u001B[39m \u001B[38;5;28;43mself\u001B[39;49m\u001B[38;5;241;43m.\u001B[39;49m\u001B[43m_interleave\u001B[49m\u001B[43m(\u001B[49m\u001B[43mdtype\u001B[49m\u001B[38;5;241;43m=\u001B[39;49m\u001B[43mdtype\u001B[49m\u001B[43m,\u001B[49m\u001B[43m \u001B[49m\u001B[43mna_value\u001B[49m\u001B[38;5;241;43m=\u001B[39;49m\u001B[43mna_value\u001B[49m\u001B[43m)\u001B[49m\n\u001B[0;32m   1657\u001B[0m     \u001B[38;5;66;03m# The underlying data was copied within _interleave, so no need\u001B[39;00m\n\u001B[0;32m   1658\u001B[0m     \u001B[38;5;66;03m# to further copy if copy=True or setting na_value\u001B[39;00m\n\u001B[0;32m   1660\u001B[0m \u001B[38;5;28;01mif\u001B[39;00m na_value \u001B[38;5;129;01mis\u001B[39;00m lib\u001B[38;5;241m.\u001B[39mno_default:\n",
      "File \u001B[1;32m~\\miniconda3\\lib\\site-packages\\pandas\\core\\internals\\managers.py:1715\u001B[0m, in \u001B[0;36mBlockManager._interleave\u001B[1;34m(self, dtype, na_value)\u001B[0m\n\u001B[0;32m   1713\u001B[0m     \u001B[38;5;28;01melse\u001B[39;00m:\n\u001B[0;32m   1714\u001B[0m         arr \u001B[38;5;241m=\u001B[39m blk\u001B[38;5;241m.\u001B[39mget_values(dtype)\n\u001B[1;32m-> 1715\u001B[0m     \u001B[43mresult\u001B[49m\u001B[43m[\u001B[49m\u001B[43mrl\u001B[49m\u001B[38;5;241;43m.\u001B[39;49m\u001B[43mindexer\u001B[49m\u001B[43m]\u001B[49m \u001B[38;5;241m=\u001B[39m arr\n\u001B[0;32m   1716\u001B[0m     itemmask[rl\u001B[38;5;241m.\u001B[39mindexer] \u001B[38;5;241m=\u001B[39m \u001B[38;5;241m1\u001B[39m\n\u001B[0;32m   1718\u001B[0m \u001B[38;5;28;01mif\u001B[39;00m \u001B[38;5;129;01mnot\u001B[39;00m itemmask\u001B[38;5;241m.\u001B[39mall():\n",
      "\u001B[1;31mValueError\u001B[0m: could not convert string to float: 'EWSA.AS'"
     ]
    }
   ],
   "execution_count": 15
  },
  {
   "metadata": {},
   "cell_type": "code",
   "outputs": [],
   "execution_count": null,
   "source": [
    "import seaborn as sns\n",
    "\n",
    "sns.heatmap(correlations, annot=True, cmap=\"coolwarm\", fmt=\".2f\")"
   ],
   "id": "f31a4d38548a1b61"
  },
  {
   "metadata": {
    "ExecuteTime": {
     "end_time": "2025-01-29T13:04:15.325766Z",
     "start_time": "2025-01-29T13:02:58.096667Z"
    }
   },
   "cell_type": "code",
   "source": "IE_indicators_tft, val = fit(epochs=10, batch_size=128, df=IE_indicators[\"EWSA.AS\"], independent_variables=[\"Open\", \"High\", \"Low\", \"isOverbought\", \"Bullish\"])",
   "id": "f1e917396d177a1",
   "outputs": [
    {
     "name": "stderr",
     "output_type": "stream",
     "text": [
      "GPU available: False, used: False\n",
      "TPU available: False, using: 0 TPU cores\n",
      "HPU available: False, using: 0 HPUs\n"
     ]
    },
    {
     "name": "stdout",
     "output_type": "stream",
     "text": [
      "WARNING:tensorflow:From C:\\Users\\Pawel\\miniconda3\\lib\\site-packages\\keras\\src\\losses.py:2976: The name tf.losses.sparse_softmax_cross_entropy is deprecated. Please use tf.compat.v1.losses.sparse_softmax_cross_entropy instead.\n",
      "\n"
     ]
    },
    {
     "name": "stderr",
     "output_type": "stream",
     "text": [
      "\n",
      "   | Name                               | Type                            | Params | Mode \n",
      "------------------------------------------------------------------------------------------------\n",
      "0  | loss                               | QuantileLoss                    | 0      | train\n",
      "1  | logging_metrics                    | ModuleList                      | 0      | train\n",
      "2  | input_embeddings                   | MultiEmbedding                  | 1      | train\n",
      "3  | prescalers                         | ModuleDict                      | 880    | train\n",
      "4  | static_variable_selection          | VariableSelectionNetwork        | 38.1 K | train\n",
      "5  | encoder_variable_selection         | VariableSelectionNetwork        | 89.8 K | train\n",
      "6  | decoder_variable_selection         | VariableSelectionNetwork        | 76.7 K | train\n",
      "7  | static_context_variable_selection  | GatedResidualNetwork            | 31.5 K | train\n",
      "8  | static_context_initial_hidden_lstm | GatedResidualNetwork            | 31.5 K | train\n",
      "9  | static_context_initial_cell_lstm   | GatedResidualNetwork            | 31.5 K | train\n",
      "10 | static_context_enrichment          | GatedResidualNetwork            | 31.5 K | train\n",
      "11 | lstm_encoder                       | LSTM                            | 62.7 K | train\n",
      "12 | lstm_decoder                       | LSTM                            | 62.7 K | train\n",
      "13 | post_lstm_gate_encoder             | GatedLinearUnit                 | 15.7 K | train\n",
      "14 | post_lstm_add_norm_encoder         | AddNorm                         | 176    | train\n",
      "15 | static_enrichment                  | GatedResidualNetwork            | 39.2 K | train\n",
      "16 | multihead_attn                     | InterpretableMultiHeadAttention | 19.6 K | train\n",
      "17 | post_attn_gate_norm                | GateAddNorm                     | 15.8 K | train\n",
      "18 | pos_wise_ff                        | GatedResidualNetwork            | 31.5 K | train\n",
      "19 | pre_output_gate_norm               | GateAddNorm                     | 15.8 K | train\n",
      "20 | output_layer                       | Linear                          | 623    | train\n",
      "------------------------------------------------------------------------------------------------\n",
      "593 K     Trainable params\n",
      "0         Non-trainable params\n",
      "593 K     Total params\n",
      "2.376     Total estimated model params size (MB)\n",
      "400       Modules in train mode\n",
      "0         Modules in eval mode\n"
     ]
    },
    {
     "data": {
      "text/plain": [
       "Sanity Checking: |          | 0/? [00:00<?, ?it/s]"
      ],
      "application/vnd.jupyter.widget-view+json": {
       "version_major": 2,
       "version_minor": 0,
       "model_id": "e14c4347514240529b67edeef47995a7"
      }
     },
     "metadata": {},
     "output_type": "display_data"
    },
    {
     "data": {
      "text/plain": [
       "Training: |          | 0/? [00:00<?, ?it/s]"
      ],
      "application/vnd.jupyter.widget-view+json": {
       "version_major": 2,
       "version_minor": 0,
       "model_id": "aae39c9a69e745a3940bb0fd9f40df96"
      }
     },
     "metadata": {},
     "output_type": "display_data"
    },
    {
     "data": {
      "text/plain": [
       "Validation: |          | 0/? [00:00<?, ?it/s]"
      ],
      "application/vnd.jupyter.widget-view+json": {
       "version_major": 2,
       "version_minor": 0,
       "model_id": "823f6b85fa0649778eb34360da12234f"
      }
     },
     "metadata": {},
     "output_type": "display_data"
    },
    {
     "data": {
      "text/plain": [
       "Validation: |          | 0/? [00:00<?, ?it/s]"
      ],
      "application/vnd.jupyter.widget-view+json": {
       "version_major": 2,
       "version_minor": 0,
       "model_id": "7449ffaad126448db6d509159959bfce"
      }
     },
     "metadata": {},
     "output_type": "display_data"
    },
    {
     "data": {
      "text/plain": [
       "Validation: |          | 0/? [00:00<?, ?it/s]"
      ],
      "application/vnd.jupyter.widget-view+json": {
       "version_major": 2,
       "version_minor": 0,
       "model_id": "540dfe951aa74d5ca18e0844d1661ea6"
      }
     },
     "metadata": {},
     "output_type": "display_data"
    },
    {
     "data": {
      "text/plain": [
       "Validation: |          | 0/? [00:00<?, ?it/s]"
      ],
      "application/vnd.jupyter.widget-view+json": {
       "version_major": 2,
       "version_minor": 0,
       "model_id": "7c2bb6af86dc4bc6be709bd42c0b3e5f"
      }
     },
     "metadata": {},
     "output_type": "display_data"
    },
    {
     "data": {
      "text/plain": [
       "Validation: |          | 0/? [00:00<?, ?it/s]"
      ],
      "application/vnd.jupyter.widget-view+json": {
       "version_major": 2,
       "version_minor": 0,
       "model_id": "f02db196a7c140b5b97db0b65c2ed13f"
      }
     },
     "metadata": {},
     "output_type": "display_data"
    },
    {
     "data": {
      "text/plain": [
       "Validation: |          | 0/? [00:00<?, ?it/s]"
      ],
      "application/vnd.jupyter.widget-view+json": {
       "version_major": 2,
       "version_minor": 0,
       "model_id": "8f4876bdb73e4830a2722f68da87c0fd"
      }
     },
     "metadata": {},
     "output_type": "display_data"
    },
    {
     "data": {
      "text/plain": [
       "Validation: |          | 0/? [00:00<?, ?it/s]"
      ],
      "application/vnd.jupyter.widget-view+json": {
       "version_major": 2,
       "version_minor": 0,
       "model_id": "5371e5eec5524b7aa77c7e096908720e"
      }
     },
     "metadata": {},
     "output_type": "display_data"
    },
    {
     "data": {
      "text/plain": [
       "Validation: |          | 0/? [00:00<?, ?it/s]"
      ],
      "application/vnd.jupyter.widget-view+json": {
       "version_major": 2,
       "version_minor": 0,
       "model_id": "f4abc548700248ff913a8bc7e1cf7c08"
      }
     },
     "metadata": {},
     "output_type": "display_data"
    },
    {
     "data": {
      "text/plain": [
       "Validation: |          | 0/? [00:00<?, ?it/s]"
      ],
      "application/vnd.jupyter.widget-view+json": {
       "version_major": 2,
       "version_minor": 0,
       "model_id": "2282bc268ad741e0ab392495aea9c535"
      }
     },
     "metadata": {},
     "output_type": "display_data"
    },
    {
     "data": {
      "text/plain": [
       "Validation: |          | 0/? [00:00<?, ?it/s]"
      ],
      "application/vnd.jupyter.widget-view+json": {
       "version_major": 2,
       "version_minor": 0,
       "model_id": "827d1aa323a94ad8ac819d611ec9f0d6"
      }
     },
     "metadata": {},
     "output_type": "display_data"
    },
    {
     "name": "stderr",
     "output_type": "stream",
     "text": [
      "`Trainer.fit` stopped: `max_epochs=10` reached.\n"
     ]
    }
   ],
   "execution_count": 17
  },
  {
   "metadata": {
    "ExecuteTime": {
     "end_time": "2025-01-29T13:04:15.588802Z",
     "start_time": "2025-01-29T13:04:15.365398Z"
    }
   },
   "cell_type": "code",
   "source": "IE_indicators_preds = predictt(IE_indicators_tft, val)",
   "id": "7d2927ffa39121e5",
   "outputs": [
    {
     "name": "stderr",
     "output_type": "stream",
     "text": [
      "GPU available: False, used: False\n",
      "TPU available: False, using: 0 TPU cores\n",
      "HPU available: False, using: 0 HPUs\n"
     ]
    }
   ],
   "execution_count": 18
  },
  {
   "metadata": {
    "ExecuteTime": {
     "end_time": "2025-01-29T13:16:54.263499Z",
     "start_time": "2025-01-29T13:16:53.926429Z"
    }
   },
   "cell_type": "code",
   "source": "IE_indicators_rse, IE_indicators_rae, IE_indicators_huber, IE_indicators_plt2= metrics_and_plt(funds_w_names[\"EWSA.AS\"], IE_indicators_preds[-30:], pd.date_range(start=\"2023-11-30\", end=\"2023-12-29\"), date=\"2023-11-29\")",
   "id": "90d7f68b1036ef6e",
   "outputs": [
    {
     "name": "stdout",
     "output_type": "stream",
     "text": [
      "361\n",
      "30\n"
     ]
    },
    {
     "data": {
      "text/plain": [
       "<Figure size 1000x600 with 1 Axes>"
      ],
      "image/png": "[encoded data removed]"
     },
     "metadata": {},
     "output_type": "display_data"
    }
   ],
   "execution_count": 91
  },
  {
   "metadata": {
    "ExecuteTime": {
     "end_time": "2025-01-29T13:05:17.948283Z",
     "start_time": "2025-01-29T13:05:17.938500Z"
    }
   },
   "cell_type": "code",
   "source": "IE_indicators_mse",
   "id": "1c771af673606c7f",
   "outputs": [
    {
     "data": {
      "text/plain": [
       "0.11845334734485166"
      ]
     },
     "execution_count": 23,
     "metadata": {},
     "output_type": "execute_result"
    }
   ],
   "execution_count": 23
  },
  {
   "metadata": {
    "ExecuteTime": {
     "end_time": "2025-01-29T13:07:22.448493Z",
     "start_time": "2025-01-29T13:07:22.430599Z"
    }
   },
   "cell_type": "code",
   "source": "IE_indicators[\"EWSA.AS\"][\"Close\"][\"2023-10-31\":\"2023-11-29\"]",
   "id": "fd33139065e2c2cd",
   "outputs": [
    {
     "data": {
      "text/plain": [
       "2023-10-31 00:00:00+00:00   3.982700\n",
       "2023-11-01 00:00:00+00:00   4.077800\n",
       "2023-11-02 00:00:00+00:00   4.205400\n",
       "2023-11-03 00:00:00+00:00   4.162200\n",
       "2023-11-04 00:00:00+00:00   4.162200\n",
       "2023-11-05 00:00:00+00:00   4.162200\n",
       "2023-11-06 00:00:00+00:00   4.145400\n",
       "2023-11-07 00:00:00+00:00   4.113500\n",
       "2023-11-08 00:00:00+00:00   4.133100\n",
       "2023-11-09 00:00:00+00:00   4.079900\n",
       "2023-11-10 00:00:00+00:00   4.110200\n",
       "2023-11-11 00:00:00+00:00   4.110200\n",
       "2023-11-12 00:00:00+00:00   4.110200\n",
       "2023-11-13 00:00:00+00:00   4.282200\n",
       "2023-11-14 00:00:00+00:00   4.341000\n",
       "2023-11-15 00:00:00+00:00   4.250800\n",
       "2023-11-16 00:00:00+00:00   4.303100\n",
       "2023-11-17 00:00:00+00:00   4.330300\n",
       "2023-11-18 00:00:00+00:00   4.330300\n",
       "2023-11-19 00:00:00+00:00   4.330300\n",
       "2023-11-20 00:00:00+00:00   4.313600\n",
       "2023-11-21 00:00:00+00:00   4.325900\n",
       "2023-11-22 00:00:00+00:00   4.325500\n",
       "2023-11-23 00:00:00+00:00   4.345700\n",
       "2023-11-24 00:00:00+00:00   4.332700\n",
       "2023-11-25 00:00:00+00:00   4.332700\n",
       "2023-11-26 00:00:00+00:00   4.332700\n",
       "2023-11-27 00:00:00+00:00   4.347800\n",
       "2023-11-28 00:00:00+00:00   4.364000\n",
       "2023-11-29 00:00:00+00:00   4.359500\n",
       "Freq: D, Name: Close, dtype: float64"
      ]
     },
     "execution_count": 28,
     "metadata": {},
     "output_type": "execute_result"
    }
   ],
   "execution_count": 28
  },
  {
   "metadata": {
    "ExecuteTime": {
     "end_time": "2025-01-29T13:21:40.265304Z",
     "start_time": "2025-01-29T13:21:40.255332Z"
    }
   },
   "cell_type": "code",
   "source": "",
   "id": "975baed849c27555",
   "outputs": [
    {
     "data": {
      "text/plain": [
       "array([3.9095705, 3.9130204, 3.966806 , 4.0115833, 4.0772896, 4.155674 ,\n",
       "       4.161422 , 4.1665106, 4.1108913, 4.0962663, 4.100592 , 4.077703 ,\n",
       "       4.0805073, 4.0804586, 4.0804577, 4.0955434, 4.297422 , 4.26189  ,\n",
       "       4.253232 , 4.301659 , 4.305683 , 4.307622 , 4.3117933, 4.3066106,\n",
       "       4.323118 , 4.3227386, 4.319699 , 4.3196335, 4.3196025, 4.3304996,\n",
       "       4.3412466, 4.3493958, 4.3807817, 4.4501004, 4.451776 , 4.4524817,\n",
       "       4.4386215, 4.452475 , 4.40914  , 4.446308 , 4.4649158, 4.465324 ,\n",
       "       4.46553  , 4.4856915, 4.4702563, 4.6035576, 4.6716437, 4.653613 ,\n",
       "       4.6577907, 4.660363 , 4.6662383, 4.6955595, 4.683687 , 4.693023 ,\n",
       "       4.7100234, 4.7105546, 4.7108283, 4.7109637, 4.7110195, 4.7111278,\n",
       "       4.7079253], dtype=float32)"
      ]
     },
     "execution_count": 97,
     "metadata": {},
     "output_type": "execute_result"
    }
   ],
   "execution_count": 97
  },
  {
   "metadata": {},
   "cell_type": "markdown",
   "source": "3) ONE FUND, INDICATORS, RESIDUALS",
   "id": "833b04338be917a5"
  },
  {
   "metadata": {
    "ExecuteTime": {
     "end_time": "2025-01-29T13:22:07.656451Z",
     "start_time": "2025-01-29T13:22:07.645480Z"
    }
   },
   "cell_type": "code",
   "source": "resztki = abs(IE_indicators_preds - IE_indicators[\"EWSA.AS\"][\"Close\"][\"2023-10-29\":\"2023-12-29\"])",
   "id": "ac96685ba65661f0",
   "outputs": [],
   "execution_count": 100
  },
  {
   "metadata": {
    "ExecuteTime": {
     "end_time": "2025-01-29T13:22:09.737445Z",
     "start_time": "2025-01-29T13:22:09.716470Z"
    }
   },
   "cell_type": "code",
   "source": "resztki",
   "id": "1e84378ab9978818",
   "outputs": [
    {
     "data": {
      "text/plain": [
       "2023-10-29 00:00:00+00:00   0.026829\n",
       "2023-10-30 00:00:00+00:00   0.060080\n",
       "2023-10-31 00:00:00+00:00   0.015894\n",
       "2023-11-01 00:00:00+00:00   0.066216\n",
       "2023-11-02 00:00:00+00:00   0.128110\n",
       "                              ...   \n",
       "2023-12-24 00:00:00+00:00   0.106071\n",
       "2023-12-25 00:00:00+00:00   0.105936\n",
       "2023-12-26 00:00:00+00:00   0.105880\n",
       "2023-12-27 00:00:00+00:00   0.096072\n",
       "2023-12-28 00:00:00+00:00   0.076875\n",
       "Freq: D, Name: Close, Length: 61, dtype: float64"
      ]
     },
     "execution_count": 101,
     "metadata": {},
     "output_type": "execute_result"
    }
   ],
   "execution_count": 101
  },
  {
   "metadata": {
    "ExecuteTime": {
     "end_time": "2025-01-29T13:22:28.630404Z",
     "start_time": "2025-01-29T13:22:28.621148Z"
    }
   },
   "cell_type": "code",
   "source": [
    "df_scary = IE_indicators[\"EWSA.AS\"][300:].copy()\n",
    "df_scary[\"Remainders\"] = resztki"
   ],
   "id": "d901dffd7c2571ac",
   "outputs": [],
   "execution_count": 105
  },
  {
   "metadata": {
    "ExecuteTime": {
     "end_time": "2025-01-29T13:22:30.982881Z",
     "start_time": "2025-01-29T13:22:30.956927Z"
    }
   },
   "cell_type": "code",
   "source": "df_scary",
   "id": "62e6548fff4585d6",
   "outputs": [
    {
     "data": {
      "text/plain": [
       "                              Open     High      Low    Close      Volume  \\\n",
       "2023-10-29 00:00:00+00:00 3.939900 3.939900 3.939900 3.936400    0.000000   \n",
       "2023-10-30 00:00:00+00:00 3.946300 3.970000 3.946300 3.973100  942.000000   \n",
       "2023-10-31 00:00:00+00:00 3.976800 3.976800 3.976800 3.982700    0.000000   \n",
       "2023-11-01 00:00:00+00:00 4.024500 4.095600 4.024500 4.077800   48.000000   \n",
       "2023-11-02 00:00:00+00:00 4.117800 4.117800 4.117800 4.205400    0.000000   \n",
       "...                            ...      ...      ...      ...         ...   \n",
       "2023-12-24 00:00:00+00:00 4.810600 4.810600 4.810600 4.816900    0.000000   \n",
       "2023-12-25 00:00:00+00:00 4.810600 4.810600 4.810600 4.816900    0.000000   \n",
       "2023-12-26 00:00:00+00:00 4.810600 4.810600 4.810600 4.816900    0.000000   \n",
       "2023-12-27 00:00:00+00:00 4.844000 4.844000 4.807200 4.807200 5484.000000   \n",
       "2023-12-28 00:00:00+00:00 4.818500 4.818500 4.818500 4.784800    0.000000   \n",
       "\n",
       "                             Return  Rolling Volatility  time_idx group_id  \\\n",
       "2023-10-29 00:00:00+00:00 -0.002256            0.003382       300  EWSA.AS   \n",
       "2023-10-30 00:00:00+00:00  0.009323            0.005664       301  EWSA.AS   \n",
       "2023-10-31 00:00:00+00:00  0.002416            0.004537       302  EWSA.AS   \n",
       "2023-11-01 00:00:00+00:00  0.023878            0.009198       303  EWSA.AS   \n",
       "2023-11-02 00:00:00+00:00  0.031291            0.013229       304  EWSA.AS   \n",
       "...                             ...                 ...       ...      ...   \n",
       "2023-12-24 00:00:00+00:00  0.000000            0.007116       356  EWSA.AS   \n",
       "2023-12-25 00:00:00+00:00  0.000000            0.005419       357  EWSA.AS   \n",
       "2023-12-26 00:00:00+00:00  0.009261            0.005989       358  EWSA.AS   \n",
       "2023-12-27 00:00:00+00:00 -0.002014            0.004963       359  EWSA.AS   \n",
       "2023-12-28 00:00:00+00:00 -0.004660            0.004293       360  EWSA.AS   \n",
       "\n",
       "                           Bullish  Bearish  isOverbought  isOversold  \\\n",
       "2023-10-29 00:00:00+00:00        0        1             0           1   \n",
       "2023-10-30 00:00:00+00:00        0        1             0           0   \n",
       "2023-10-31 00:00:00+00:00        1        0             0           0   \n",
       "2023-11-01 00:00:00+00:00        1        0             0           0   \n",
       "2023-11-02 00:00:00+00:00        1        0             0           0   \n",
       "...                            ...      ...           ...         ...   \n",
       "2023-12-24 00:00:00+00:00        1        0             1           0   \n",
       "2023-12-25 00:00:00+00:00        1        0             1           0   \n",
       "2023-12-26 00:00:00+00:00        1        0             1           0   \n",
       "2023-12-27 00:00:00+00:00        1        0             1           0   \n",
       "2023-12-28 00:00:00+00:00        0        1             1           0   \n",
       "\n",
       "                           Remainders  \n",
       "2023-10-29 00:00:00+00:00    0.026829  \n",
       "2023-10-30 00:00:00+00:00    0.060080  \n",
       "2023-10-31 00:00:00+00:00    0.015894  \n",
       "2023-11-01 00:00:00+00:00    0.066216  \n",
       "2023-11-02 00:00:00+00:00    0.128110  \n",
       "...                               ...  \n",
       "2023-12-24 00:00:00+00:00    0.106071  \n",
       "2023-12-25 00:00:00+00:00    0.105936  \n",
       "2023-12-26 00:00:00+00:00    0.105880  \n",
       "2023-12-27 00:00:00+00:00    0.096072  \n",
       "2023-12-28 00:00:00+00:00    0.076875  \n",
       "\n",
       "[61 rows x 14 columns]"
      ],
      "text/html": [
       "<div>\n",
       "<style scoped>\n",
       "    .dataframe tbody tr th:only-of-type {\n",
       "        vertical-align: middle;\n",
       "    }\n",
       "\n",
       "    .dataframe tbody tr th {\n",
       "        vertical-align: top;\n",
       "    }\n",
       "\n",
       "    .dataframe thead th {\n",
       "        text-align: right;\n",
       "    }\n",
       "</style>\n",
       "<table border=\"1\" class=\"dataframe\">\n",
       "  <thead>\n",
       "    <tr style=\"text-align: right;\">\n",
       "      <th></th>\n",
       "      <th>Open</th>\n",
       "      <th>High</th>\n",
       "      <th>Low</th>\n",
       "      <th>Close</th>\n",
       "      <th>Volume</th>\n",
       "      <th>Return</th>\n",
       "      <th>Rolling Volatility</th>\n",
       "      <th>time_idx</th>\n",
       "      <th>group_id</th>\n",
       "      <th>Bullish</th>\n",
       "      <th>Bearish</th>\n",
       "      <th>isOverbought</th>\n",
       "      <th>isOversold</th>\n",
       "      <th>Remainders</th>\n",
       "    </tr>\n",
       "  </thead>\n",
       "  <tbody>\n",
       "    <tr>\n",
       "      <th>2023-10-29 00:00:00+00:00</th>\n",
       "      <td>3.939900</td>\n",
       "      <td>3.939900</td>\n",
       "      <td>3.939900</td>\n",
       "      <td>3.936400</td>\n",
       "      <td>0.000000</td>\n",
       "      <td>-0.002256</td>\n",
       "      <td>0.003382</td>\n",
       "      <td>300</td>\n",
       "      <td>EWSA.AS</td>\n",
       "      <td>0</td>\n",
       "      <td>1</td>\n",
       "      <td>0</td>\n",
       "      <td>1</td>\n",
       "      <td>0.026829</td>\n",
       "    </tr>\n",
       "    <tr>\n",
       "      <th>2023-10-30 00:00:00+00:00</th>\n",
       "      <td>3.946300</td>\n",
       "      <td>3.970000</td>\n",
       "      <td>3.946300</td>\n",
       "      <td>3.973100</td>\n",
       "      <td>942.000000</td>\n",
       "      <td>0.009323</td>\n",
       "      <td>0.005664</td>\n",
       "      <td>301</td>\n",
       "      <td>EWSA.AS</td>\n",
       "      <td>0</td>\n",
       "      <td>1</td>\n",
       "      <td>0</td>\n",
       "      <td>0</td>\n",
       "      <td>0.060080</td>\n",
       "    </tr>\n",
       "    <tr>\n",
       "      <th>2023-10-31 00:00:00+00:00</th>\n",
       "      <td>3.976800</td>\n",
       "      <td>3.976800</td>\n",
       "      <td>3.976800</td>\n",
       "      <td>3.982700</td>\n",
       "      <td>0.000000</td>\n",
       "      <td>0.002416</td>\n",
       "      <td>0.004537</td>\n",
       "      <td>302</td>\n",
       "      <td>EWSA.AS</td>\n",
       "      <td>1</td>\n",
       "      <td>0</td>\n",
       "      <td>0</td>\n",
       "      <td>0</td>\n",
       "      <td>0.015894</td>\n",
       "    </tr>\n",
       "    <tr>\n",
       "      <th>2023-11-01 00:00:00+00:00</th>\n",
       "      <td>4.024500</td>\n",
       "      <td>4.095600</td>\n",
       "      <td>4.024500</td>\n",
       "      <td>4.077800</td>\n",
       "      <td>48.000000</td>\n",
       "      <td>0.023878</td>\n",
       "      <td>0.009198</td>\n",
       "      <td>303</td>\n",
       "      <td>EWSA.AS</td>\n",
       "      <td>1</td>\n",
       "      <td>0</td>\n",
       "      <td>0</td>\n",
       "      <td>0</td>\n",
       "      <td>0.066216</td>\n",
       "    </tr>\n",
       "    <tr>\n",
       "      <th>2023-11-02 00:00:00+00:00</th>\n",
       "      <td>4.117800</td>\n",
       "      <td>4.117800</td>\n",
       "      <td>4.117800</td>\n",
       "      <td>4.205400</td>\n",
       "      <td>0.000000</td>\n",
       "      <td>0.031291</td>\n",
       "      <td>0.013229</td>\n",
       "      <td>304</td>\n",
       "      <td>EWSA.AS</td>\n",
       "      <td>1</td>\n",
       "      <td>0</td>\n",
       "      <td>0</td>\n",
       "      <td>0</td>\n",
       "      <td>0.128110</td>\n",
       "    </tr>\n",
       "    <tr>\n",
       "      <th>...</th>\n",
       "      <td>...</td>\n",
       "      <td>...</td>\n",
       "      <td>...</td>\n",
       "      <td>...</td>\n",
       "      <td>...</td>\n",
       "      <td>...</td>\n",
       "      <td>...</td>\n",
       "      <td>...</td>\n",
       "      <td>...</td>\n",
       "      <td>...</td>\n",
       "      <td>...</td>\n",
       "      <td>...</td>\n",
       "      <td>...</td>\n",
       "      <td>...</td>\n",
       "    </tr>\n",
       "    <tr>\n",
       "      <th>2023-12-24 00:00:00+00:00</th>\n",
       "      <td>4.810600</td>\n",
       "      <td>4.810600</td>\n",
       "      <td>4.810600</td>\n",
       "      <td>4.816900</td>\n",
       "      <td>0.000000</td>\n",
       "      <td>0.000000</td>\n",
       "      <td>0.007116</td>\n",
       "      <td>356</td>\n",
       "      <td>EWSA.AS</td>\n",
       "      <td>1</td>\n",
       "      <td>0</td>\n",
       "      <td>1</td>\n",
       "      <td>0</td>\n",
       "      <td>0.106071</td>\n",
       "    </tr>\n",
       "    <tr>\n",
       "      <th>2023-12-25 00:00:00+00:00</th>\n",
       "      <td>4.810600</td>\n",
       "      <td>4.810600</td>\n",
       "      <td>4.810600</td>\n",
       "      <td>4.816900</td>\n",
       "      <td>0.000000</td>\n",
       "      <td>0.000000</td>\n",
       "      <td>0.005419</td>\n",
       "      <td>357</td>\n",
       "      <td>EWSA.AS</td>\n",
       "      <td>1</td>\n",
       "      <td>0</td>\n",
       "      <td>1</td>\n",
       "      <td>0</td>\n",
       "      <td>0.105936</td>\n",
       "    </tr>\n",
       "    <tr>\n",
       "      <th>2023-12-26 00:00:00+00:00</th>\n",
       "      <td>4.810600</td>\n",
       "      <td>4.810600</td>\n",
       "      <td>4.810600</td>\n",
       "      <td>4.816900</td>\n",
       "      <td>0.000000</td>\n",
       "      <td>0.009261</td>\n",
       "      <td>0.005989</td>\n",
       "      <td>358</td>\n",
       "      <td>EWSA.AS</td>\n",
       "      <td>1</td>\n",
       "      <td>0</td>\n",
       "      <td>1</td>\n",
       "      <td>0</td>\n",
       "      <td>0.105880</td>\n",
       "    </tr>\n",
       "    <tr>\n",
       "      <th>2023-12-27 00:00:00+00:00</th>\n",
       "      <td>4.844000</td>\n",
       "      <td>4.844000</td>\n",
       "      <td>4.807200</td>\n",
       "      <td>4.807200</td>\n",
       "      <td>5484.000000</td>\n",
       "      <td>-0.002014</td>\n",
       "      <td>0.004963</td>\n",
       "      <td>359</td>\n",
       "      <td>EWSA.AS</td>\n",
       "      <td>1</td>\n",
       "      <td>0</td>\n",
       "      <td>1</td>\n",
       "      <td>0</td>\n",
       "      <td>0.096072</td>\n",
       "    </tr>\n",
       "    <tr>\n",
       "      <th>2023-12-28 00:00:00+00:00</th>\n",
       "      <td>4.818500</td>\n",
       "      <td>4.818500</td>\n",
       "      <td>4.818500</td>\n",
       "      <td>4.784800</td>\n",
       "      <td>0.000000</td>\n",
       "      <td>-0.004660</td>\n",
       "      <td>0.004293</td>\n",
       "      <td>360</td>\n",
       "      <td>EWSA.AS</td>\n",
       "      <td>0</td>\n",
       "      <td>1</td>\n",
       "      <td>1</td>\n",
       "      <td>0</td>\n",
       "      <td>0.076875</td>\n",
       "    </tr>\n",
       "  </tbody>\n",
       "</table>\n",
       "<p>61 rows × 14 columns</p>\n",
       "</div>"
      ]
     },
     "execution_count": 106,
     "metadata": {},
     "output_type": "execute_result"
    }
   ],
   "execution_count": 106
  },
  {
   "metadata": {
    "ExecuteTime": {
     "end_time": "2025-01-29T13:22:38.255462Z",
     "start_time": "2025-01-29T13:22:38.240512Z"
    }
   },
   "cell_type": "code",
   "source": [
    "df_scary.index = pd.to_datetime(df_scary.index)  # ensure index is datetime if not already\n",
    "df_scary[\"time_idx\"] = (df_scary.index.date - df_scary.index.date[0]).astype(\"timedelta64[D]\").astype(int)\n",
    "df_scary['group_id'] = IE_indicators[\"EWSA.AS\"][\"group_id\"]"
   ],
   "id": "66a36a9bcc3d7fcc",
   "outputs": [],
   "execution_count": 107
  },
  {
   "metadata": {
    "ExecuteTime": {
     "end_time": "2025-01-29T13:46:12.705676Z",
     "start_time": "2025-01-29T13:46:12.556078Z"
    }
   },
   "cell_type": "code",
   "source": "IE_tft_rem, val = fit(epochs=100, batch_size=128, df=df_scary, independent_variables=[\"Open\", \"High\", \"Low\", \"isOverbought\", \"Bullish\"], target=\"Remainders\")",
   "id": "e3c5b523e879de2d",
   "outputs": [
    {
     "ename": "AssertionError",
     "evalue": "filters should not remove entries all entries - check encoder/decoder lengths and lags",
     "output_type": "error",
     "traceback": [
      "\u001B[1;31m---------------------------------------------------------------------------\u001B[0m",
      "\u001B[1;31mAssertionError\u001B[0m                            Traceback (most recent call last)",
      "Cell \u001B[1;32mIn[143], line 1\u001B[0m\n\u001B[1;32m----> 1\u001B[0m IE_tft_rem, IE_tft_rem_training, val \u001B[38;5;241m=\u001B[39m \u001B[43mfit\u001B[49m\u001B[43m(\u001B[49m\u001B[43mepochs\u001B[49m\u001B[38;5;241;43m=\u001B[39;49m\u001B[38;5;241;43m100\u001B[39;49m\u001B[43m,\u001B[49m\u001B[43m \u001B[49m\u001B[43mbatch_size\u001B[49m\u001B[38;5;241;43m=\u001B[39;49m\u001B[38;5;241;43m128\u001B[39;49m\u001B[43m,\u001B[49m\u001B[43m \u001B[49m\u001B[43mdf\u001B[49m\u001B[38;5;241;43m=\u001B[39;49m\u001B[43mdf_scary\u001B[49m\u001B[43m,\u001B[49m\u001B[43m \u001B[49m\u001B[43mindependent_variables\u001B[49m\u001B[38;5;241;43m=\u001B[39;49m\u001B[43m[\u001B[49m\u001B[38;5;124;43m\"\u001B[39;49m\u001B[38;5;124;43mOpen\u001B[39;49m\u001B[38;5;124;43m\"\u001B[39;49m\u001B[43m,\u001B[49m\u001B[43m \u001B[49m\u001B[38;5;124;43m\"\u001B[39;49m\u001B[38;5;124;43mHigh\u001B[39;49m\u001B[38;5;124;43m\"\u001B[39;49m\u001B[43m,\u001B[49m\u001B[43m \u001B[49m\u001B[38;5;124;43m\"\u001B[39;49m\u001B[38;5;124;43mLow\u001B[39;49m\u001B[38;5;124;43m\"\u001B[39;49m\u001B[43m,\u001B[49m\u001B[43m \u001B[49m\u001B[38;5;124;43m\"\u001B[39;49m\u001B[38;5;124;43misOverbought\u001B[39;49m\u001B[38;5;124;43m\"\u001B[39;49m\u001B[43m,\u001B[49m\u001B[43m \u001B[49m\u001B[38;5;124;43m\"\u001B[39;49m\u001B[38;5;124;43mBullish\u001B[39;49m\u001B[38;5;124;43m\"\u001B[39;49m\u001B[43m]\u001B[49m\u001B[43m,\u001B[49m\u001B[43m \u001B[49m\u001B[43mtarget\u001B[49m\u001B[38;5;241;43m=\u001B[39;49m\u001B[38;5;124;43m\"\u001B[39;49m\u001B[38;5;124;43mRemainders\u001B[39;49m\u001B[38;5;124;43m\"\u001B[39;49m\u001B[43m,\u001B[49m\u001B[43m \u001B[49m\u001B[43mmin_encoder_length\u001B[49m\u001B[38;5;241;43m=\u001B[39;49m\u001B[38;5;241;43m150\u001B[39;49m\u001B[43m)\u001B[49m\n",
      "Cell \u001B[1;32mIn[141], line 3\u001B[0m, in \u001B[0;36mfit\u001B[1;34m(epochs, batch_size, df, independent_variables, target, training_cutoff_idx, max_prediction_length, min_encoder_length)\u001B[0m\n\u001B[0;32m      2\u001B[0m \u001B[38;5;28;01mdef\u001B[39;00m \u001B[38;5;21mfit\u001B[39m(epochs: \u001B[38;5;28mint\u001B[39m, batch_size: \u001B[38;5;28mint\u001B[39m, df: pd\u001B[38;5;241m.\u001B[39mDataFrame, independent_variables: \u001B[38;5;28mlist\u001B[39m, target\u001B[38;5;241m=\u001B[39m\u001B[38;5;124m\"\u001B[39m\u001B[38;5;124mClose\u001B[39m\u001B[38;5;124m\"\u001B[39m, training_cutoff_idx: pd\u001B[38;5;241m.\u001B[39mTimestamp\u001B[38;5;241m=\u001B[39m\u001B[38;5;241m330\u001B[39m, max_prediction_length\u001B[38;5;241m=\u001B[39m\u001B[38;5;241m31\u001B[39m, min_encoder_length\u001B[38;5;241m=\u001B[39m\u001B[38;5;241m22\u001B[39m):\n\u001B[1;32m----> 3\u001B[0m     training \u001B[38;5;241m=\u001B[39m \u001B[43mTimeSeriesDataSet\u001B[49m\u001B[43m(\u001B[49m\n\u001B[0;32m      4\u001B[0m \u001B[43m        \u001B[49m\u001B[43mdf\u001B[49m\u001B[43m[\u001B[49m\u001B[38;5;28;43;01mlambda\u001B[39;49;00m\u001B[43m \u001B[49m\u001B[43mx\u001B[49m\u001B[43m:\u001B[49m\u001B[43m \u001B[49m\u001B[43mx\u001B[49m\u001B[38;5;241;43m.\u001B[39;49m\u001B[43mtime_idx\u001B[49m\u001B[43m \u001B[49m\u001B[38;5;241;43m<\u001B[39;49m\u001B[38;5;241;43m=\u001B[39;49m\u001B[43m \u001B[49m\u001B[43mtraining_cutoff_idx\u001B[49m\u001B[43m]\u001B[49m\u001B[43m,\u001B[49m\u001B[43m     \u001B[49m\u001B[38;5;66;43;03m# Use the determined cutoff index\u001B[39;49;00m\n\u001B[0;32m      5\u001B[0m \u001B[43m        \u001B[49m\u001B[43mtime_idx\u001B[49m\u001B[38;5;241;43m=\u001B[39;49m\u001B[38;5;124;43m\"\u001B[39;49m\u001B[38;5;124;43mtime_idx\u001B[39;49m\u001B[38;5;124;43m\"\u001B[39;49m\u001B[43m,\u001B[49m\u001B[43m                                 \u001B[49m\u001B[38;5;66;43;03m# Sequential time index\u001B[39;49;00m\n\u001B[0;32m      6\u001B[0m \u001B[43m        \u001B[49m\u001B[43mtarget\u001B[49m\u001B[38;5;241;43m=\u001B[39;49m\u001B[43mtarget\u001B[49m\u001B[43m,\u001B[49m\u001B[43m                                       \u001B[49m\u001B[38;5;66;43;03m# Target variable\u001B[39;49;00m\n\u001B[0;32m      7\u001B[0m \u001B[43m        \u001B[49m\u001B[43mgroup_ids\u001B[49m\u001B[38;5;241;43m=\u001B[39;49m\u001B[43m[\u001B[49m\u001B[38;5;124;43m\"\u001B[39;49m\u001B[38;5;124;43mgroup_id\u001B[39;49m\u001B[38;5;124;43m\"\u001B[39;49m\u001B[43m]\u001B[49m\u001B[43m,\u001B[49m\u001B[43m                              \u001B[49m\u001B[38;5;66;43;03m# Group identifier\u001B[39;49;00m\n\u001B[0;32m      8\u001B[0m \u001B[43m        \u001B[49m\u001B[43mmin_encoder_length\u001B[49m\u001B[38;5;241;43m=\u001B[39;49m\u001B[43mmin_encoder_length\u001B[49m\u001B[43m,\u001B[49m\u001B[43m                               \u001B[49m\u001B[38;5;66;43;03m# Minimum input sequence length\u001B[39;49;00m\n\u001B[0;32m      9\u001B[0m \u001B[43m        \u001B[49m\u001B[43mmax_encoder_length\u001B[49m\u001B[38;5;241;43m=\u001B[39;49m\u001B[38;5;241;43m365\u001B[39;49m\u001B[43m,\u001B[49m\u001B[43m                              \u001B[49m\u001B[38;5;66;43;03m# Maximum input sequence length\u001B[39;49;00m\n\u001B[0;32m     10\u001B[0m \u001B[43m        \u001B[49m\u001B[43mmin_prediction_length\u001B[49m\u001B[38;5;241;43m=\u001B[39;49m\u001B[38;5;241;43m1\u001B[39;49m\u001B[43m,\u001B[49m\u001B[43m                             \u001B[49m\u001B[38;5;66;43;03m# Minimum forecast length\u001B[39;49;00m\n\u001B[0;32m     11\u001B[0m \u001B[43m        \u001B[49m\u001B[43mmax_prediction_length\u001B[49m\u001B[38;5;241;43m=\u001B[39;49m\u001B[43mmax_prediction_length\u001B[49m\u001B[43m,\u001B[49m\u001B[43m                            \u001B[49m\u001B[38;5;66;43;03m# Maximum forecast length (31 for December)\u001B[39;49;00m\n\u001B[0;32m     12\u001B[0m \u001B[43m        \u001B[49m\u001B[43mstatic_categoricals\u001B[49m\u001B[38;5;241;43m=\u001B[39;49m\u001B[43m[\u001B[49m\u001B[38;5;124;43m\"\u001B[39;49m\u001B[38;5;124;43mgroup_id\u001B[39;49m\u001B[38;5;124;43m\"\u001B[39;49m\u001B[43m]\u001B[49m\u001B[43m,\u001B[49m\n\u001B[0;32m     13\u001B[0m \u001B[43m        \u001B[49m\u001B[43mstatic_reals\u001B[49m\u001B[38;5;241;43m=\u001B[39;49m\u001B[43m[\u001B[49m\u001B[43m]\u001B[49m\u001B[43m,\u001B[49m\u001B[43m                                     \u001B[49m\u001B[38;5;66;43;03m# No static real variables\u001B[39;49;00m\n\u001B[0;32m     14\u001B[0m \u001B[43m        \u001B[49m\u001B[43mtime_varying_known_reals\u001B[49m\u001B[38;5;241;43m=\u001B[39;49m\u001B[43m \u001B[49m\u001B[43mindependent_variables\u001B[49m\u001B[43m,\u001B[49m\u001B[43m     \u001B[49m\u001B[38;5;66;43;03m# Known inputs\u001B[39;49;00m\n\u001B[0;32m     15\u001B[0m \u001B[43m        \u001B[49m\u001B[43mtime_varying_unknown_reals\u001B[49m\u001B[38;5;241;43m=\u001B[39;49m\u001B[43m[\u001B[49m\u001B[43mtarget\u001B[49m\u001B[43m]\u001B[49m\u001B[43m,\u001B[49m\u001B[43m                 \u001B[49m\u001B[38;5;66;43;03m# Target variable\u001B[39;49;00m\n\u001B[0;32m     16\u001B[0m \u001B[43m        \u001B[49m\u001B[43mtarget_normalizer\u001B[49m\u001B[38;5;241;43m=\u001B[39;49m\u001B[43mGroupNormalizer\u001B[49m\u001B[43m(\u001B[49m\u001B[43mgroups\u001B[49m\u001B[38;5;241;43m=\u001B[39;49m\u001B[43m[\u001B[49m\u001B[38;5;124;43m\"\u001B[39;49m\u001B[38;5;124;43mgroup_id\u001B[39;49m\u001B[38;5;124;43m\"\u001B[39;49m\u001B[43m]\u001B[49m\u001B[43m,\u001B[49m\u001B[43m \u001B[49m\u001B[43mtransformation\u001B[49m\u001B[38;5;241;43m=\u001B[39;49m\u001B[38;5;124;43m\"\u001B[39;49m\u001B[38;5;124;43msoftplus\u001B[39;49m\u001B[38;5;124;43m\"\u001B[39;49m\u001B[43m)\u001B[49m\u001B[43m,\u001B[49m\n\u001B[0;32m     17\u001B[0m \u001B[43m        \u001B[49m\u001B[43madd_relative_time_idx\u001B[49m\u001B[38;5;241;43m=\u001B[39;49m\u001B[38;5;28;43;01mTrue\u001B[39;49;00m\u001B[43m,\u001B[49m\u001B[43m                          \u001B[49m\u001B[38;5;66;43;03m# Add relative time index\u001B[39;49;00m\n\u001B[0;32m     18\u001B[0m \u001B[43m        \u001B[49m\u001B[43madd_target_scales\u001B[49m\u001B[38;5;241;43m=\u001B[39;49m\u001B[38;5;28;43;01mTrue\u001B[39;49;00m\u001B[43m,\u001B[49m\u001B[43m                              \u001B[49m\u001B[38;5;66;43;03m# Scale the target variable\u001B[39;49;00m\n\u001B[0;32m     19\u001B[0m \u001B[43m        \u001B[49m\u001B[43madd_encoder_length\u001B[49m\u001B[38;5;241;43m=\u001B[39;49m\u001B[38;5;28;43;01mTrue\u001B[39;49;00m\u001B[43m,\u001B[49m\u001B[43m                             \u001B[49m\u001B[38;5;66;43;03m# Include encoder length feature\u001B[39;49;00m\n\u001B[0;32m     20\u001B[0m \u001B[43m        \u001B[49m\u001B[43mallow_missing_timesteps\u001B[49m\u001B[38;5;241;43m=\u001B[39;49m\u001B[38;5;28;43;01mFalse\u001B[39;49;00m\u001B[43m,\u001B[49m\u001B[43m                       \u001B[49m\u001B[38;5;66;43;03m# Ensure no missing steps\u001B[39;49;00m\n\u001B[0;32m     21\u001B[0m \u001B[43m    \u001B[49m\u001B[43m)\u001B[49m\n\u001B[0;32m     23\u001B[0m     validation \u001B[38;5;241m=\u001B[39m TimeSeriesDataSet\u001B[38;5;241m.\u001B[39mfrom_dataset(\n\u001B[0;32m     24\u001B[0m         training,\n\u001B[0;32m     25\u001B[0m         df,\n\u001B[0;32m     26\u001B[0m         predict\u001B[38;5;241m=\u001B[39m\u001B[38;5;28;01mTrue\u001B[39;00m,\n\u001B[0;32m     27\u001B[0m         stop_randomization\u001B[38;5;241m=\u001B[39m\u001B[38;5;28;01mTrue\u001B[39;00m                             \u001B[38;5;66;03m# Ensures no randomization in validation dataset\u001B[39;00m\n\u001B[0;32m     28\u001B[0m     )\n\u001B[0;32m     30\u001B[0m     batch_size \u001B[38;5;241m=\u001B[39m batch_size\n",
      "File \u001B[1;32m~\\miniconda3\\lib\\site-packages\\pytorch_forecasting\\data\\timeseries.py:499\u001B[0m, in \u001B[0;36mTimeSeriesDataSet.__init__\u001B[1;34m(self, data, time_idx, target, group_ids, weight, max_encoder_length, min_encoder_length, min_prediction_idx, min_prediction_length, max_prediction_length, static_categoricals, static_reals, time_varying_known_categoricals, time_varying_known_reals, time_varying_unknown_categoricals, time_varying_unknown_reals, variable_groups, constant_fill_strategy, allow_missing_timesteps, lags, add_relative_time_idx, add_target_scales, add_encoder_length, target_normalizer, categorical_encoders, scalers, randomize_length, predict_mode)\u001B[0m\n\u001B[0;32m    496\u001B[0m     \u001B[38;5;28;01massert\u001B[39;00m target \u001B[38;5;129;01mnot\u001B[39;00m \u001B[38;5;129;01min\u001B[39;00m \u001B[38;5;28mself\u001B[39m\u001B[38;5;241m.\u001B[39m_scalers, \u001B[38;5;124m\"\u001B[39m\u001B[38;5;124mTarget normalizer is separate and not in scalers.\u001B[39m\u001B[38;5;124m\"\u001B[39m\n\u001B[0;32m    498\u001B[0m \u001B[38;5;66;03m# create index\u001B[39;00m\n\u001B[1;32m--> 499\u001B[0m \u001B[38;5;28mself\u001B[39m\u001B[38;5;241m.\u001B[39mindex \u001B[38;5;241m=\u001B[39m \u001B[38;5;28;43mself\u001B[39;49m\u001B[38;5;241;43m.\u001B[39;49m\u001B[43m_construct_index\u001B[49m\u001B[43m(\u001B[49m\u001B[43mdata\u001B[49m\u001B[43m,\u001B[49m\u001B[43m \u001B[49m\u001B[43mpredict_mode\u001B[49m\u001B[38;5;241;43m=\u001B[39;49m\u001B[38;5;28;43mself\u001B[39;49m\u001B[38;5;241;43m.\u001B[39;49m\u001B[43mpredict_mode\u001B[49m\u001B[43m)\u001B[49m\n\u001B[0;32m    501\u001B[0m \u001B[38;5;66;03m# convert to torch tensor for high performance data loading later\u001B[39;00m\n\u001B[0;32m    502\u001B[0m \u001B[38;5;28mself\u001B[39m\u001B[38;5;241m.\u001B[39mdata \u001B[38;5;241m=\u001B[39m \u001B[38;5;28mself\u001B[39m\u001B[38;5;241m.\u001B[39m_data_to_tensors(data)\n",
      "File \u001B[1;32m~\\miniconda3\\lib\\site-packages\\pytorch_forecasting\\data\\timeseries.py:1310\u001B[0m, in \u001B[0;36mTimeSeriesDataSet._construct_index\u001B[1;34m(self, data, predict_mode)\u001B[0m\n\u001B[0;32m   1300\u001B[0m         missing_groups[\u001B[38;5;28mid\u001B[39m] \u001B[38;5;241m=\u001B[39m \u001B[38;5;28mself\u001B[39m\u001B[38;5;241m.\u001B[39mtransform_values(name, missing_groups[\u001B[38;5;28mid\u001B[39m], inverse\u001B[38;5;241m=\u001B[39m\u001B[38;5;28;01mTrue\u001B[39;00m, group_id\u001B[38;5;241m=\u001B[39m\u001B[38;5;28;01mTrue\u001B[39;00m)\n\u001B[0;32m   1301\u001B[0m     warnings\u001B[38;5;241m.\u001B[39mwarn(\n\u001B[0;32m   1302\u001B[0m         \u001B[38;5;124m\"\u001B[39m\u001B[38;5;124mMin encoder length and/or min_prediction_idx and/or min prediction length and/or lags are \u001B[39m\u001B[38;5;124m\"\u001B[39m\n\u001B[0;32m   1303\u001B[0m         \u001B[38;5;124m\"\u001B[39m\u001B[38;5;124mtoo large for \u001B[39m\u001B[38;5;124m\"\u001B[39m\n\u001B[1;32m   (...)\u001B[0m\n\u001B[0;32m   1307\u001B[0m         \u001B[38;5;167;01mUserWarning\u001B[39;00m,\n\u001B[0;32m   1308\u001B[0m     )\n\u001B[0;32m   1309\u001B[0m \u001B[38;5;28;01massert\u001B[39;00m (\n\u001B[1;32m-> 1310\u001B[0m     \u001B[38;5;28mlen\u001B[39m(df_index) \u001B[38;5;241m>\u001B[39m \u001B[38;5;241m0\u001B[39m\n\u001B[0;32m   1311\u001B[0m ), \u001B[38;5;124m\"\u001B[39m\u001B[38;5;124mfilters should not remove entries all entries - check encoder/decoder lengths and lags\u001B[39m\u001B[38;5;124m\"\u001B[39m\n\u001B[0;32m   1313\u001B[0m \u001B[38;5;28;01mreturn\u001B[39;00m df_index\n",
      "\u001B[1;31mAssertionError\u001B[0m: filters should not remove entries all entries - check encoder/decoder lengths and lags"
     ]
    }
   ],
   "execution_count": 143
  },
  {
   "metadata": {
    "ExecuteTime": {
     "end_time": "2025-01-29T13:28:32.514192Z",
     "start_time": "2025-01-29T13:28:32.311230Z"
    }
   },
   "cell_type": "code",
   "source": "IE_tft_rem_preds= predictt(IE_tft_rem, val)",
   "id": "5a895087ad56e267",
   "outputs": [
    {
     "name": "stderr",
     "output_type": "stream",
     "text": [
      "GPU available: False, used: False\n",
      "TPU available: False, using: 0 TPU cores\n",
      "HPU available: False, using: 0 HPUs\n"
     ]
    }
   ],
   "execution_count": 122
  },
  {
   "metadata": {
    "ExecuteTime": {
     "end_time": "2025-01-29T13:28:34.344766Z",
     "start_time": "2025-01-29T13:28:33.973758Z"
    }
   },
   "cell_type": "code",
   "source": "IE_model2_rse, IE_model2_rae, IE_model2_huber, IE_model2_plt= metrics_and_plt(df_scary[30:], IE_tft_rem_preds, pd.date_range(start=\"2023-11-29\", end=\"2023-12-29\"), target=\"Remainders\", date=\"2023-11-28\")",
   "id": "73195b96be3a5f96",
   "outputs": [
    {
     "name": "stdout",
     "output_type": "stream",
     "text": [
      "31\n",
      "31\n"
     ]
    },
    {
     "data": {
      "text/plain": [
       "<Figure size 1000x600 with 1 Axes>"
      ],
      "image/png": "[encoded data removed]"
     },
     "metadata": {},
     "output_type": "display_data"
    }
   ],
   "execution_count": 123
  },
  {
   "metadata": {
    "ExecuteTime": {
     "end_time": "2025-01-29T13:28:53.363356Z",
     "start_time": "2025-01-29T13:28:53.356340Z"
    }
   },
   "cell_type": "code",
   "source": "IE_model2_rse",
   "id": "940cbe7209ed0228",
   "outputs": [
    {
     "data": {
      "text/plain": [
       "0.12024078674314823"
      ]
     },
     "execution_count": 124,
     "metadata": {},
     "output_type": "execute_result"
    }
   ],
   "execution_count": 124
  },
  {
   "metadata": {
    "ExecuteTime": {
     "end_time": "2025-01-29T13:29:09.168090Z",
     "start_time": "2025-01-29T13:29:09.149141Z"
    }
   },
   "cell_type": "code",
   "source": "IE_model2_rae",
   "id": "47f09f5e57253f4",
   "outputs": [
    {
     "data": {
      "text/plain": [
       "0.2960165935893682"
      ]
     },
     "execution_count": 125,
     "metadata": {},
     "output_type": "execute_result"
    }
   ],
   "execution_count": 125
  },
  {
   "metadata": {
    "ExecuteTime": {
     "end_time": "2025-01-29T13:29:28.975350Z",
     "start_time": "2025-01-29T13:29:28.962354Z"
    }
   },
   "cell_type": "code",
   "source": "IE_model_huber",
   "id": "4b80bf5d27bed635",
   "outputs": [
    {
     "data": {
      "text/plain": [
       "9.401844207304594e-05"
      ]
     },
     "execution_count": 126,
     "metadata": {},
     "output_type": "execute_result"
    }
   ],
   "execution_count": 126
  },
  {
   "metadata": {
    "ExecuteTime": {
     "end_time": "2025-01-29T13:32:02.368799Z",
     "start_time": "2025-01-29T13:32:02.353838Z"
    }
   },
   "cell_type": "code",
   "source": "final_preds = IE_indicators_preds.copy()[-31:] + IE_tft_rem_preds",
   "id": "ce43abdb8b4955cd",
   "outputs": [],
   "execution_count": 136
  },
  {
   "metadata": {
    "ExecuteTime": {
     "end_time": "2025-01-29T13:32:02.816826Z",
     "start_time": "2025-01-29T13:32:02.802863Z"
    }
   },
   "cell_type": "code",
   "source": "final_rse = relative_squared_error(IE_indicators[\"EWSA.AS\"][\"Close\"][-31:], final_preds)",
   "id": "35156437179a795b",
   "outputs": [],
   "execution_count": 137
  },
  {
   "metadata": {
    "ExecuteTime": {
     "end_time": "2025-01-29T13:32:03.154616Z",
     "start_time": "2025-01-29T13:32:03.138631Z"
    }
   },
   "cell_type": "code",
   "source": "final_rse",
   "id": "cc0d1c21a1bfb36f",
   "outputs": [
    {
     "data": {
      "text/plain": [
       "0.008543566172929402"
      ]
     },
     "execution_count": 138,
     "metadata": {},
     "output_type": "execute_result"
    }
   ],
   "execution_count": 138
  },
  {
   "metadata": {},
   "cell_type": "markdown",
   "source": "4) MANY FUNDS, INDICATORS, PRICE",
   "id": "f4378cbbe8d89a60"
  },
  {
   "metadata": {
    "ExecuteTime": {
     "end_time": "2025-01-29T13:55:55.018900Z",
     "start_time": "2025-01-29T13:55:55.002914Z"
    }
   },
   "cell_type": "code",
   "source": [
    "funds_for_hedge = [\"ISVIF\", \"IE00BHZPJ783\", \"36BA.DE\", \"IE00B3ZW0K18\", \"EWSA.AS\"]\n",
    "\n",
    "dataframes_funds = []\n",
    "for fund in funds_for_hedge:\n",
    "    dataframes_funds.append(funds_w_names[fund].copy())"
   ],
   "id": "82536b7b35795e72",
   "outputs": [],
   "execution_count": 151
  },
  {
   "metadata": {},
   "cell_type": "code",
   "source": "fund_name_fund_df, sum_plt = technical_indicators_factory(dataframes_funds, funds_for_hedge)",
   "id": "23aca07fd581a73f",
   "outputs": [],
   "execution_count": null
  },
  {
   "metadata": {
    "ExecuteTime": {
     "end_time": "2025-01-29T14:02:48.059932Z",
     "start_time": "2025-01-29T14:02:48.047965Z"
    }
   },
   "cell_type": "code",
   "source": [
    "transformers=[]\n",
    "vals=[]"
   ],
   "id": "548b417bfbb3d76c",
   "outputs": [],
   "execution_count": 157
  },
  {
   "metadata": {
    "jupyter": {
     "is_executing": true
    },
    "ExecuteTime": {
     "start_time": "2025-01-29T14:06:15.758608Z"
    }
   },
   "cell_type": "code",
   "source": [
    "for fund in fund_name_fund_df:\n",
    "    tft, val = fit(epochs=10, batch_size=128, df=fund_name_fund_df[fund], independent_variables=[\"Open\", \"High\", \"Low\", \"isOverbought\", \"Bullish\"])\n",
    "    transformers.append(tft)\n",
    "    vals.append(val)"
   ],
   "id": "1c587615492396a8",
   "outputs": [
    {
     "name": "stderr",
     "output_type": "stream",
     "text": [
      "GPU available: False, used: False\n",
      "TPU available: False, using: 0 TPU cores\n",
      "HPU available: False, using: 0 HPUs\n",
      "\n",
      "   | Name                               | Type                            | Params | Mode \n",
      "------------------------------------------------------------------------------------------------\n",
      "0  | loss                               | QuantileLoss                    | 0      | train\n",
      "1  | logging_metrics                    | ModuleList                      | 0      | train\n",
      "2  | input_embeddings                   | MultiEmbedding                  | 1      | train\n",
      "3  | prescalers                         | ModuleDict                      | 880    | train\n",
      "4  | static_variable_selection          | VariableSelectionNetwork        | 38.1 K | train\n",
      "5  | encoder_variable_selection         | VariableSelectionNetwork        | 89.8 K | train\n",
      "6  | decoder_variable_selection         | VariableSelectionNetwork        | 76.7 K | train\n",
      "7  | static_context_variable_selection  | GatedResidualNetwork            | 31.5 K | train\n",
      "8  | static_context_initial_hidden_lstm | GatedResidualNetwork            | 31.5 K | train\n",
      "9  | static_context_initial_cell_lstm   | GatedResidualNetwork            | 31.5 K | train\n",
      "10 | static_context_enrichment          | GatedResidualNetwork            | 31.5 K | train\n",
      "11 | lstm_encoder                       | LSTM                            | 62.7 K | train\n",
      "12 | lstm_decoder                       | LSTM                            | 62.7 K | train\n",
      "13 | post_lstm_gate_encoder             | GatedLinearUnit                 | 15.7 K | train\n",
      "14 | post_lstm_add_norm_encoder         | AddNorm                         | 176    | train\n",
      "15 | static_enrichment                  | GatedResidualNetwork            | 39.2 K | train\n",
      "16 | multihead_attn                     | InterpretableMultiHeadAttention | 19.6 K | train\n",
      "17 | post_attn_gate_norm                | GateAddNorm                     | 15.8 K | train\n",
      "18 | pos_wise_ff                        | GatedResidualNetwork            | 31.5 K | train\n",
      "19 | pre_output_gate_norm               | GateAddNorm                     | 15.8 K | train\n",
      "20 | output_layer                       | Linear                          | 623    | train\n",
      "------------------------------------------------------------------------------------------------\n",
      "593 K     Trainable params\n",
      "0         Non-trainable params\n",
      "593 K     Total params\n",
      "2.376     Total estimated model params size (MB)\n",
      "400       Modules in train mode\n",
      "0         Modules in eval mode\n"
     ]
    },
    {
     "data": {
      "text/plain": [
       "Sanity Checking: |          | 0/? [00:00<?, ?it/s]"
      ],
      "application/vnd.jupyter.widget-view+json": {
       "version_major": 2,
       "version_minor": 0,
       "model_id": "2c34f00388a64123941843095d2db430"
      }
     },
     "metadata": {},
     "output_type": "display_data"
    },
    {
     "data": {
      "text/plain": [
       "Training: |          | 0/? [00:00<?, ?it/s]"
      ],
      "application/vnd.jupyter.widget-view+json": {
       "version_major": 2,
       "version_minor": 0,
       "model_id": "824e9b25e61a402fac0b426a03bdb5c5"
      }
     },
     "metadata": {},
     "output_type": "display_data"
    },
    {
     "data": {
      "text/plain": [
       "Validation: |          | 0/? [00:00<?, ?it/s]"
      ],
      "application/vnd.jupyter.widget-view+json": {
       "version_major": 2,
       "version_minor": 0,
       "model_id": "b3aa7c98eb6045429ebf6dda1707ae2c"
      }
     },
     "metadata": {},
     "output_type": "display_data"
    },
    {
     "data": {
      "text/plain": [
       "Validation: |          | 0/? [00:00<?, ?it/s]"
      ],
      "application/vnd.jupyter.widget-view+json": {
       "version_major": 2,
       "version_minor": 0,
       "model_id": "c0fd3aa84f094b71b78af24ac6198e58"
      }
     },
     "metadata": {},
     "output_type": "display_data"
    },
    {
     "data": {
      "text/plain": [
       "Validation: |          | 0/? [00:00<?, ?it/s]"
      ],
      "application/vnd.jupyter.widget-view+json": {
       "version_major": 2,
       "version_minor": 0,
       "model_id": "1cd5975e89e64d35b3df6ad574e880a3"
      }
     },
     "metadata": {},
     "output_type": "display_data"
    },
    {
     "data": {
      "text/plain": [
       "Validation: |          | 0/? [00:00<?, ?it/s]"
      ],
      "application/vnd.jupyter.widget-view+json": {
       "version_major": 2,
       "version_minor": 0,
       "model_id": "73426ae6b0e641a184a9052136bc3332"
      }
     },
     "metadata": {},
     "output_type": "display_data"
    },
    {
     "data": {
      "text/plain": [
       "Validation: |          | 0/? [00:00<?, ?it/s]"
      ],
      "application/vnd.jupyter.widget-view+json": {
       "version_major": 2,
       "version_minor": 0,
       "model_id": "6455f478bb5d492aa7a578e08f384535"
      }
     },
     "metadata": {},
     "output_type": "display_data"
    },
    {
     "data": {
      "text/plain": [
       "Validation: |          | 0/? [00:00<?, ?it/s]"
      ],
      "application/vnd.jupyter.widget-view+json": {
       "version_major": 2,
       "version_minor": 0,
       "model_id": "20671fe26704468cb99369060e2ac17f"
      }
     },
     "metadata": {},
     "output_type": "display_data"
    },
    {
     "data": {
      "text/plain": [
       "Validation: |          | 0/? [00:00<?, ?it/s]"
      ],
      "application/vnd.jupyter.widget-view+json": {
       "version_major": 2,
       "version_minor": 0,
       "model_id": "b3babbd980764d1fa5439b357a5f6fdd"
      }
     },
     "metadata": {},
     "output_type": "display_data"
    },
    {
     "data": {
      "text/plain": [
       "Validation: |          | 0/? [00:00<?, ?it/s]"
      ],
      "application/vnd.jupyter.widget-view+json": {
       "version_major": 2,
       "version_minor": 0,
       "model_id": "7a728cb2b886436a8e01637b6debd33b"
      }
     },
     "metadata": {},
     "output_type": "display_data"
    },
    {
     "data": {
      "text/plain": [
       "Validation: |          | 0/? [00:00<?, ?it/s]"
      ],
      "application/vnd.jupyter.widget-view+json": {
       "version_major": 2,
       "version_minor": 0,
       "model_id": "8d525acc75a140bb8f2ac87790c6701b"
      }
     },
     "metadata": {},
     "output_type": "display_data"
    },
    {
     "data": {
      "text/plain": [
       "Validation: |          | 0/? [00:00<?, ?it/s]"
      ],
      "application/vnd.jupyter.widget-view+json": {
       "version_major": 2,
       "version_minor": 0,
       "model_id": "4d22a3d6a6d54657ad46925bdf8ca3ac"
      }
     },
     "metadata": {},
     "output_type": "display_data"
    },
    {
     "name": "stderr",
     "output_type": "stream",
     "text": [
      "`Trainer.fit` stopped: `max_epochs=10` reached.\n",
      "GPU available: False, used: False\n",
      "TPU available: False, using: 0 TPU cores\n",
      "HPU available: False, using: 0 HPUs\n",
      "\n",
      "   | Name                               | Type                            | Params | Mode \n",
      "------------------------------------------------------------------------------------------------\n",
      "0  | loss                               | QuantileLoss                    | 0      | train\n",
      "1  | logging_metrics                    | ModuleList                      | 0      | train\n",
      "2  | input_embeddings                   | MultiEmbedding                  | 1      | train\n",
      "3  | prescalers                         | ModuleDict                      | 880    | train\n",
      "4  | static_variable_selection          | VariableSelectionNetwork        | 38.1 K | train\n",
      "5  | encoder_variable_selection         | VariableSelectionNetwork        | 89.8 K | train\n",
      "6  | decoder_variable_selection         | VariableSelectionNetwork        | 76.7 K | train\n",
      "7  | static_context_variable_selection  | GatedResidualNetwork            | 31.5 K | train\n",
      "8  | static_context_initial_hidden_lstm | GatedResidualNetwork            | 31.5 K | train\n",
      "9  | static_context_initial_cell_lstm   | GatedResidualNetwork            | 31.5 K | train\n",
      "10 | static_context_enrichment          | GatedResidualNetwork            | 31.5 K | train\n",
      "11 | lstm_encoder                       | LSTM                            | 62.7 K | train\n",
      "12 | lstm_decoder                       | LSTM                            | 62.7 K | train\n",
      "13 | post_lstm_gate_encoder             | GatedLinearUnit                 | 15.7 K | train\n",
      "14 | post_lstm_add_norm_encoder         | AddNorm                         | 176    | train\n",
      "15 | static_enrichment                  | GatedResidualNetwork            | 39.2 K | train\n",
      "16 | multihead_attn                     | InterpretableMultiHeadAttention | 19.6 K | train\n",
      "17 | post_attn_gate_norm                | GateAddNorm                     | 15.8 K | train\n",
      "18 | pos_wise_ff                        | GatedResidualNetwork            | 31.5 K | train\n",
      "19 | pre_output_gate_norm               | GateAddNorm                     | 15.8 K | train\n",
      "20 | output_layer                       | Linear                          | 623    | train\n",
      "------------------------------------------------------------------------------------------------\n",
      "593 K     Trainable params\n",
      "0         Non-trainable params\n",
      "593 K     Total params\n",
      "2.376     Total estimated model params size (MB)\n",
      "400       Modules in train mode\n",
      "0         Modules in eval mode\n"
     ]
    },
    {
     "data": {
      "text/plain": [
       "Sanity Checking: |          | 0/? [00:00<?, ?it/s]"
      ],
      "application/vnd.jupyter.widget-view+json": {
       "version_major": 2,
       "version_minor": 0,
       "model_id": "cc86913975934138891f005409c32e78"
      }
     },
     "metadata": {},
     "output_type": "display_data"
    },
    {
     "data": {
      "text/plain": [
       "Training: |          | 0/? [00:00<?, ?it/s]"
      ],
      "application/vnd.jupyter.widget-view+json": {
       "version_major": 2,
       "version_minor": 0,
       "model_id": "0a767dbf6f5f4623bfa684d679f2bd92"
      }
     },
     "metadata": {},
     "output_type": "display_data"
    },
    {
     "data": {
      "text/plain": [
       "Validation: |          | 0/? [00:00<?, ?it/s]"
      ],
      "application/vnd.jupyter.widget-view+json": {
       "version_major": 2,
       "version_minor": 0,
       "model_id": "7482c17d87d64001867e83f3c0134102"
      }
     },
     "metadata": {},
     "output_type": "display_data"
    },
    {
     "data": {
      "text/plain": [
       "Validation: |          | 0/? [00:00<?, ?it/s]"
      ],
      "application/vnd.jupyter.widget-view+json": {
       "version_major": 2,
       "version_minor": 0,
       "model_id": "0e73d3359ab849c2a4e6ca3cacd150cf"
      }
     },
     "metadata": {},
     "output_type": "display_data"
    },
    {
     "data": {
      "text/plain": [
       "Validation: |          | 0/? [00:00<?, ?it/s]"
      ],
      "application/vnd.jupyter.widget-view+json": {
       "version_major": 2,
       "version_minor": 0,
       "model_id": "20f41950ccd844dc8a75c8ff2ff27fce"
      }
     },
     "metadata": {},
     "output_type": "display_data"
    },
    {
     "data": {
      "text/plain": [
       "Validation: |          | 0/? [00:00<?, ?it/s]"
      ],
      "application/vnd.jupyter.widget-view+json": {
       "version_major": 2,
       "version_minor": 0,
       "model_id": "088c695698574e59827a726bebec65cb"
      }
     },
     "metadata": {},
     "output_type": "display_data"
    },
    {
     "data": {
      "text/plain": [
       "Validation: |          | 0/? [00:00<?, ?it/s]"
      ],
      "application/vnd.jupyter.widget-view+json": {
       "version_major": 2,
       "version_minor": 0,
       "model_id": "127e0d23bdb74cd096e9b568f2bce9c6"
      }
     },
     "metadata": {},
     "output_type": "display_data"
    },
    {
     "data": {
      "text/plain": [
       "Validation: |          | 0/? [00:00<?, ?it/s]"
      ],
      "application/vnd.jupyter.widget-view+json": {
       "version_major": 2,
       "version_minor": 0,
       "model_id": "edc1b3f0edab46328564165490dd2c3d"
      }
     },
     "metadata": {},
     "output_type": "display_data"
    },
    {
     "data": {
      "text/plain": [
       "Validation: |          | 0/? [00:00<?, ?it/s]"
      ],
      "application/vnd.jupyter.widget-view+json": {
       "version_major": 2,
       "version_minor": 0,
       "model_id": "ce4bc7e73c384ff692fd3a69d22f8532"
      }
     },
     "metadata": {},
     "output_type": "display_data"
    },
    {
     "data": {
      "text/plain": [
       "Validation: |          | 0/? [00:00<?, ?it/s]"
      ],
      "application/vnd.jupyter.widget-view+json": {
       "version_major": 2,
       "version_minor": 0,
       "model_id": "a3cc9bbc5c16408cb8f7124fa8d34c7d"
      }
     },
     "metadata": {},
     "output_type": "display_data"
    },
    {
     "data": {
      "text/plain": [
       "Validation: |          | 0/? [00:00<?, ?it/s]"
      ],
      "application/vnd.jupyter.widget-view+json": {
       "version_major": 2,
       "version_minor": 0,
       "model_id": "ffdab23f2d314da8bd5bf1538fb77fd4"
      }
     },
     "metadata": {},
     "output_type": "display_data"
    },
    {
     "data": {
      "text/plain": [
       "Validation: |          | 0/? [00:00<?, ?it/s]"
      ],
      "application/vnd.jupyter.widget-view+json": {
       "version_major": 2,
       "version_minor": 0,
       "model_id": "c666341ae56e4f97a4aae666711395b5"
      }
     },
     "metadata": {},
     "output_type": "display_data"
    },
    {
     "name": "stderr",
     "output_type": "stream",
     "text": [
      "`Trainer.fit` stopped: `max_epochs=10` reached.\n",
      "GPU available: False, used: False\n",
      "TPU available: False, using: 0 TPU cores\n",
      "HPU available: False, using: 0 HPUs\n",
      "\n",
      "   | Name                               | Type                            | Params | Mode \n",
      "------------------------------------------------------------------------------------------------\n",
      "0  | loss                               | QuantileLoss                    | 0      | train\n",
      "1  | logging_metrics                    | ModuleList                      | 0      | train\n",
      "2  | input_embeddings                   | MultiEmbedding                  | 1      | train\n",
      "3  | prescalers                         | ModuleDict                      | 880    | train\n",
      "4  | static_variable_selection          | VariableSelectionNetwork        | 38.1 K | train\n",
      "5  | encoder_variable_selection         | VariableSelectionNetwork        | 89.8 K | train\n",
      "6  | decoder_variable_selection         | VariableSelectionNetwork        | 76.7 K | train\n",
      "7  | static_context_variable_selection  | GatedResidualNetwork            | 31.5 K | train\n",
      "8  | static_context_initial_hidden_lstm | GatedResidualNetwork            | 31.5 K | train\n",
      "9  | static_context_initial_cell_lstm   | GatedResidualNetwork            | 31.5 K | train\n",
      "10 | static_context_enrichment          | GatedResidualNetwork            | 31.5 K | train\n",
      "11 | lstm_encoder                       | LSTM                            | 62.7 K | train\n",
      "12 | lstm_decoder                       | LSTM                            | 62.7 K | train\n",
      "13 | post_lstm_gate_encoder             | GatedLinearUnit                 | 15.7 K | train\n",
      "14 | post_lstm_add_norm_encoder         | AddNorm                         | 176    | train\n",
      "15 | static_enrichment                  | GatedResidualNetwork            | 39.2 K | train\n",
      "16 | multihead_attn                     | InterpretableMultiHeadAttention | 19.6 K | train\n",
      "17 | post_attn_gate_norm                | GateAddNorm                     | 15.8 K | train\n",
      "18 | pos_wise_ff                        | GatedResidualNetwork            | 31.5 K | train\n",
      "19 | pre_output_gate_norm               | GateAddNorm                     | 15.8 K | train\n",
      "20 | output_layer                       | Linear                          | 623    | train\n",
      "------------------------------------------------------------------------------------------------\n",
      "593 K     Trainable params\n",
      "0         Non-trainable params\n",
      "593 K     Total params\n",
      "2.376     Total estimated model params size (MB)\n",
      "400       Modules in train mode\n",
      "0         Modules in eval mode\n"
     ]
    },
    {
     "data": {
      "text/plain": [
       "Sanity Checking: |          | 0/? [00:00<?, ?it/s]"
      ],
      "application/vnd.jupyter.widget-view+json": {
       "version_major": 2,
       "version_minor": 0,
       "model_id": "b5fa52fe08ec403fb9375cdf87de9de1"
      }
     },
     "metadata": {},
     "output_type": "display_data"
    },
    {
     "data": {
      "text/plain": [
       "Training: |          | 0/? [00:00<?, ?it/s]"
      ],
      "application/vnd.jupyter.widget-view+json": {
       "version_major": 2,
       "version_minor": 0,
       "model_id": "9b53f7aeaae643679e9ca3a721a9a517"
      }
     },
     "metadata": {},
     "output_type": "display_data"
    }
   ],
   "execution_count": null
  },
  {
   "metadata": {},
   "cell_type": "code",
   "outputs": [],
   "execution_count": null,
   "source": [
    "IE_indicators_preds = predictt(tftttt, vallll)\n",
    "rse, rae, hub, IE_indicators_plt2,= metrics_and_plt(funds_w_names[\"EWSA.AS\"], IE_indicators_preds, pd.date_range(start=\"2023-11-29\", end=\"2023-12-29\"), date=\"2023-11-28\")"
   ],
   "id": "e8788055e2bd0f5"
  },
  {
   "metadata": {},
   "cell_type": "code",
   "outputs": [],
   "execution_count": null,
   "source": [
    "# GIGAFUND_NORM = GIGAFUND.copy()\n",
    "# \n",
    "# columns_to_normalize = [\"Open\", \"High\", \"Low\", \"Close\", \"Volume\", \"Return\", \"Rolling Volatility\"]\n",
    "# \n",
    "# GIGAFUND_NORM[columns_to_normalize] = (\n",
    "#     GIGAFUND_NORM[columns_to_normalize]\n",
    "#     .apply(lambda col: (col - col.min()) / (col.max() - col.min()), axis=0)\n",
    "# )"
   ],
   "id": "6b08923b9b1558f1"
  },
  {
   "metadata": {},
   "cell_type": "code",
   "outputs": [],
   "execution_count": null,
   "source": [
    "# duplicate_rows = GIGAFUND_NORM[GIGAFUND_NORM.duplicated(subset=[\"time_idx\", \"group_id\"], keep=False)]\n",
    "# print(duplicate_rows)"
   ],
   "id": "2a30a2dbda567eb6"
  },
  {
   "metadata": {},
   "cell_type": "code",
   "outputs": [],
   "execution_count": null,
   "source": "# gftft, gftr, gfv = fit(epochs=10, batch_size=128, lr=1e-3, dropout=0.1, df=GIGAFUND_NORM, independent_variables=[\"Open\", \"High\", \"Low\", \"isOverbought\", \"Bullish\"], target=\"Close\")",
   "id": "2adaf137e2efe0fb"
  },
  {
   "metadata": {},
   "cell_type": "code",
   "outputs": [],
   "execution_count": null,
   "source": "# IE_indicators_preds = predictt(gftft, gftr, gfv)",
   "id": "82caea1ca728e3e4"
  },
  {
   "metadata": {},
   "cell_type": "code",
   "outputs": [],
   "execution_count": null,
   "source": [
    "# normalized = dataframes_funds[1][columns_to_normalize] = (\n",
    "#     dataframes_funds[1][columns_to_normalize]\n",
    "#     .apply(lambda col: (col - col.min()) / (col.max() - col.min()), axis=0)\n",
    "# )"
   ],
   "id": "63b2a6817e4f2954"
  },
  {
   "metadata": {},
   "cell_type": "code",
   "outputs": [],
   "execution_count": null,
   "source": "# mse, plt, mape, huber = metrics_and_plt(dataframes_funds[1], IE_indicators_preds, pd.date_range(start=\"2023-10-29\", end=\"2023-12-29\"), date=\"2023-10-29\")",
   "id": "8b8fcd68db3d746c"
  },
  {
   "metadata": {},
   "cell_type": "markdown",
   "source": "5) MANY FUNDS, INDICATORS, RESIDUALS",
   "id": "d93c2cbea2bf7dfb"
  },
  {
   "metadata": {},
   "cell_type": "code",
   "outputs": [],
   "execution_count": null,
   "source": [
    "IE_tft_rem, IE_tft_rem_training = fit(epochs=220, batch_size=128, lr=1e-3, dropout=0.1, df=df_scary,\n",
    "                                      independent_variables=[\"Open\", \"High\", \"Low\", \"isOverbought\", \"Bullish\"],\n",
    "                                      target=\"Remainders\")"
   ],
   "id": "65c0a7ea8c6eb0c6"
  },
  {
   "metadata": {},
   "cell_type": "code",
   "outputs": [],
   "execution_count": null,
   "source": "dataframes_funds[1]",
   "id": "b82e58594fc3a9e"
  },
  {
   "metadata": {},
   "cell_type": "code",
   "outputs": [],
   "execution_count": null,
   "source": "IE_tft_rem_preds, IE_tft_rem_training = predictt(IE_tft_rem, IE_tft_rem_training, val)",
   "id": "1ecbb0a85e3e52ad"
  },
  {
   "metadata": {},
   "cell_type": "code",
   "outputs": [],
   "execution_count": null,
   "source": [
    "IE_model2_mse, IE_model2_plt = metrics_and_plt(df_scary, IE_tft_rem_preds,\n",
    "                                               pd.date_range(start=\"2023-12-23\", end=\"2023-12-29\"), target=\"Remainders\",\n",
    "                                               date=\"2023-12-23\")"
   ],
   "id": "88c18abe31304bfc"
  },
  {
   "metadata": {},
   "cell_type": "markdown",
   "source": "6) FINAL RESULT PRICE + RESIDUALS",
   "id": "9958a97302a9b6a5"
  },
  {
   "metadata": {},
   "cell_type": "code",
   "outputs": [],
   "execution_count": null,
   "source": "final_preds = IE_indicators_preds.copy()[-7:] + IE_tft_rem_preds",
   "id": "a2005305b41f278a"
  },
  {
   "metadata": {},
   "cell_type": "code",
   "outputs": [],
   "execution_count": null,
   "source": [
    "final_mse = mean_squared_error(IE_indicators[\"EWSA.AS\"][\"Close\"][-7:], final_preds)\n",
    "final_mse"
   ],
   "id": "b5edc35d4e52d271"
  },
  {
   "metadata": {},
   "cell_type": "markdown",
   "source": "MONTER CARLOS PREDICTING RISK",
   "id": "41d67617a0500f7c"
  },
  {
   "metadata": {},
   "cell_type": "code",
   "outputs": [],
   "execution_count": null,
   "source": [
    "def calc_drift(fund):\n",
    "    log_returns = np.log(1+fund[\"Close\"].pct_change())\n",
    "    log_returns.fillna(value=0, inplace=True)\n",
    "    avg_pdr = log_returns.mean()\n",
    "    var = log_returns.var()\n",
    "    drift = avg_pdr-(.5*var)\n",
    "\n",
    "    return drift"
   ],
   "id": "ce780356b92829b"
  },
  {
   "metadata": {},
   "cell_type": "code",
   "outputs": [],
   "execution_count": null,
   "source": [
    "def monte_carlo_sim(fund):\n",
    "    drift = calc_drift(fund)\n",
    "    log_returns = np.log(1+fund[\"Close\"].pct_change())\n",
    "    log_returns.fillna(value=0, inplace=True)\n",
    "    stdev=log_returns.std()\n",
    "    days=362\n",
    "    trials=100\n",
    "    Z = norm.ppf(np.random.rand(days,trials))\n",
    "    daily_returns=np.exp(np.array(drift) + np.array(stdev) * Z)\n",
    "    price_paths = np.zeros_like(daily_returns)\n",
    "    price_paths[0] = fund[\"Close\"].iloc[-1]\n",
    "    for i in range(1,days):\n",
    "        price_paths[i] = price_paths[i-1] * daily_returns[i]\n",
    "    return price_paths"
   ],
   "id": "528ac1cbf53e1d48"
  },
  {
   "metadata": {},
   "cell_type": "code",
   "outputs": [],
   "execution_count": null,
   "source": [
    "drifts=calc_drift(funds_w_names[\"EWSA.AS\"])\n",
    "pp=monte_carlo_sim(funds_w_names[\"EWSA.AS\"])"
   ],
   "id": "5b9b0090717d669e"
  },
  {
   "metadata": {},
   "cell_type": "code",
   "outputs": [],
   "execution_count": null,
   "source": [
    "def volatility_mc(price_paths: pd.DataFrame):\n",
    "    pp_df = pd.DataFrame(price_paths)\n",
    "    pp_df= pp_df.pct_change()\n",
    "    pp_df.fillna(value=0, inplace=True)\n",
    "    pp_df=pp_df.rolling(7).std()\n",
    "    pp_df.fillna(method=\"bfill\", inplace=True)\n",
    "    return np.mean(pp_df)"
   ],
   "id": "246b70a88305cb32"
  },
  {
   "metadata": {},
   "cell_type": "code",
   "outputs": [],
   "execution_count": null,
   "source": "volatility_mc(pp)",
   "id": "5a92ba440c1e2d4d"
  },
  {
   "metadata": {},
   "cell_type": "code",
   "outputs": [],
   "execution_count": null,
   "source": [
    "plt.figure(figsize=(10, 8))\n",
    "plt.plot(pp)"
   ],
   "id": "33abf461761625d1"
  },
  {
   "metadata": {},
   "cell_type": "markdown",
   "source": "TEZ DO KOSZA",
   "id": "a96b68a59f1b5020"
  },
  {
   "metadata": {},
   "cell_type": "code",
   "outputs": [],
   "execution_count": null,
   "source": "list_of_5_df_funds = []",
   "id": "2d63fd4545715e20"
  },
  {
   "metadata": {},
   "cell_type": "code",
   "outputs": [],
   "execution_count": null,
   "source": [
    "def nearest_positive_definite(matrix):\n",
    "    P = matrix.copy()\n",
    "    eigvals, eigvecs = np.linalg.eigh(P)\n",
    "    eigvals[eigvals < 0] = 1e-10\n",
    "    return eigvecs @ np.diag(eigvals) @ eigvecs.T"
   ],
   "id": "478c1504836b6a0d"
  },
  {
   "metadata": {},
   "cell_type": "code",
   "outputs": [],
   "execution_count": null,
   "source": [
    "variances = {}\n",
    "covs_means = []\n",
    "for k,v in funds_w_names.items():\n",
    "    variances[k] = v[\"Rolling Volatility\"]\n",
    "variances = pd.DataFrame(variances)\n",
    "r = variances.pct_change()\n",
    "covariance_matrix = r.cov()\n",
    "mean_returns = r.mean()"
   ],
   "id": "b8c50d748c713d69"
  },
  {
   "metadata": {},
   "cell_type": "code",
   "outputs": [],
   "execution_count": null,
   "source": [
    "if not np.all(np.linalg.eigvals(covariance_matrix) > 0):\n",
    "    print(\"Covariance matrix not positive definite. Adding regularization.\")\n",
    "    covariance_matrix = nearest_positive_definite(covariance_matrix)"
   ],
   "id": "8a729ebcee5d84db"
  },
  {
   "metadata": {},
   "cell_type": "code",
   "outputs": [],
   "execution_count": null,
   "source": [
    "#to be filled with real data\n",
    "portfolio_weights = np.random.random(len(mean_returns)) # distribution of etfs in portfolio\n",
    "portfolio_weights /= np.sum(portfolio_weights)"
   ],
   "id": "3c2dbc0471696f9a"
  },
  {
   "metadata": {},
   "cell_type": "code",
   "outputs": [],
   "execution_count": null,
   "source": [
    "initial_portfoloio = 0\n",
    "for i, v in enumerate(funds_w_names.values()):\n",
    "    initial_portfoloio += portfolio_weights[i] * v[\"Close\"][i]"
   ],
   "id": "4d215840ae00f69"
  },
  {
   "metadata": {},
   "cell_type": "code",
   "outputs": [],
   "execution_count": null,
   "source": [
    "days = 60\n",
    "simulations = 100\n",
    "portfolio_sims = np.full(shape=(days, simulations), fill_value=0.0) # default\n",
    "mean_matrix = np.full(shape=(days, len(portfolio_weights)), fill_value=mean_returns).T # days x all etfs"
   ],
   "id": "c94f47aa8849d900"
  },
  {
   "metadata": {},
   "cell_type": "code",
   "outputs": [],
   "execution_count": null,
   "source": "initial_portfoloio",
   "id": "dbfcddb7e2a9c012"
  },
  {
   "metadata": {},
   "cell_type": "code",
   "outputs": [],
   "execution_count": null,
   "source": [
    "for s in range(0, simulations):\n",
    "    Z = np.random.normal(size=(days, len(portfolio_weights)))\n",
    "    L = np.linalg.cholesky(covariance_matrix)\n",
    "    daily_returns = mean_matrix + np.inner(L, Z)\n",
    "    portfolio_sims[:, s] = np.cumprod(np.inner(portfolio_weights, daily_returns.T)+1)*initial_portfoloio\n",
    "\n",
    "plt.plot(portfolio_sims)\n",
    "plt.ylabel(\"Portfolio Simulations\")"
   ],
   "id": "5726fa47ce07141f"
  },
  {
   "metadata": {},
   "cell_type": "markdown",
   "source": "expected volatility",
   "id": "a1304933cd57a085"
  },
  {
   "metadata": {},
   "cell_type": "code",
   "outputs": [],
   "execution_count": null,
   "source": [
    "portfolio_returns = portfolio_sims[-1] / portfolio_sims[0] - 1  # final value over initial value gives portfolio returns\n",
    "portfolio_volatility = np.std(portfolio_returns)\n",
    "print(f\"Portfolio Volatility: {portfolio_volatility:.4f}\")"
   ],
   "id": "ddb3bc44d42c5c10"
  },
  {
   "metadata": {},
   "cell_type": "code",
   "outputs": [],
   "execution_count": null,
   "source": [
    "plt.figure(figsize=(10, 6))\n",
    "plt.plot(portfolio_sims)\n",
    "plt.title(\"Monte Carlo Simulations of Portfolio Value\")\n",
    "plt.xlabel(\"Days\")\n",
    "plt.ylabel(\"Portfolio Value\")\n",
    "plt.show()"
   ],
   "id": "fba9ce3c3a37db52"
  },
  {
   "metadata": {},
   "cell_type": "markdown",
   "source": "expected return",
   "id": "522ec0d09e87a432"
  },
  {
   "metadata": {},
   "cell_type": "code",
   "outputs": [],
   "execution_count": null,
   "source": "discounted_prices = [sim[-1]*0.96 for sim in portfolio_sims]",
   "id": "e1a75371918caadb"
  },
  {
   "metadata": {},
   "cell_type": "code",
   "outputs": [],
   "execution_count": null,
   "source": "avg = np.average(discounted_prices)",
   "id": "9c3302987fd8435d"
  },
  {
   "metadata": {},
   "cell_type": "markdown",
   "source": "MONTE CARLO EVALUATION FUNCITON",
   "id": "33af39f167ee8a0a"
  },
  {
   "metadata": {},
   "cell_type": "code",
   "outputs": [],
   "execution_count": null,
   "source": [
    "def test_robustness(paths, num_trials, tol=0.01):\n",
    "    means = []\n",
    "    for i in range(num_trials):\n",
    "        np.random.seed(i)\n",
    "        new_paths = np.random.choice(paths, size=len(paths), replace=True)\n",
    "        means.append(np.mean(new_paths))\n",
    "    glob_mean = np.mean(means)\n",
    "    devs = np.abs(np.array(means) - glob_mean)\n",
    "    return max(0, 1 - (np.mean(devs) / (tol*glob_mean)))"
   ],
   "id": "2daf68a963e4280f"
  },
  {
   "metadata": {},
   "cell_type": "code",
   "outputs": [],
   "execution_count": null,
   "source": [
    "def compute_convergence_rate(paths, true_val):\n",
    "    cum_means = np.cumsum(paths)/np.arange(1, len(paths)+1)\n",
    "    difs = np.abs(cum_means - true_val)\n",
    "    final = difs[-1]\n",
    "    avg = np.mean(difs)\n",
    "    if avg == 0.0:\n",
    "        return 1.0\n",
    "    return max(0, 1-(final/avg))"
   ],
   "id": "d0dfd242eee5940b"
  },
  {
   "metadata": {},
   "cell_type": "code",
   "outputs": [],
   "execution_count": null,
   "source": [
    "def rate_mc_simulation(paths, true_value, runtime, weights):\n",
    "    mean_estimate = np.mean(paths)\n",
    "    variance = np.var(paths)\n",
    "    bias = mean_estimate - np.mean(true_value)\n",
    "    mse = bias**2 + variance\n",
    "    efficiency = 1 / (runtime * mse)\n",
    "\n",
    "    robustness = test_robustness(paths.mean(axis=1), 150)\n",
    "\n",
    "    convergence_rate = compute_convergence_rate(paths.mean(axis=1), true_value)\n",
    "\n",
    "    score = (\n",
    "            weights[0] * convergence_rate +\n",
    "            weights[1] * (1 / np.std(paths)) +\n",
    "            weights[2] * (1 / abs(bias)) +\n",
    "            weights[3] * (1 / variance) +\n",
    "            weights[4] * efficiency +\n",
    "            weights[5] * robustness)\n",
    "    return score"
   ],
   "id": "691e86a0fdadcae6"
  },
  {
   "metadata": {},
   "cell_type": "code",
   "outputs": [],
   "execution_count": null,
   "source": [
    "weights=[1/6,1/6,1/6,1/6,1/6,1/6]\n",
    "pd.Series(pp['EWSA.AS'].mean(axis=1))"
   ],
   "id": "a84bd1595d08699d"
  },
  {
   "metadata": {},
   "cell_type": "code",
   "outputs": [],
   "execution_count": null,
   "source": "print((rate_mc_simulation(pp['EWSA.AS'], funds_w_names[\"EWSA.AS\"][\"Close\"], 0.1, weights)))",
   "id": "41617eb1eccb7539"
  },
  {
   "metadata": {},
   "cell_type": "markdown",
   "source": "REDESIGN PORTFOLIO",
   "id": "c09d7f94bcdd2e9c"
  },
  {
   "metadata": {},
   "cell_type": "code",
   "outputs": [],
   "execution_count": null,
   "source": [
    "'''\n",
    "list of predictions for each fund in portfolio\n",
    "'''\n",
    "portfolio = funds_for_hedge\n",
    "preds_for_portfolio = []\n",
    "for i in portfolio:\n",
    "    preds_for_portfolio.append(predict(29, funds_w_names[i]))"
   ],
   "id": "52b143b0d5ec2b53"
  },
  {
   "metadata": {},
   "cell_type": "code",
   "outputs": [],
   "execution_count": null,
   "source": [
    "'''\n",
    "calculate ratio of a single fund based on provided predictions\n",
    "'''\n",
    "def calculate_funds_ratio(funds_preds, fund: pd.DataFrame):\n",
    "    funds_return = fund[\"Close\"].iloc[-1] - funds_preds[\"Close\"].iloc[-1]\n",
    "    funds_risk = volatility_mc(monte_carlo_sim(fund))\n",
    "    return funds_return/funds_risk, funds_return"
   ],
   "id": "32963c1771d641c4"
  },
  {
   "metadata": {},
   "cell_type": "code",
   "outputs": [],
   "execution_count": null,
   "source": [
    "from scipy.optimize import minimize\n",
    "def redistribute_funds(funds_dfs:list, weights: list):\n",
    "    \"\"\"\n",
    "    for a given portfolio, calculate risk and return for next month for each asset and decide whether to buy more of it\n",
    "    funds_dfs is a list of funds dataframes based on portfolio\n",
    "    weights is a list of weights for each funds\n",
    "    \"\"\"\n",
    "\n",
    "    def objective(w):\n",
    "        portfolio_score = 0\n",
    "        for i in (range(len(funds_dfs))):\n",
    "            ratio, returnn, preds = calculate_funds_ratio(preds_for_portfolio, funds_dfs[i])\n",
    "            portfolio_score += ratio * w[i]\n",
    "            return -portfolio_score\n",
    "\n",
    "    constraints = ({'type': 'eq', 'fun': lambda w: np.sum(w) - 1})\n",
    "    bounds = [(0,1)] * len(funds_dfs)\n",
    "    result = minimize(objective, np.ndarray(weights), method='SLSQP', bounds=bounds, constraints=constraints)\n",
    "    optimized_weights = result.x\n",
    "    optimized_score = result.fun\n",
    "\n",
    "    returns = [calculate_funds_ratio(preds_for_portfolio[i], funds_dfs[i])[1] for i in range(len(portfolio))]\n",
    "    final_gain = optimized_weights*returns\n",
    "\n",
    "    return optimized_weights, optimized_score, final_gain"
   ],
   "id": "723721d1a3514b3c"
  },
  {
   "metadata": {},
   "cell_type": "markdown",
   "source": "works for small Ns, max 10",
   "id": "915261e2c3213b83"
  },
  {
   "metadata": {},
   "cell_type": "code",
   "outputs": [],
   "execution_count": null,
   "source": [
    "import numpy as np\n",
    "import pandas as pd\n",
    "\n",
    "def design_optimal_portfolio(N: int):\n",
    "    available_funds = list(funds_w_names.keys())\n",
    "    fund_combinations = list(combinations(available_funds, N))\n",
    "\n",
    "    best_score = -np.inf\n",
    "    best_weights = None\n",
    "    best_selected_funds = None\n",
    "    best_final_gains = None\n",
    "\n",
    "    for selected_funds in fund_combinations:\n",
    "\n",
    "        funds_dfs = [funds_w_names[fund] for fund in selected_funds]\n",
    "\n",
    "\n",
    "        preds_for_selected_funds = []\n",
    "        for fund in selected_funds:\n",
    "            preds_for_selected_funds.append(predict(29, funds_w_names[fund]))\n",
    "\n",
    "\n",
    "        def objective(w):\n",
    "            portfolio_score = 0\n",
    "            for i in range(len(funds_dfs)):\n",
    "                ratio, returnn, _ = calculate_funds_ratio(preds_for_selected_funds[i], funds_dfs[i])\n",
    "                portfolio_score += ratio * w[i]\n",
    "            return -portfolio_score\n",
    "\n",
    "\n",
    "        constraints = ({'type': 'eq', 'fun': lambda w: np.sum(w) - 1})\n",
    "        bounds = [(0, 1)] * N\n",
    "\n",
    "        initial_weights = np.ones(N) / N\n",
    "\n",
    "        result = minimize(objective, initial_weights, method='SLSQP', bounds=bounds, constraints=constraints)\n",
    "\n",
    "        optimized_weights = result.x\n",
    "        optimized_score = -result.fun\n",
    "\n",
    "        returns = [calculate_funds_ratio(preds_for_selected_funds[i], funds_dfs[i])[1] for i in range(N)]\n",
    "        final_gains = np.dot(optimized_weights, returns)\n",
    "\n",
    "        if optimized_score > best_score:\n",
    "            best_score = optimized_score\n",
    "            best_weights = optimized_weights\n",
    "            best_selected_funds = selected_funds\n",
    "            best_final_gains = final_gains\n",
    "\n",
    "    return best_weights, best_score, best_final_gains, best_selected_funds"
   ],
   "id": "cc7f95368d8d099c"
  },
  {
   "metadata": {},
   "cell_type": "code",
   "outputs": [],
   "execution_count": null,
   "source": [
    "N = 5\n",
    "best_weights, best_score, best_final_gains, best_selected_funds = design_optimal_portfolio(N)\n",
    "\n",
    "print(\"Selected funds:\", best_selected_funds)\n",
    "print(\"Optimized weights:\", best_weights)\n",
    "print(\"Best gain:\", best_final_gains)"
   ],
   "id": "115ac169084fe218"
  },
  {
   "metadata": {},
   "cell_type": "markdown",
   "source": "works for large Ns",
   "id": "955fadf5bb34bb9"
  },
  {
   "metadata": {},
   "cell_type": "code",
   "outputs": [],
   "execution_count": null,
   "source": [
    "import random\n",
    "from scipy.optimize import minimize\n",
    "from itertools import combinations\n",
    "\n",
    "def calculate_fitness(preds_for_selected_funds, funds_dfs, weights):\n",
    "    portfolio_score = 0\n",
    "    for i in range(len(funds_dfs)):\n",
    "        ratio, returnn, _ = calculate_funds_ratio(preds_for_selected_funds[i], funds_dfs[i])\n",
    "        portfolio_score += ratio * weights[i]\n",
    "    return portfolio_score\n",
    "\n",
    "def genetic_algorithm(funds_w_names, N, population_size=50, generations=100, mutation_rate=0.1, crossover_rate=0.8):\n",
    "    available_funds = list(funds_w_names.keys())\n",
    "    fund_combinations = list(combinations(available_funds, N))\n",
    "\n",
    "    population = []\n",
    "    for _ in range(population_size):\n",
    "        selected_funds = random.sample(fund_combinations, 1)[0]\n",
    "        weights = np.random.rand(N)\n",
    "        weights /= np.sum(weights)\n",
    "        population.append((selected_funds, weights))\n",
    "\n",
    "    best_solution = None\n",
    "    best_fitness = -np.inf\n",
    "\n",
    "    for generation in range(generations):\n",
    "        fitness_scores = []\n",
    "        preds_for_selected_funds_list = []\n",
    "        funds_dfs_list = []\n",
    "\n",
    "        for selected_funds, _ in population:\n",
    "            funds_dfs = [funds_w_names[fund] for fund in selected_funds]\n",
    "            preds_for_selected_funds = []\n",
    "            for fund in selected_funds:\n",
    "                preds_for_selected_funds.append(predict(29, funds_w_names[fund]))\n",
    "            preds_for_selected_funds_list.append(preds_for_selected_funds)\n",
    "            funds_dfs_list.append(funds_dfs)\n",
    "\n",
    "        for i in range(population_size):\n",
    "            selected_funds, weights = population[i]\n",
    "            fitness = calculate_fitness(preds_for_selected_funds_list[i], funds_dfs_list[i], weights)\n",
    "            fitness_scores.append(fitness)\n",
    "            if fitness > best_fitness:\n",
    "                best_fitness = fitness\n",
    "                best_solution = (selected_funds, weights)\n",
    "\n",
    "        selected_parents = []\n",
    "        fitness_sum = np.sum(fitness_scores)\n",
    "        prob = [score / fitness_sum for score in fitness_scores]\n",
    "\n",
    "        for _ in range(population_size):\n",
    "            selected_parent = random.choices(population, prob)[0]\n",
    "            selected_parents.append(selected_parent)\n",
    "\n",
    "        new_population = []\n",
    "        for i in range(0, population_size, 2):\n",
    "            parent1, parent2 = selected_parents[i], selected_parents[i+1]\n",
    "            if random.random() < crossover_rate:\n",
    "                crossover_point = random.randint(1, N-1)  # Crossover at a random point\n",
    "                offspring1 = (parent1[0][:crossover_point] + parent2[0][crossover_point:],\n",
    "                              np.concatenate((parent1[1][:crossover_point], parent2[1][crossover_point:])))\n",
    "                offspring2 = (parent2[0][:crossover_point] + parent1[0][crossover_point:],\n",
    "                              np.concatenate((parent2[1][:crossover_point], parent1[1][crossover_point:])))\n",
    "                new_population.extend([offspring1, offspring2])\n",
    "            else:\n",
    "                new_population.extend([parent1, parent2])\n",
    "\n",
    "        for i in range(population_size):\n",
    "            if random.random() < mutation_rate:\n",
    "                selected_funds, weights = new_population[i]\n",
    "                mutation_idx = random.randint(0, N-1)\n",
    "                weights[mutation_idx] = random.random()\n",
    "                weights /= np.sum(weights)  # Normalize weights to sum to 1\n",
    "                new_population[i] = (selected_funds, weights)\n",
    "\n",
    "        population = new_population\n",
    "\n",
    "    return best_solution, best_fitness"
   ],
   "id": "eb444c1d8707e964"
  },
  {
   "metadata": {},
   "cell_type": "code",
   "outputs": [],
   "execution_count": null,
   "source": [
    "N = 5\n",
    "best_solution, best_fitness = genetic_algorithm(funds_w_names, N)\n",
    "\n",
    "selected_funds, optimized_weights = best_solution\n",
    "print(\"Selected funds:\", selected_funds)\n",
    "print(\"Optimized weights:\", optimized_weights)\n",
    "print(\"Best fitness (risk-adjusted return):\", best_fitness)"
   ],
   "id": "491d320ac9d9b299"
  }
 ],
 "metadata": {
  "kernelspec": {
   "display_name": "Python 3",
   "language": "python",
   "name": "python3"
  },
  "language_info": {
   "codemirror_mode": {
    "name": "ipython",
    "version": 2
   },
   "file_extension": ".py",
   "mimetype": "text/x-python",
   "name": "python",
   "nbconvert_exporter": "python",
   "pygments_lexer": "ipython2",
   "version": "2.7.6"
  }
 },
 "nbformat": 4,
 "nbformat_minor": 5
}
